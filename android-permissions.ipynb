{
  "cells": [
    {
      "cell_type": "markdown",
      "metadata": {},
      "source": [
        "Dependencias\n",
        "~~~bash\n",
        "pip install numpy pandas scikit-learn seaborn\n",
        "~~~"
      ]
    },
    {
      "cell_type": "code",
      "execution_count": 3,
      "metadata": {
        "id": "ylIA5dhBMOsw"
      },
      "outputs": [],
      "source": [
        "import numpy as np\n",
        "import pandas as pd"
      ]
    },
    {
      "cell_type": "code",
      "execution_count": 4,
      "metadata": {
        "id": "GUVHvBU6TBGx"
      },
      "outputs": [],
      "source": [
        "df = pd.read_csv('https://raw.githubusercontent.com/urcuqui/WhiteHat/master/Research/datasets/android_permissions.csv', sep=';')"
      ]
    },
    {
      "cell_type": "code",
      "execution_count": 5,
      "metadata": {
        "colab": {
          "base_uri": "https://localhost:8080/",
          "height": 256
        },
        "id": "1BfoBi55T3An",
        "outputId": "9691b4ae-15a0-4bd1-bd93-69ac48af188b"
      },
      "outputs": [
        {
          "data": {
            "text/html": [
              "<div>\n",
              "<style scoped>\n",
              "    .dataframe tbody tr th:only-of-type {\n",
              "        vertical-align: middle;\n",
              "    }\n",
              "\n",
              "    .dataframe tbody tr th {\n",
              "        vertical-align: top;\n",
              "    }\n",
              "\n",
              "    .dataframe thead th {\n",
              "        text-align: right;\n",
              "    }\n",
              "</style>\n",
              "<table border=\"1\" class=\"dataframe\">\n",
              "  <thead>\n",
              "    <tr style=\"text-align: right;\">\n",
              "      <th></th>\n",
              "      <th>android</th>\n",
              "      <th>android.app.cts.permission.TEST_GRANTED</th>\n",
              "      <th>android.intent.category.MASTER_CLEAR.permission.C2D_MESSAGE</th>\n",
              "      <th>android.os.cts.permission.TEST_GRANTED</th>\n",
              "      <th>android.permission.ACCESS_ALL_DOWNLOADS</th>\n",
              "      <th>android.permission.ACCESS_ALL_EXTERNAL_STORAGE</th>\n",
              "      <th>android.permission.ACCESS_BLUETOOTH_SHARE</th>\n",
              "      <th>android.permission.ACCESS_CACHE_FILESYSTEM</th>\n",
              "      <th>android.permission.ACCESS_CHECKIN_PROPERTIES</th>\n",
              "      <th>android.permission.ACCESS_COARSE_LOCATION</th>\n",
              "      <th>...</th>\n",
              "      <th>com.android.voicemail.permission.WRITE_VOICEMAIL</th>\n",
              "      <th>com.foo.mypermission</th>\n",
              "      <th>com.foo.mypermission2</th>\n",
              "      <th>org.chromium.chrome.shell.permission.C2D_MESSAGE</th>\n",
              "      <th>org.chromium.chrome.shell.permission.DEBUG</th>\n",
              "      <th>org.chromium.chrome.shell.permission.SANDBOX</th>\n",
              "      <th>org.chromium.chromecast.shell.permission.SANDBOX</th>\n",
              "      <th>org.chromium.content_shell.permission.SANDBOX</th>\n",
              "      <th>test_permission</th>\n",
              "      <th>type</th>\n",
              "    </tr>\n",
              "  </thead>\n",
              "  <tbody>\n",
              "    <tr>\n",
              "      <th>0</th>\n",
              "      <td>0</td>\n",
              "      <td>0</td>\n",
              "      <td>0</td>\n",
              "      <td>0</td>\n",
              "      <td>0</td>\n",
              "      <td>0</td>\n",
              "      <td>0</td>\n",
              "      <td>0</td>\n",
              "      <td>0</td>\n",
              "      <td>0</td>\n",
              "      <td>...</td>\n",
              "      <td>0</td>\n",
              "      <td>0</td>\n",
              "      <td>0</td>\n",
              "      <td>0</td>\n",
              "      <td>0</td>\n",
              "      <td>0</td>\n",
              "      <td>0</td>\n",
              "      <td>0</td>\n",
              "      <td>0</td>\n",
              "      <td>1</td>\n",
              "    </tr>\n",
              "    <tr>\n",
              "      <th>1</th>\n",
              "      <td>0</td>\n",
              "      <td>0</td>\n",
              "      <td>0</td>\n",
              "      <td>0</td>\n",
              "      <td>0</td>\n",
              "      <td>0</td>\n",
              "      <td>0</td>\n",
              "      <td>0</td>\n",
              "      <td>0</td>\n",
              "      <td>0</td>\n",
              "      <td>...</td>\n",
              "      <td>0</td>\n",
              "      <td>0</td>\n",
              "      <td>0</td>\n",
              "      <td>0</td>\n",
              "      <td>0</td>\n",
              "      <td>0</td>\n",
              "      <td>0</td>\n",
              "      <td>0</td>\n",
              "      <td>0</td>\n",
              "      <td>1</td>\n",
              "    </tr>\n",
              "    <tr>\n",
              "      <th>2</th>\n",
              "      <td>0</td>\n",
              "      <td>0</td>\n",
              "      <td>0</td>\n",
              "      <td>0</td>\n",
              "      <td>0</td>\n",
              "      <td>0</td>\n",
              "      <td>0</td>\n",
              "      <td>0</td>\n",
              "      <td>0</td>\n",
              "      <td>0</td>\n",
              "      <td>...</td>\n",
              "      <td>0</td>\n",
              "      <td>0</td>\n",
              "      <td>0</td>\n",
              "      <td>0</td>\n",
              "      <td>0</td>\n",
              "      <td>0</td>\n",
              "      <td>0</td>\n",
              "      <td>0</td>\n",
              "      <td>0</td>\n",
              "      <td>1</td>\n",
              "    </tr>\n",
              "    <tr>\n",
              "      <th>3</th>\n",
              "      <td>0</td>\n",
              "      <td>0</td>\n",
              "      <td>0</td>\n",
              "      <td>0</td>\n",
              "      <td>0</td>\n",
              "      <td>0</td>\n",
              "      <td>0</td>\n",
              "      <td>0</td>\n",
              "      <td>0</td>\n",
              "      <td>0</td>\n",
              "      <td>...</td>\n",
              "      <td>0</td>\n",
              "      <td>0</td>\n",
              "      <td>0</td>\n",
              "      <td>0</td>\n",
              "      <td>0</td>\n",
              "      <td>0</td>\n",
              "      <td>0</td>\n",
              "      <td>0</td>\n",
              "      <td>0</td>\n",
              "      <td>1</td>\n",
              "    </tr>\n",
              "    <tr>\n",
              "      <th>4</th>\n",
              "      <td>0</td>\n",
              "      <td>0</td>\n",
              "      <td>0</td>\n",
              "      <td>0</td>\n",
              "      <td>0</td>\n",
              "      <td>0</td>\n",
              "      <td>0</td>\n",
              "      <td>0</td>\n",
              "      <td>0</td>\n",
              "      <td>0</td>\n",
              "      <td>...</td>\n",
              "      <td>0</td>\n",
              "      <td>0</td>\n",
              "      <td>0</td>\n",
              "      <td>0</td>\n",
              "      <td>0</td>\n",
              "      <td>0</td>\n",
              "      <td>0</td>\n",
              "      <td>0</td>\n",
              "      <td>0</td>\n",
              "      <td>1</td>\n",
              "    </tr>\n",
              "  </tbody>\n",
              "</table>\n",
              "<p>5 rows × 331 columns</p>\n",
              "</div>"
            ],
            "text/plain": [
              "   android  android.app.cts.permission.TEST_GRANTED  \\\n",
              "0        0                                        0   \n",
              "1        0                                        0   \n",
              "2        0                                        0   \n",
              "3        0                                        0   \n",
              "4        0                                        0   \n",
              "\n",
              "   android.intent.category.MASTER_CLEAR.permission.C2D_MESSAGE  \\\n",
              "0                                                  0             \n",
              "1                                                  0             \n",
              "2                                                  0             \n",
              "3                                                  0             \n",
              "4                                                  0             \n",
              "\n",
              "   android.os.cts.permission.TEST_GRANTED  \\\n",
              "0                                       0   \n",
              "1                                       0   \n",
              "2                                       0   \n",
              "3                                       0   \n",
              "4                                       0   \n",
              "\n",
              "   android.permission.ACCESS_ALL_DOWNLOADS  \\\n",
              "0                                        0   \n",
              "1                                        0   \n",
              "2                                        0   \n",
              "3                                        0   \n",
              "4                                        0   \n",
              "\n",
              "   android.permission.ACCESS_ALL_EXTERNAL_STORAGE  \\\n",
              "0                                               0   \n",
              "1                                               0   \n",
              "2                                               0   \n",
              "3                                               0   \n",
              "4                                               0   \n",
              "\n",
              "   android.permission.ACCESS_BLUETOOTH_SHARE  \\\n",
              "0                                          0   \n",
              "1                                          0   \n",
              "2                                          0   \n",
              "3                                          0   \n",
              "4                                          0   \n",
              "\n",
              "   android.permission.ACCESS_CACHE_FILESYSTEM  \\\n",
              "0                                           0   \n",
              "1                                           0   \n",
              "2                                           0   \n",
              "3                                           0   \n",
              "4                                           0   \n",
              "\n",
              "   android.permission.ACCESS_CHECKIN_PROPERTIES  \\\n",
              "0                                             0   \n",
              "1                                             0   \n",
              "2                                             0   \n",
              "3                                             0   \n",
              "4                                             0   \n",
              "\n",
              "   android.permission.ACCESS_COARSE_LOCATION  ...  \\\n",
              "0                                          0  ...   \n",
              "1                                          0  ...   \n",
              "2                                          0  ...   \n",
              "3                                          0  ...   \n",
              "4                                          0  ...   \n",
              "\n",
              "   com.android.voicemail.permission.WRITE_VOICEMAIL  com.foo.mypermission  \\\n",
              "0                                                 0                     0   \n",
              "1                                                 0                     0   \n",
              "2                                                 0                     0   \n",
              "3                                                 0                     0   \n",
              "4                                                 0                     0   \n",
              "\n",
              "   com.foo.mypermission2  org.chromium.chrome.shell.permission.C2D_MESSAGE  \\\n",
              "0                      0                                                 0   \n",
              "1                      0                                                 0   \n",
              "2                      0                                                 0   \n",
              "3                      0                                                 0   \n",
              "4                      0                                                 0   \n",
              "\n",
              "   org.chromium.chrome.shell.permission.DEBUG  \\\n",
              "0                                           0   \n",
              "1                                           0   \n",
              "2                                           0   \n",
              "3                                           0   \n",
              "4                                           0   \n",
              "\n",
              "   org.chromium.chrome.shell.permission.SANDBOX  \\\n",
              "0                                             0   \n",
              "1                                             0   \n",
              "2                                             0   \n",
              "3                                             0   \n",
              "4                                             0   \n",
              "\n",
              "   org.chromium.chromecast.shell.permission.SANDBOX  \\\n",
              "0                                                 0   \n",
              "1                                                 0   \n",
              "2                                                 0   \n",
              "3                                                 0   \n",
              "4                                                 0   \n",
              "\n",
              "   org.chromium.content_shell.permission.SANDBOX  test_permission  type  \n",
              "0                                              0                0     1  \n",
              "1                                              0                0     1  \n",
              "2                                              0                0     1  \n",
              "3                                              0                0     1  \n",
              "4                                              0                0     1  \n",
              "\n",
              "[5 rows x 331 columns]"
            ]
          },
          "execution_count": 5,
          "metadata": {},
          "output_type": "execute_result"
        }
      ],
      "source": [
        "df.head()"
      ]
    },
    {
      "cell_type": "code",
      "execution_count": 6,
      "metadata": {
        "colab": {
          "base_uri": "https://localhost:8080/"
        },
        "id": "7zVQayL9VZDQ",
        "outputId": "05ff3078-49dc-441d-a991-54403ebd6afa"
      },
      "outputs": [
        {
          "data": {
            "text/plain": [
              "(398, 331)"
            ]
          },
          "execution_count": 6,
          "metadata": {},
          "output_type": "execute_result"
        }
      ],
      "source": [
        "df.shape"
      ]
    },
    {
      "cell_type": "code",
      "execution_count": 7,
      "metadata": {
        "colab": {
          "base_uri": "https://localhost:8080/"
        },
        "id": "y6WgNmYfV0d0",
        "outputId": "9ecce911-bd51-4418-c4a7-00b4aff2c108"
      },
      "outputs": [
        {
          "data": {
            "text/plain": [
              "type\n",
              "1    199\n",
              "0    199\n",
              "Name: count, dtype: int64"
            ]
          },
          "execution_count": 7,
          "metadata": {},
          "output_type": "execute_result"
        }
      ],
      "source": [
        "df.type.value_counts()"
      ]
    },
    {
      "cell_type": "code",
      "execution_count": 8,
      "metadata": {
        "colab": {
          "base_uri": "https://localhost:8080/",
          "height": 193
        },
        "id": "h_-hCzuaWuBp",
        "outputId": "38d46b77-c968-4f8a-ac0b-edfda907857c"
      },
      "outputs": [
        {
          "data": {
            "text/html": [
              "<div>\n",
              "<style scoped>\n",
              "    .dataframe tbody tr th:only-of-type {\n",
              "        vertical-align: middle;\n",
              "    }\n",
              "\n",
              "    .dataframe tbody tr th {\n",
              "        vertical-align: top;\n",
              "    }\n",
              "\n",
              "    .dataframe thead th {\n",
              "        text-align: right;\n",
              "    }\n",
              "</style>\n",
              "<table border=\"1\" class=\"dataframe\">\n",
              "  <thead>\n",
              "    <tr style=\"text-align: right;\">\n",
              "      <th></th>\n",
              "      <th>android</th>\n",
              "      <th>android.app.cts.permission.TEST_GRANTED</th>\n",
              "      <th>android.intent.category.MASTER_CLEAR.permission.C2D_MESSAGE</th>\n",
              "      <th>android.os.cts.permission.TEST_GRANTED</th>\n",
              "      <th>android.permission.ACCESS_ALL_DOWNLOADS</th>\n",
              "      <th>android.permission.ACCESS_ALL_EXTERNAL_STORAGE</th>\n",
              "      <th>android.permission.ACCESS_BLUETOOTH_SHARE</th>\n",
              "      <th>android.permission.ACCESS_CACHE_FILESYSTEM</th>\n",
              "      <th>android.permission.ACCESS_CHECKIN_PROPERTIES</th>\n",
              "      <th>android.permission.ACCESS_COARSE_LOCATION</th>\n",
              "      <th>...</th>\n",
              "      <th>com.android.voicemail.permission.WRITE_VOICEMAIL</th>\n",
              "      <th>com.foo.mypermission</th>\n",
              "      <th>com.foo.mypermission2</th>\n",
              "      <th>org.chromium.chrome.shell.permission.C2D_MESSAGE</th>\n",
              "      <th>org.chromium.chrome.shell.permission.DEBUG</th>\n",
              "      <th>org.chromium.chrome.shell.permission.SANDBOX</th>\n",
              "      <th>org.chromium.chromecast.shell.permission.SANDBOX</th>\n",
              "      <th>org.chromium.content_shell.permission.SANDBOX</th>\n",
              "      <th>test_permission</th>\n",
              "      <th>type</th>\n",
              "    </tr>\n",
              "  </thead>\n",
              "  <tbody>\n",
              "    <tr>\n",
              "      <th>196</th>\n",
              "      <td>0</td>\n",
              "      <td>0</td>\n",
              "      <td>0</td>\n",
              "      <td>0</td>\n",
              "      <td>0</td>\n",
              "      <td>0</td>\n",
              "      <td>0</td>\n",
              "      <td>0</td>\n",
              "      <td>0</td>\n",
              "      <td>1</td>\n",
              "      <td>...</td>\n",
              "      <td>0</td>\n",
              "      <td>0</td>\n",
              "      <td>0</td>\n",
              "      <td>0</td>\n",
              "      <td>0</td>\n",
              "      <td>0</td>\n",
              "      <td>0</td>\n",
              "      <td>0</td>\n",
              "      <td>0</td>\n",
              "      <td>1</td>\n",
              "    </tr>\n",
              "    <tr>\n",
              "      <th>197</th>\n",
              "      <td>0</td>\n",
              "      <td>0</td>\n",
              "      <td>0</td>\n",
              "      <td>0</td>\n",
              "      <td>0</td>\n",
              "      <td>0</td>\n",
              "      <td>0</td>\n",
              "      <td>0</td>\n",
              "      <td>0</td>\n",
              "      <td>0</td>\n",
              "      <td>...</td>\n",
              "      <td>0</td>\n",
              "      <td>0</td>\n",
              "      <td>0</td>\n",
              "      <td>0</td>\n",
              "      <td>0</td>\n",
              "      <td>0</td>\n",
              "      <td>0</td>\n",
              "      <td>0</td>\n",
              "      <td>0</td>\n",
              "      <td>1</td>\n",
              "    </tr>\n",
              "    <tr>\n",
              "      <th>198</th>\n",
              "      <td>0</td>\n",
              "      <td>0</td>\n",
              "      <td>0</td>\n",
              "      <td>0</td>\n",
              "      <td>0</td>\n",
              "      <td>0</td>\n",
              "      <td>0</td>\n",
              "      <td>0</td>\n",
              "      <td>0</td>\n",
              "      <td>0</td>\n",
              "      <td>...</td>\n",
              "      <td>0</td>\n",
              "      <td>0</td>\n",
              "      <td>0</td>\n",
              "      <td>0</td>\n",
              "      <td>0</td>\n",
              "      <td>0</td>\n",
              "      <td>0</td>\n",
              "      <td>0</td>\n",
              "      <td>0</td>\n",
              "      <td>1</td>\n",
              "    </tr>\n",
              "  </tbody>\n",
              "</table>\n",
              "<p>3 rows × 331 columns</p>\n",
              "</div>"
            ],
            "text/plain": [
              "     android  android.app.cts.permission.TEST_GRANTED  \\\n",
              "196        0                                        0   \n",
              "197        0                                        0   \n",
              "198        0                                        0   \n",
              "\n",
              "     android.intent.category.MASTER_CLEAR.permission.C2D_MESSAGE  \\\n",
              "196                                                  0             \n",
              "197                                                  0             \n",
              "198                                                  0             \n",
              "\n",
              "     android.os.cts.permission.TEST_GRANTED  \\\n",
              "196                                       0   \n",
              "197                                       0   \n",
              "198                                       0   \n",
              "\n",
              "     android.permission.ACCESS_ALL_DOWNLOADS  \\\n",
              "196                                        0   \n",
              "197                                        0   \n",
              "198                                        0   \n",
              "\n",
              "     android.permission.ACCESS_ALL_EXTERNAL_STORAGE  \\\n",
              "196                                               0   \n",
              "197                                               0   \n",
              "198                                               0   \n",
              "\n",
              "     android.permission.ACCESS_BLUETOOTH_SHARE  \\\n",
              "196                                          0   \n",
              "197                                          0   \n",
              "198                                          0   \n",
              "\n",
              "     android.permission.ACCESS_CACHE_FILESYSTEM  \\\n",
              "196                                           0   \n",
              "197                                           0   \n",
              "198                                           0   \n",
              "\n",
              "     android.permission.ACCESS_CHECKIN_PROPERTIES  \\\n",
              "196                                             0   \n",
              "197                                             0   \n",
              "198                                             0   \n",
              "\n",
              "     android.permission.ACCESS_COARSE_LOCATION  ...  \\\n",
              "196                                          1  ...   \n",
              "197                                          0  ...   \n",
              "198                                          0  ...   \n",
              "\n",
              "     com.android.voicemail.permission.WRITE_VOICEMAIL  com.foo.mypermission  \\\n",
              "196                                                 0                     0   \n",
              "197                                                 0                     0   \n",
              "198                                                 0                     0   \n",
              "\n",
              "     com.foo.mypermission2  org.chromium.chrome.shell.permission.C2D_MESSAGE  \\\n",
              "196                      0                                                 0   \n",
              "197                      0                                                 0   \n",
              "198                      0                                                 0   \n",
              "\n",
              "     org.chromium.chrome.shell.permission.DEBUG  \\\n",
              "196                                           0   \n",
              "197                                           0   \n",
              "198                                           0   \n",
              "\n",
              "     org.chromium.chrome.shell.permission.SANDBOX  \\\n",
              "196                                             0   \n",
              "197                                             0   \n",
              "198                                             0   \n",
              "\n",
              "     org.chromium.chromecast.shell.permission.SANDBOX  \\\n",
              "196                                                 0   \n",
              "197                                                 0   \n",
              "198                                                 0   \n",
              "\n",
              "     org.chromium.content_shell.permission.SANDBOX  test_permission  type  \n",
              "196                                              0                0     1  \n",
              "197                                              0                0     1  \n",
              "198                                              0                0     1  \n",
              "\n",
              "[3 rows x 331 columns]"
            ]
          },
          "execution_count": 8,
          "metadata": {},
          "output_type": "execute_result"
        }
      ],
      "source": [
        "df[df.type == 1].tail(3)"
      ]
    },
    {
      "cell_type": "code",
      "execution_count": 9,
      "metadata": {
        "colab": {
          "base_uri": "https://localhost:8080/"
        },
        "id": "_L7NXsb4XFnx",
        "outputId": "0f3f6f21-e27f-4ce7-8bec-b5a3061a6e3f"
      },
      "outputs": [
        {
          "data": {
            "text/plain": [
              "type                                         199\n",
              "android.permission.INTERNET                  195\n",
              "android.permission.READ_PHONE_STATE          190\n",
              "android.permission.ACCESS_NETWORK_STATE      167\n",
              "android.permission.WRITE_EXTERNAL_STORAGE    136\n",
              "android.permission.ACCESS_WIFI_STATE         135\n",
              "android.permission.READ_SMS                  124\n",
              "android.permission.WRITE_SMS                 104\n",
              "android.permission.RECEIVE_BOOT_COMPLETED    102\n",
              "android.permission.ACCESS_COARSE_LOCATION     80\n",
              "android.permission.CHANGE_WIFI_STATE          75\n",
              "android.permission.ACCESS_FINE_LOCATION       74\n",
              "android.permission.READ_CONTACTS              71\n",
              "android.permission.SEND_SMS                   70\n",
              "android.permission.VIBRATE                    68\n",
              "dtype: int64"
            ]
          },
          "execution_count": 9,
          "metadata": {},
          "output_type": "execute_result"
        }
      ],
      "source": [
        "df[df.type == 1].sum(axis=0).sort_values(ascending=False)[0:15]"
      ]
    },
    {
      "cell_type": "code",
      "execution_count": 10,
      "metadata": {
        "colab": {
          "base_uri": "https://localhost:8080/"
        },
        "id": "s17bSHYxYcc7",
        "outputId": "51ba0bd2-0ff3-4c3d-b770-1ee0bd715b8d"
      },
      "outputs": [
        {
          "data": {
            "text/plain": [
              "android.permission.INTERNET                  104\n",
              "android.permission.WRITE_EXTERNAL_STORAGE     76\n",
              "android.permission.ACCESS_NETWORK_STATE       62\n",
              "android.permission.WAKE_LOCK                  36\n",
              "android.permission.RECEIVE_BOOT_COMPLETED     30\n",
              "android.permission.ACCESS_WIFI_STATE          29\n",
              "android.permission.READ_PHONE_STATE           24\n",
              "android.permission.VIBRATE                    21\n",
              "android.permission.ACCESS_FINE_LOCATION       18\n",
              "android.permission.READ_EXTERNAL_STORAGE      15\n",
              "android.permission.READ_CONTACTS              13\n",
              "android.permission.CHANGE_WIFI_STATE          13\n",
              "android.permission.CAMERA                     13\n",
              "android.permission.ACCESS_COARSE_LOCATION     13\n",
              "android.permission.GET_ACCOUNTS               11\n",
              "dtype: int64"
            ]
          },
          "execution_count": 10,
          "metadata": {},
          "output_type": "execute_result"
        }
      ],
      "source": [
        "df[df.type == 0].sum(axis=0).sort_values(ascending=False)[0:15]"
      ]
    },
    {
      "cell_type": "code",
      "execution_count": null,
      "metadata": {
        "id": "rd2umj8yY7Q4"
      },
      "outputs": [],
      "source": []
    },
    {
      "cell_type": "code",
      "execution_count": 11,
      "metadata": {
        "colab": {
          "base_uri": "https://localhost:8080/",
          "height": 768
        },
        "id": "IjBf10gjY7kV",
        "outputId": "dda2e21b-6a1a-47b9-e345-1635b46578e2"
      },
      "outputs": [
        {
          "data": {
            "text/plain": [
              "<Axes: >"
            ]
          },
          "execution_count": 11,
          "metadata": {},
          "output_type": "execute_result"
        },
        {
          "data": {
            "image/png": "[encoded data removed]",
            "text/plain": [
              "<Figure size 640x480 with 1 Axes>"
            ]
          },
          "metadata": {},
          "output_type": "display_data"
        }
      ],
      "source": [
        "df[df.type == 0].sum(axis=0).sort_values(ascending=False)[0:15].plot(kind='bar',color='blue')"
      ]
    },
    {
      "cell_type": "code",
      "execution_count": 12,
      "metadata": {
        "id": "0I62FXtlZimN"
      },
      "outputs": [],
      "source": [
        "import seaborn as sns"
      ]
    },
    {
      "cell_type": "code",
      "execution_count": 13,
      "metadata": {
        "colab": {
          "base_uri": "https://localhost:8080/",
          "height": 466
        },
        "id": "5pc2brhYZxUg",
        "outputId": "f6736f74-e5de-4acc-9226-cf7b202a5c73"
      },
      "outputs": [
        {
          "data": {
            "text/plain": [
              "<Axes: xlabel='android.permission.INTERNET', ylabel='count'>"
            ]
          },
          "execution_count": 13,
          "metadata": {},
          "output_type": "execute_result"
        },
        {
          "data": {
            "image/png": "[encoded data removed]",
            "text/plain": [
              "<Figure size 640x480 with 1 Axes>"
            ]
          },
          "metadata": {},
          "output_type": "display_data"
        }
      ],
      "source": [
        "sns.countplot(x='android.permission.INTERNET', hue=\"type\", data=df)"
      ]
    },
    {
      "cell_type": "code",
      "execution_count": 14,
      "metadata": {
        "id": "JIc_EcjqbAl0"
      },
      "outputs": [],
      "source": [
        "from sklearn import tree\n",
        "from sklearn.model_selection import train_test_split #HOLD-OUT, CROSS  VALIDATION|"
      ]
    },
    {
      "cell_type": "code",
      "execution_count": 15,
      "metadata": {
        "id": "NByRh9nJceWb"
      },
      "outputs": [],
      "source": [
        "x_train, x_test, y_train, y_test = train_test_split(df.iloc[:,1:330], df['type'], test_size=0.20, random_state=42)"
      ]
    },
    {
      "cell_type": "code",
      "execution_count": 16,
      "metadata": {
        "id": "hEye_60HdKnW"
      },
      "outputs": [],
      "source": [
        "clf = tree.DecisionTreeClassifier(random_state=0)\n",
        "clf = clf.fit(x_train,y_train)"
      ]
    },
    {
      "cell_type": "code",
      "execution_count": 17,
      "metadata": {
        "colab": {
          "base_uri": "https://localhost:8080/"
        },
        "id": "vmevhfvHeEUB",
        "outputId": "12489f64-909a-440a-84aa-d91de38eb800"
      },
      "outputs": [
        {
          "name": "stdout",
          "output_type": "stream",
          "text": [
            "DecisionTreeClassifier(random_state=0)\n",
            "0.9375\n",
            "              precision    recall  f1-score   support\n",
            "\n",
            "           0       0.97      0.89      0.93        37\n",
            "           1       0.91      0.98      0.94        43\n",
            "\n",
            "    accuracy                           0.94        80\n",
            "   macro avg       0.94      0.93      0.94        80\n",
            "weighted avg       0.94      0.94      0.94        80\n",
            "\n"
          ]
        }
      ],
      "source": [
        "from sklearn.metrics import accuracy_score, classification_report\n",
        "pred = clf.predict(x_test)\n",
        "#Accuaricy\n",
        "accuracy = accuracy_score(pred, y_test)\n",
        "print(clf)\n",
        "print(accuracy)\n",
        "print(classification_report(pred,y_test,labels=None))"
      ]
    },
    {
      "cell_type": "markdown",
      "metadata": {
        "id": "xZKw-qoWfNuB"
      },
      "source": [
        "0: neingno\n",
        "1: malware\n",
        "\n",
        "preccision: cuantos clasifico mal\n",
        "0 hay 3% de falsos positivos\n",
        "1 hay 9% de falsos positivos\n",
        "\n",
        "recall: cuantos se les escapo de la clasifiacion\n",
        "\n"
      ]
    }
  ],
  "metadata": {
    "colab": {
      "provenance": []
    },
    "kernelspec": {
      "display_name": "Python 3",
      "name": "python3"
    },
    "language_info": {
      "codemirror_mode": {
        "name": "ipython",
        "version": 3
      },
      "file_extension": ".py",
      "mimetype": "text/x-python",
      "name": "python",
      "nbconvert_exporter": "python",
      "pygments_lexer": "ipython3",
      "version": "3.11.5"
    }
  },
  "nbformat": 4,
  "nbformat_minor": 0
}
