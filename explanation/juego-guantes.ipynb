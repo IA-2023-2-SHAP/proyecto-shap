{
  "cells": [
    {
      "cell_type": "code",
      "execution_count": 1,
      "metadata": {
        "id": "8E6Eaf_CuMAf"
      },
      "outputs": [],
      "source": [
        "import sys\n",
        "import math\n",
        "import sympy as sy\n",
        "from IPython.display import Math, Latex, Markdown, HTML, display"
      ]
    },
    {
      "cell_type": "code",
      "execution_count": null,
      "metadata": {
        "id": "AVAWNXEiuMAi"
      },
      "outputs": [],
      "source": [
        "def juego_TU(N,v):\n",
        "\tdisplay(Markdown(\"### Valores Shapley\"))\n",
        "\tdisplay(Markdown(\"#### Jugadores\"))\n",
        "\tfor i in range(len(N)):\n",
        "\t\tdisplay(Markdown(\"Jugador $\"+str(i)+\"$\"))\n",
        "\n",
        "\tdisplay(Markdown(\"#### Funcion caracteristica\"))\n",
        "\tdisplay(sy.PowerSet(N))"
      ]
    },
    {
      "cell_type": "code",
      "execution_count": 124,
      "metadata": {
        "colab": {
          "base_uri": "https://localhost:8080/",
          "height": 217
        },
        "id": "YEiZLwMruMAm",
        "outputId": "ac2bf008-d563-452b-bf3a-ba65ca2d655d"
      },
      "outputs": [
        {
          "data": {
            "text/markdown": [
              "Tenemos $|N|=n=3$ jugadores: $N=\\left\\{A, B, C\\right\\}$"
            ],
            "text/plain": [
              "<IPython.core.display.Markdown object>"
            ]
          },
          "metadata": {},
          "output_type": "display_data"
        },
        {
          "data": {
            "text/markdown": [
              "Tenemos la funcion caracteristica es: $v=\\left\\{ \\left\\{A, C\\right\\} : 1, \\  \\left\\{B, C\\right\\} : 1, \\  \\left\\{A, B, C\\right\\} : 1\\right\\}$"
            ],
            "text/plain": [
              "<IPython.core.display.Markdown object>"
            ]
          },
          "metadata": {},
          "output_type": "display_data"
        },
        {
          "data": {
            "text/markdown": [
              "Si $i=C$, entonces, $N \\setminus \\{ C \\} = \\left\\{A, B\\right\\}$"
            ],
            "text/plain": [
              "<IPython.core.display.Markdown object>"
            ]
          },
          "metadata": {},
          "output_type": "display_data"
        },
        {
          "data": {
            "text/markdown": [
              "Las coaliciones $S \\subseteq N \\setminus \\{ C \\}$ son:"
            ],
            "text/plain": [
              "<IPython.core.display.Markdown object>"
            ]
          },
          "metadata": {},
          "output_type": "display_data"
        },
        {
          "data": {
            "text/latex": [
              "$\\displaystyle \\emptyset$"
            ],
            "text/plain": [
              "EmptySet"
            ]
          },
          "metadata": {},
          "output_type": "display_data"
        },
        {
          "data": {
            "text/latex": [
              "$\\displaystyle \\left\\{A\\right\\}$"
            ],
            "text/plain": [
              "{A}"
            ]
          },
          "metadata": {},
          "output_type": "display_data"
        },
        {
          "data": {
            "text/latex": [
              "$\\displaystyle \\left\\{B\\right\\}$"
            ],
            "text/plain": [
              "{B}"
            ]
          },
          "metadata": {},
          "output_type": "display_data"
        },
        {
          "data": {
            "text/latex": [
              "$\\displaystyle \\left\\{A, B\\right\\}$"
            ],
            "text/plain": [
              "{A, B}"
            ]
          },
          "metadata": {},
          "output_type": "display_data"
        }
      ],
      "source": [
        "# Ejemlpo del juego de los guantes\n",
        "\"\"\"_summary_\n",
        "El juego de los guantes es un juego cooperativo en el que los jugadores tienen guantes de la\n",
        "mano izquierda y de la mano derecha y el objetivo es formar parejas\n",
        "\"\"\"\n",
        "N_sym, n_sym, S_sym, Sp_sym, s_sym, i_sym = sy.symbols(\"N n S S' s i\")\n",
        "v_sym = sy.Function('v')\n",
        "# Crear jugadores del juego\n",
        "n = 3\n",
        "N = sy.FiniteSet('A', 'B', 'C')\n",
        "display(Markdown(f'Tenemos $|N|=n={n}$ jugadores: $N={sy.latex(N)}$'))\n",
        "# Crear funcion caracteristica\n",
        "v = {\n",
        "  sy.FiniteSet('A', 'C'): 1,\n",
        "  sy.FiniteSet('B', 'C'): 1,\n",
        "  sy.FiniteSet('A', 'B', 'C'): 1\n",
        "}\n",
        "\n",
        "display(Markdown(f'Tenemos la funcion caracteristica es: $v={sy.latex(v)}$'))\n",
        "display(Markdown(f'Si $i={i}$, entonces, $N \\\\setminus \\\\{{ {i} \\\\}} = {sy.latex(N_sin_i)}$'))\n",
        "display(Markdown(f'Las coaliciones $S \\\\subseteq N \\\\setminus \\\\{{ {i} \\\\}}$ son:'))\n",
        "for S in R:\n",
        "  display(S)\n",
        "\n"
      ]
    },
    {
      "cell_type": "code",
      "execution_count": 122,
      "metadata": {},
      "outputs": [
        {
          "data": {
            "text/latex": [
              "$\\displaystyle \\frac{\\left(- v{\\left(S \\right)} + v{\\left(S' \\right)}\\right) s! \\left(n - s - 1\\right)!}{n!}$"
            ],
            "text/plain": [
              "(-v(S) + v(S'))*factorial(s)*factorial(n - s - 1)/factorial(n)"
            ]
          },
          "metadata": {},
          "output_type": "display_data"
        }
      ],
      "source": [
        "phi_sym = (sy.factorial(s_sym) * sy.factorial(n_sym-s_sym-1)) / sy.factorial(n_sym) * (v_sym(Sp_sym) - v_sym(S_sym))\n",
        "display(phi_sym)"
      ]
    },
    {
      "cell_type": "code",
      "execution_count": 134,
      "metadata": {
        "colab": {
          "base_uri": "https://localhost:8080/",
          "height": 160
        },
        "id": "koTgHjBuuMAq",
        "outputId": "3bc66315-5293-4929-c3c2-58f84f1cdc56"
      },
      "outputs": [],
      "source": [
        "def valor_shapley(N,v):\n",
        "  for i in N:\n",
        "    display(Markdown(f\"Para $i={i}$\"))\n",
        "    n = len(N)\n",
        "    phi = 0\n",
        "    N_sin_i = N - sy.FiniteSet(i)\n",
        "    R = sy.PowerSet(N_sin_i).rewrite(sy.FiniteSet)\n",
        "    for S in R:\n",
        "      s = len(S)\n",
        "      combinations = (sy.factorial(s) * sy.factorial(n-s-1)) / sy.factorial(n) \n",
        "      Sp = sy.FiniteSet(i).union(S)\n",
        "      CM = (v.get(Sp, 0) - v.get(S, 0))\n",
        "      termino = combinations * CM\n",
        "      phi += termino\n",
        "      display(Markdown(f\"* con $S={sy.latex(S)}$ y $S'={sy.latex(Sp)}$ tenemos ${sy.latex(phi_sym)} = {sy.latex(phi_sym.subs({s_sym: s, n_sym: n }))} = {sy.latex(combinations)} \\\\cdot {sy.latex(CM)}$ \"))\n",
        "    display(Markdown(f'El valor de Shapley para el jugador $i={i}$ es: {phi}'))"
      ]
    },
    {
      "cell_type": "code",
      "execution_count": 135,
      "metadata": {
        "colab": {
          "base_uri": "https://localhost:8080/",
          "height": 102
        },
        "id": "yPh0KwdCuMAs",
        "outputId": "2a900040-dc5e-4107-a7bb-73ea942c4baa"
      },
      "outputs": [
        {
          "data": {
            "text/markdown": [
              "Para $i=A$"
            ],
            "text/plain": [
              "<IPython.core.display.Markdown object>"
            ]
          },
          "metadata": {},
          "output_type": "display_data"
        },
        {
          "data": {
            "text/markdown": [
              "* con $S=\\emptyset$ y $S'=\\left\\{A\\right\\}$ tenemos $\\frac{\\left(- v{\\left(S \\right)} + v{\\left(S' \\right)}\\right) s! \\left(n - s - 1\\right)!}{n!} = - \\frac{v{\\left(S \\right)}}{3} + \\frac{v{\\left(S' \\right)}}{3} = \\frac{1}{3} \\cdot 0$ "
            ],
            "text/plain": [
              "<IPython.core.display.Markdown object>"
            ]
          },
          "metadata": {},
          "output_type": "display_data"
        },
        {
          "data": {
            "text/markdown": [
              "* con $S=\\left\\{B\\right\\}$ y $S'=\\left\\{A, B\\right\\}$ tenemos $\\frac{\\left(- v{\\left(S \\right)} + v{\\left(S' \\right)}\\right) s! \\left(n - s - 1\\right)!}{n!} = - \\frac{v{\\left(S \\right)}}{6} + \\frac{v{\\left(S' \\right)}}{6} = \\frac{1}{6} \\cdot 0$ "
            ],
            "text/plain": [
              "<IPython.core.display.Markdown object>"
            ]
          },
          "metadata": {},
          "output_type": "display_data"
        },
        {
          "data": {
            "text/markdown": [
              "* con $S=\\left\\{C\\right\\}$ y $S'=\\left\\{A, C\\right\\}$ tenemos $\\frac{\\left(- v{\\left(S \\right)} + v{\\left(S' \\right)}\\right) s! \\left(n - s - 1\\right)!}{n!} = - \\frac{v{\\left(S \\right)}}{6} + \\frac{v{\\left(S' \\right)}}{6} = \\frac{1}{6} \\cdot 1$ "
            ],
            "text/plain": [
              "<IPython.core.display.Markdown object>"
            ]
          },
          "metadata": {},
          "output_type": "display_data"
        },
        {
          "data": {
            "text/markdown": [
              "* con $S=\\left\\{B, C\\right\\}$ y $S'=\\left\\{A, B, C\\right\\}$ tenemos $\\frac{\\left(- v{\\left(S \\right)} + v{\\left(S' \\right)}\\right) s! \\left(n - s - 1\\right)!}{n!} = - \\frac{v{\\left(S \\right)}}{3} + \\frac{v{\\left(S' \\right)}}{3} = \\frac{1}{3} \\cdot 0$ "
            ],
            "text/plain": [
              "<IPython.core.display.Markdown object>"
            ]
          },
          "metadata": {},
          "output_type": "display_data"
        },
        {
          "data": {
            "text/markdown": [
              "El valor de Shapley para el jugador $i=A$ es: 1/6"
            ],
            "text/plain": [
              "<IPython.core.display.Markdown object>"
            ]
          },
          "metadata": {},
          "output_type": "display_data"
        },
        {
          "data": {
            "text/markdown": [
              "Para $i=B$"
            ],
            "text/plain": [
              "<IPython.core.display.Markdown object>"
            ]
          },
          "metadata": {},
          "output_type": "display_data"
        },
        {
          "data": {
            "text/markdown": [
              "* con $S=\\emptyset$ y $S'=\\left\\{B\\right\\}$ tenemos $\\frac{\\left(- v{\\left(S \\right)} + v{\\left(S' \\right)}\\right) s! \\left(n - s - 1\\right)!}{n!} = - \\frac{v{\\left(S \\right)}}{3} + \\frac{v{\\left(S' \\right)}}{3} = \\frac{1}{3} \\cdot 0$ "
            ],
            "text/plain": [
              "<IPython.core.display.Markdown object>"
            ]
          },
          "metadata": {},
          "output_type": "display_data"
        },
        {
          "data": {
            "text/markdown": [
              "* con $S=\\left\\{A\\right\\}$ y $S'=\\left\\{A, B\\right\\}$ tenemos $\\frac{\\left(- v{\\left(S \\right)} + v{\\left(S' \\right)}\\right) s! \\left(n - s - 1\\right)!}{n!} = - \\frac{v{\\left(S \\right)}}{6} + \\frac{v{\\left(S' \\right)}}{6} = \\frac{1}{6} \\cdot 0$ "
            ],
            "text/plain": [
              "<IPython.core.display.Markdown object>"
            ]
          },
          "metadata": {},
          "output_type": "display_data"
        },
        {
          "data": {
            "text/markdown": [
              "* con $S=\\left\\{C\\right\\}$ y $S'=\\left\\{B, C\\right\\}$ tenemos $\\frac{\\left(- v{\\left(S \\right)} + v{\\left(S' \\right)}\\right) s! \\left(n - s - 1\\right)!}{n!} = - \\frac{v{\\left(S \\right)}}{6} + \\frac{v{\\left(S' \\right)}}{6} = \\frac{1}{6} \\cdot 1$ "
            ],
            "text/plain": [
              "<IPython.core.display.Markdown object>"
            ]
          },
          "metadata": {},
          "output_type": "display_data"
        },
        {
          "data": {
            "text/markdown": [
              "* con $S=\\left\\{A, C\\right\\}$ y $S'=\\left\\{A, B, C\\right\\}$ tenemos $\\frac{\\left(- v{\\left(S \\right)} + v{\\left(S' \\right)}\\right) s! \\left(n - s - 1\\right)!}{n!} = - \\frac{v{\\left(S \\right)}}{3} + \\frac{v{\\left(S' \\right)}}{3} = \\frac{1}{3} \\cdot 0$ "
            ],
            "text/plain": [
              "<IPython.core.display.Markdown object>"
            ]
          },
          "metadata": {},
          "output_type": "display_data"
        },
        {
          "data": {
            "text/markdown": [
              "El valor de Shapley para el jugador $i=B$ es: 1/6"
            ],
            "text/plain": [
              "<IPython.core.display.Markdown object>"
            ]
          },
          "metadata": {},
          "output_type": "display_data"
        },
        {
          "data": {
            "text/markdown": [
              "Para $i=C$"
            ],
            "text/plain": [
              "<IPython.core.display.Markdown object>"
            ]
          },
          "metadata": {},
          "output_type": "display_data"
        },
        {
          "data": {
            "text/markdown": [
              "* con $S=\\emptyset$ y $S'=\\left\\{C\\right\\}$ tenemos $\\frac{\\left(- v{\\left(S \\right)} + v{\\left(S' \\right)}\\right) s! \\left(n - s - 1\\right)!}{n!} = - \\frac{v{\\left(S \\right)}}{3} + \\frac{v{\\left(S' \\right)}}{3} = \\frac{1}{3} \\cdot 0$ "
            ],
            "text/plain": [
              "<IPython.core.display.Markdown object>"
            ]
          },
          "metadata": {},
          "output_type": "display_data"
        },
        {
          "data": {
            "text/markdown": [
              "* con $S=\\left\\{A\\right\\}$ y $S'=\\left\\{A, C\\right\\}$ tenemos $\\frac{\\left(- v{\\left(S \\right)} + v{\\left(S' \\right)}\\right) s! \\left(n - s - 1\\right)!}{n!} = - \\frac{v{\\left(S \\right)}}{6} + \\frac{v{\\left(S' \\right)}}{6} = \\frac{1}{6} \\cdot 1$ "
            ],
            "text/plain": [
              "<IPython.core.display.Markdown object>"
            ]
          },
          "metadata": {},
          "output_type": "display_data"
        },
        {
          "data": {
            "text/markdown": [
              "* con $S=\\left\\{B\\right\\}$ y $S'=\\left\\{B, C\\right\\}$ tenemos $\\frac{\\left(- v{\\left(S \\right)} + v{\\left(S' \\right)}\\right) s! \\left(n - s - 1\\right)!}{n!} = - \\frac{v{\\left(S \\right)}}{6} + \\frac{v{\\left(S' \\right)}}{6} = \\frac{1}{6} \\cdot 1$ "
            ],
            "text/plain": [
              "<IPython.core.display.Markdown object>"
            ]
          },
          "metadata": {},
          "output_type": "display_data"
        },
        {
          "data": {
            "text/markdown": [
              "* con $S=\\left\\{A, B\\right\\}$ y $S'=\\left\\{A, B, C\\right\\}$ tenemos $\\frac{\\left(- v{\\left(S \\right)} + v{\\left(S' \\right)}\\right) s! \\left(n - s - 1\\right)!}{n!} = - \\frac{v{\\left(S \\right)}}{3} + \\frac{v{\\left(S' \\right)}}{3} = \\frac{1}{3} \\cdot 1$ "
            ],
            "text/plain": [
              "<IPython.core.display.Markdown object>"
            ]
          },
          "metadata": {},
          "output_type": "display_data"
        },
        {
          "data": {
            "text/markdown": [
              "El valor de Shapley para el jugador $i=C$ es: 2/3"
            ],
            "text/plain": [
              "<IPython.core.display.Markdown object>"
            ]
          },
          "metadata": {},
          "output_type": "display_data"
        }
      ],
      "source": [
        "valor_shapley(N,v)"
      ]
    },
    {
      "cell_type": "markdown",
      "metadata": {
        "id": "w7by1S9zuMA4"
      },
      "source": []
    },
    {
      "cell_type": "markdown",
      "metadata": {
        "id": "rH_7g-PsuMA5"
      },
      "source": []
    }
  ],
  "metadata": {
    "colab": {
      "provenance": []
    },
    "kernelspec": {
      "display_name": "Python 3 (ipykernel)",
      "language": "python",
      "name": "python3"
    },
    "language_info": {
      "codemirror_mode": {
        "name": "ipython",
        "version": 3
      },
      "file_extension": ".py",
      "mimetype": "text/x-python",
      "name": "python",
      "nbconvert_exporter": "python",
      "pygments_lexer": "ipython3",
      "version": "3.11.6"
    }
  },
  "nbformat": 4,
  "nbformat_minor": 0
}
