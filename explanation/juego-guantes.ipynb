{
  "cells": [
    {
      "cell_type": "code",
      "execution_count": 20,
      "metadata": {
        "id": "8E6Eaf_CuMAf"
      },
      "outputs": [],
      "source": [
        "import sys\n",
        "import math\n",
        "import sympy as sy\n",
        "from IPython.display import Math, Latex, Markdown, HTML, display"
      ]
    },
    {
      "cell_type": "code",
      "execution_count": 21,
      "metadata": {
        "colab": {
          "base_uri": "https://localhost:8080/",
          "height": 218
        },
        "id": "YEiZLwMruMAm",
        "outputId": "e742fe35-c2bd-4bb1-be96-1b2d5b7a6953"
      },
      "outputs": [
        {
          "output_type": "display_data",
          "data": {
            "text/plain": [
              "<IPython.core.display.Markdown object>"
            ],
            "text/markdown": "Tenemos $|N|=n=3$ jugadores: $N=\\left\\{A, B, C\\right\\}$"
          },
          "metadata": {}
        },
        {
          "output_type": "display_data",
          "data": {
            "text/plain": [
              "<IPython.core.display.Markdown object>"
            ],
            "text/markdown": "Tenemos la funcion caracteristica es: $v=\\left\\{ \\left\\{A, C\\right\\} : 1, \\  \\left\\{B, C\\right\\} : 1, \\  \\left\\{A, B, C\\right\\} : 1\\right\\}$"
          },
          "metadata": {}
        },
        {
          "output_type": "display_data",
          "data": {
            "text/plain": [
              "<IPython.core.display.Markdown object>"
            ],
            "text/markdown": "Si $i=A$, entonces, $N \\setminus \\{ A \\} = \\left\\{B, C\\right\\}$"
          },
          "metadata": {}
        },
        {
          "output_type": "display_data",
          "data": {
            "text/plain": [
              "<IPython.core.display.Markdown object>"
            ],
            "text/markdown": "Las coaliciones $S \\subseteq N \\setminus \\{ A \\}$ son:"
          },
          "metadata": {}
        },
        {
          "output_type": "display_data",
          "data": {
            "text/plain": [
              "EmptySet"
            ],
            "text/latex": "$\\displaystyle \\emptyset$"
          },
          "metadata": {}
        },
        {
          "output_type": "display_data",
          "data": {
            "text/plain": [
              "{B}"
            ],
            "text/latex": "$\\displaystyle \\left\\{B\\right\\}$"
          },
          "metadata": {}
        },
        {
          "output_type": "display_data",
          "data": {
            "text/plain": [
              "{C}"
            ],
            "text/latex": "$\\displaystyle \\left\\{C\\right\\}$"
          },
          "metadata": {}
        },
        {
          "output_type": "display_data",
          "data": {
            "text/plain": [
              "{B, C}"
            ],
            "text/latex": "$\\displaystyle \\left\\{B, C\\right\\}$"
          },
          "metadata": {}
        }
      ],
      "source": [
        "# Ejemlpo del juego de los guantes\n",
        "\"\"\"_summary_\n",
        "El juego de los guantes es un juego cooperativo en el que los jugadores tienen guantes de la\n",
        "mano izquierda y de la mano derecha y el objetivo es formar parejas\n",
        "\"\"\"\n",
        "N_sym, n_sym, S_sym, Sp_sym, s_sym, i_sym = sy.symbols(\"N n S S' s i\")\n",
        "v_sym = sy.Function('v')\n",
        "# Crear jugadores del juego\n",
        "n = 3\n",
        "N = sy.FiniteSet('A', 'B', 'C')\n",
        "display(Markdown(f'Tenemos $|N|=n={n}$ jugadores: $N={sy.latex(N)}$'))\n",
        "# Crear funcion caracteristica\n",
        "v = {\n",
        "  sy.FiniteSet('A', 'C'): 1,\n",
        "  sy.FiniteSet('B', 'C'): 1,\n",
        "  sy.FiniteSet('A', 'B', 'C'): 1\n",
        "}\n",
        "\n",
        "display(Markdown(f'Tenemos la funcion caracteristica es: $v={sy.latex(v)}$'))\n",
        "display(Markdown(f'Si $i={i}$, entonces, $N \\\\setminus \\\\{{ {i} \\\\}} = {sy.latex(N_sin_i)}$'))\n",
        "i = 'A'\n",
        "N_sin_i = N - sy.FiniteSet(i)\n",
        "display(Markdown(f'Las coaliciones $S \\\\subseteq N \\\\setminus \\\\{{ {i} \\\\}}$ son:'))\n",
        "R = sy.PowerSet(N_sin_i).rewrite(sy.FiniteSet)\n",
        "for S in R:\n",
        "  display(S)"
      ]
    },
    {
      "cell_type": "code",
      "execution_count": 22,
      "metadata": {
        "colab": {
          "base_uri": "https://localhost:8080/",
          "height": 53
        },
        "id": "3D0OJp1k2Q_Y",
        "outputId": "bcc40259-3387-408c-ea11-257454b7cbd1"
      },
      "outputs": [
        {
          "output_type": "display_data",
          "data": {
            "text/plain": [
              "(-v(S) + v(S'))*factorial(s)*factorial(n - s - 1)/factorial(n)"
            ],
            "text/latex": "$\\displaystyle \\frac{\\left(- v{\\left(S \\right)} + v{\\left(S' \\right)}\\right) s! \\left(n - s - 1\\right)!}{n!}$"
          },
          "metadata": {}
        }
      ],
      "source": [
        "phi_sym = (sy.factorial(s_sym) * sy.factorial(n_sym-s_sym-1)) / sy.factorial(n_sym) * (v_sym(Sp_sym) - v_sym(S_sym))\n",
        "display(phi_sym)"
      ]
    },
    {
      "cell_type": "code",
      "execution_count": 23,
      "metadata": {
        "id": "koTgHjBuuMAq"
      },
      "outputs": [],
      "source": [
        "def valor_shapley(N,v):\n",
        "  for i in N:\n",
        "    display(Markdown(f\"Para $i={i}$\"))\n",
        "    n = len(N)\n",
        "    phi = 0\n",
        "    N_sin_i = N - sy.FiniteSet(i)\n",
        "    R = sy.PowerSet(N_sin_i).rewrite(sy.FiniteSet)\n",
        "    for S in R:\n",
        "      s = len(S)\n",
        "      combinations = (sy.factorial(s) * sy.factorial(n-s-1)) / sy.factorial(n)\n",
        "      Sp = sy.FiniteSet(i).union(S)\n",
        "      CM = (v.get(Sp, 0) - v.get(S, 0))\n",
        "      termino = combinations * CM\n",
        "      phi += termino\n",
        "      display(Markdown(f\"* con $S={sy.latex(S)}$ y $S'={sy.latex(Sp)}$ tenemos ${sy.latex(phi_sym)} = {sy.latex(phi_sym.subs({s_sym: s, n_sym: n }))} = {sy.latex(combinations)} \\\\cdot {sy.latex(CM)}$ \"))\n",
        "    display(Markdown(f'El valor de Shapley para el jugador $i={i}$ es: {phi}'))"
      ]
    },
    {
      "cell_type": "code",
      "execution_count": 24,
      "metadata": {
        "colab": {
          "base_uri": "https://localhost:8080/",
          "height": 601
        },
        "id": "yPh0KwdCuMAs",
        "outputId": "cd3a4a7b-d2ba-4d0f-fba0-8479fc69cdfa"
      },
      "outputs": [
        {
          "output_type": "display_data",
          "data": {
            "text/plain": [
              "<IPython.core.display.Markdown object>"
            ],
            "text/markdown": "Para $i=A$"
          },
          "metadata": {}
        },
        {
          "output_type": "display_data",
          "data": {
            "text/plain": [
              "<IPython.core.display.Markdown object>"
            ],
            "text/markdown": "* con $S=\\emptyset$ y $S'=\\left\\{A\\right\\}$ tenemos $\\frac{\\left(- v{\\left(S \\right)} + v{\\left(S' \\right)}\\right) s! \\left(n - s - 1\\right)!}{n!} = - \\frac{v{\\left(S \\right)}}{3} + \\frac{v{\\left(S' \\right)}}{3} = \\frac{1}{3} \\cdot 0$ "
          },
          "metadata": {}
        },
        {
          "output_type": "display_data",
          "data": {
            "text/plain": [
              "<IPython.core.display.Markdown object>"
            ],
            "text/markdown": "* con $S=\\left\\{B\\right\\}$ y $S'=\\left\\{A, B\\right\\}$ tenemos $\\frac{\\left(- v{\\left(S \\right)} + v{\\left(S' \\right)}\\right) s! \\left(n - s - 1\\right)!}{n!} = - \\frac{v{\\left(S \\right)}}{6} + \\frac{v{\\left(S' \\right)}}{6} = \\frac{1}{6} \\cdot 0$ "
          },
          "metadata": {}
        },
        {
          "output_type": "display_data",
          "data": {
            "text/plain": [
              "<IPython.core.display.Markdown object>"
            ],
            "text/markdown": "* con $S=\\left\\{C\\right\\}$ y $S'=\\left\\{A, C\\right\\}$ tenemos $\\frac{\\left(- v{\\left(S \\right)} + v{\\left(S' \\right)}\\right) s! \\left(n - s - 1\\right)!}{n!} = - \\frac{v{\\left(S \\right)}}{6} + \\frac{v{\\left(S' \\right)}}{6} = \\frac{1}{6} \\cdot 1$ "
          },
          "metadata": {}
        },
        {
          "output_type": "display_data",
          "data": {
            "text/plain": [
              "<IPython.core.display.Markdown object>"
            ],
            "text/markdown": "* con $S=\\left\\{B, C\\right\\}$ y $S'=\\left\\{A, B, C\\right\\}$ tenemos $\\frac{\\left(- v{\\left(S \\right)} + v{\\left(S' \\right)}\\right) s! \\left(n - s - 1\\right)!}{n!} = - \\frac{v{\\left(S \\right)}}{3} + \\frac{v{\\left(S' \\right)}}{3} = \\frac{1}{3} \\cdot 0$ "
          },
          "metadata": {}
        },
        {
          "output_type": "display_data",
          "data": {
            "text/plain": [
              "<IPython.core.display.Markdown object>"
            ],
            "text/markdown": "El valor de Shapley para el jugador $i=A$ es: 1/6"
          },
          "metadata": {}
        },
        {
          "output_type": "display_data",
          "data": {
            "text/plain": [
              "<IPython.core.display.Markdown object>"
            ],
            "text/markdown": "Para $i=B$"
          },
          "metadata": {}
        },
        {
          "output_type": "display_data",
          "data": {
            "text/plain": [
              "<IPython.core.display.Markdown object>"
            ],
            "text/markdown": "* con $S=\\emptyset$ y $S'=\\left\\{B\\right\\}$ tenemos $\\frac{\\left(- v{\\left(S \\right)} + v{\\left(S' \\right)}\\right) s! \\left(n - s - 1\\right)!}{n!} = - \\frac{v{\\left(S \\right)}}{3} + \\frac{v{\\left(S' \\right)}}{3} = \\frac{1}{3} \\cdot 0$ "
          },
          "metadata": {}
        },
        {
          "output_type": "display_data",
          "data": {
            "text/plain": [
              "<IPython.core.display.Markdown object>"
            ],
            "text/markdown": "* con $S=\\left\\{A\\right\\}$ y $S'=\\left\\{A, B\\right\\}$ tenemos $\\frac{\\left(- v{\\left(S \\right)} + v{\\left(S' \\right)}\\right) s! \\left(n - s - 1\\right)!}{n!} = - \\frac{v{\\left(S \\right)}}{6} + \\frac{v{\\left(S' \\right)}}{6} = \\frac{1}{6} \\cdot 0$ "
          },
          "metadata": {}
        },
        {
          "output_type": "display_data",
          "data": {
            "text/plain": [
              "<IPython.core.display.Markdown object>"
            ],
            "text/markdown": "* con $S=\\left\\{C\\right\\}$ y $S'=\\left\\{B, C\\right\\}$ tenemos $\\frac{\\left(- v{\\left(S \\right)} + v{\\left(S' \\right)}\\right) s! \\left(n - s - 1\\right)!}{n!} = - \\frac{v{\\left(S \\right)}}{6} + \\frac{v{\\left(S' \\right)}}{6} = \\frac{1}{6} \\cdot 1$ "
          },
          "metadata": {}
        },
        {
          "output_type": "display_data",
          "data": {
            "text/plain": [
              "<IPython.core.display.Markdown object>"
            ],
            "text/markdown": "* con $S=\\left\\{A, C\\right\\}$ y $S'=\\left\\{A, B, C\\right\\}$ tenemos $\\frac{\\left(- v{\\left(S \\right)} + v{\\left(S' \\right)}\\right) s! \\left(n - s - 1\\right)!}{n!} = - \\frac{v{\\left(S \\right)}}{3} + \\frac{v{\\left(S' \\right)}}{3} = \\frac{1}{3} \\cdot 0$ "
          },
          "metadata": {}
        },
        {
          "output_type": "display_data",
          "data": {
            "text/plain": [
              "<IPython.core.display.Markdown object>"
            ],
            "text/markdown": "El valor de Shapley para el jugador $i=B$ es: 1/6"
          },
          "metadata": {}
        },
        {
          "output_type": "display_data",
          "data": {
            "text/plain": [
              "<IPython.core.display.Markdown object>"
            ],
            "text/markdown": "Para $i=C$"
          },
          "metadata": {}
        },
        {
          "output_type": "display_data",
          "data": {
            "text/plain": [
              "<IPython.core.display.Markdown object>"
            ],
            "text/markdown": "* con $S=\\emptyset$ y $S'=\\left\\{C\\right\\}$ tenemos $\\frac{\\left(- v{\\left(S \\right)} + v{\\left(S' \\right)}\\right) s! \\left(n - s - 1\\right)!}{n!} = - \\frac{v{\\left(S \\right)}}{3} + \\frac{v{\\left(S' \\right)}}{3} = \\frac{1}{3} \\cdot 0$ "
          },
          "metadata": {}
        },
        {
          "output_type": "display_data",
          "data": {
            "text/plain": [
              "<IPython.core.display.Markdown object>"
            ],
            "text/markdown": "* con $S=\\left\\{A\\right\\}$ y $S'=\\left\\{A, C\\right\\}$ tenemos $\\frac{\\left(- v{\\left(S \\right)} + v{\\left(S' \\right)}\\right) s! \\left(n - s - 1\\right)!}{n!} = - \\frac{v{\\left(S \\right)}}{6} + \\frac{v{\\left(S' \\right)}}{6} = \\frac{1}{6} \\cdot 1$ "
          },
          "metadata": {}
        },
        {
          "output_type": "display_data",
          "data": {
            "text/plain": [
              "<IPython.core.display.Markdown object>"
            ],
            "text/markdown": "* con $S=\\left\\{B\\right\\}$ y $S'=\\left\\{B, C\\right\\}$ tenemos $\\frac{\\left(- v{\\left(S \\right)} + v{\\left(S' \\right)}\\right) s! \\left(n - s - 1\\right)!}{n!} = - \\frac{v{\\left(S \\right)}}{6} + \\frac{v{\\left(S' \\right)}}{6} = \\frac{1}{6} \\cdot 1$ "
          },
          "metadata": {}
        },
        {
          "output_type": "display_data",
          "data": {
            "text/plain": [
              "<IPython.core.display.Markdown object>"
            ],
            "text/markdown": "* con $S=\\left\\{A, B\\right\\}$ y $S'=\\left\\{A, B, C\\right\\}$ tenemos $\\frac{\\left(- v{\\left(S \\right)} + v{\\left(S' \\right)}\\right) s! \\left(n - s - 1\\right)!}{n!} = - \\frac{v{\\left(S \\right)}}{3} + \\frac{v{\\left(S' \\right)}}{3} = \\frac{1}{3} \\cdot 1$ "
          },
          "metadata": {}
        },
        {
          "output_type": "display_data",
          "data": {
            "text/plain": [
              "<IPython.core.display.Markdown object>"
            ],
            "text/markdown": "El valor de Shapley para el jugador $i=C$ es: 2/3"
          },
          "metadata": {}
        }
      ],
      "source": [
        "valor_shapley(N,v)"
      ]
    }
  ],
  "metadata": {
    "colab": {
      "provenance": []
    },
    "kernelspec": {
      "display_name": "Python 3 (ipykernel)",
      "language": "python",
      "name": "python3"
    },
    "language_info": {
      "codemirror_mode": {
        "name": "ipython",
        "version": 3
      },
      "file_extension": ".py",
      "mimetype": "text/x-python",
      "name": "python",
      "nbconvert_exporter": "python",
      "pygments_lexer": "ipython3",
      "version": "3.11.6"
    }
  },
  "nbformat": 4,
  "nbformat_minor": 0
}