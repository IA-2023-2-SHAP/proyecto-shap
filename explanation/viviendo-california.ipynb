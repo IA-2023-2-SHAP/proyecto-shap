{
 "cells": [
  {
   "cell_type": "markdown",
   "metadata": {},
   "source": [
    "# Explicación de un modelo de regresión lineal\n",
    "\n",
    "Antes de utilizar los valores de Shapley para explicar modelos complicados, es útil entender cómo funcionan para modelos simples. Uno de los tipos de modelos más simples es la regresión lineal estándar, y a continuación entrenamos un modelo de regresión lineal en el [conjunto de datos de viviendas de California](https://www.dcc.fc.up.pt/~ltorgo/Regression/cal_housing.html). \n",
    "\n",
    "Este conjunto de datos consta de 20,640 bloques de casas en California en 1990, donde nuestro objetivo es predecir el logaritmo natural del precio medio de la vivienda a partir de 8 características diferentes:\n",
    "\n",
    "1. `MedInc` - ingreso medio en el grupo de bloques\n",
    "2. `HouseAge` - edad media de la vivienda en el grupo de bloques\n",
    "3. `AveRooms` - número medio de habitaciones por hogar\n",
    "4. `AveBedrms` - número medio de dormitorios por hogar\n",
    "5. `Población` - población del grupo de bloques\n",
    "6. `AveOccup` - número medio de miembros por hogar\n",
    "7. `Latitud` - latitud del grupo de bloques\n",
    "8. `Longitud` - longitud del grupo de bloques"
   ]
  },
  {
   "cell_type": "markdown",
   "metadata": {},
   "source": [
    "## Conjunto de Datos de Viviendas en California\n",
    "\n",
    "Este es un conjunto de datos obtenido del repositorio StatLib. Aquí se incluye la descripción correspondiente:\n",
    "\n",
    "Datos de Cartas S&P\n",
    "\n",
    "Recopilamos información sobre las variables utilizando todos los grupos de bloques en California del Censo de 1990. En esta muestra, un grupo de bloques incluye en promedio a 1425.5 individuos que viven en un área geográficamente compacta. \n",
    "* Naturalmente, el área geográfica incluida varía inversamente con la densidad de población. \n",
    "* Calculamos distancias entre los centroides de cada grupo de bloques, medidas en latitud y longitud. \n",
    "* Excluimos todos los grupos de bloques que informaron cero entradas para las variables independientes y dependientes. \n",
    "* Los datos finales contenían 20,640 observaciones sobre 9 variables. \n",
    "* La variable dependiente es el $ln((valor medio de la vivienda))$.\n",
    "\n",
    "```\n",
    "                                Bols    tols\n",
    "INTERCEPT                       11.4939 275.7518\n",
    "MEDIAN INCOME                   0.4790  45.7768\n",
    "MEDIAN INCOME2                  -0.0166 -9.4841\n",
    "MEDIAN INCOME3                  -0.0002 -1.9157\n",
    "ln(MEDIAN AGE)                  0.1570  33.6123\n",
    "ln(TOTAL ROOMS/ POPULATION)     -0.8582 -56.1280\n",
    "ln(BEDROOMS/ POPULATION)        0.8043  38.0685\n",
    "ln(POPULATION/ HOUSEHOLDS)      -0.4077 -20.8762\n",
    "ln(HOUSEHOLDS)                  0.0477  13.0792\n",
    "\n",
    "```\n",
    "\n",
    "El archivo contiene todas las variables. Específicamente, incluye el valor medio de la vivienda, ingreso medio, edad media de la vivienda, total de habitaciones, total de dormitorios, población, hogares, latitud y longitud, en ese orden.\n",
    "\n",
    "**Referencia**\n",
    "\n",
    "Pace, R. Kelley y Ronald Barry, Sparse Spatial Autoregressions, Statistics and Probability Letters, 33 (1997) 291-297.\n",
    "\n",
    "El manuscrito que describe los datos se puede encontrar en [www.spatial-statistics.com](http://www.spatial-statistics.com/). Los datos también están disponibles como archivos de Matlab.\n",
    "\n",
    "Contacte a [kelley@spatial-statistics.com](mailto:kelley@spatial-statistics.com) o [kelley@pace.am](mailto:kelley@pace.am) si tiene alguna pregunta adicional. Gracias.\n",
    "\n",
    "- Fuente: [Repositorio StatLib](http://lib.stat.cmu.edu/).\n",
    "- Características: 20,460 casos, 8 atributos (0 nominales, 8 continuos).\n",
    "- Descarga: [cal_housing.tgz](https://www.dcc.fc.up.pt/~ltorgo/Regression/cal_housing.tgz) (441963 bytes)"
   ]
  },
  {
   "cell_type": "markdown",
   "metadata": {},
   "source": [
    "## Instalación de dependecias\n",
    "Para este laboratorio vamos a usar python 3.9.17"
   ]
  },
  {
   "cell_type": "code",
   "execution_count": 3,
   "metadata": {},
   "outputs": [
    {
     "name": "stdout",
     "output_type": "stream",
     "text": [
      "Python 3.9.17\n"
     ]
    }
   ],
   "source": [
    "!python --version"
   ]
  },
  {
   "cell_type": "code",
   "execution_count": 2,
   "metadata": {},
   "outputs": [
    {
     "name": "stdout",
     "output_type": "stream",
     "text": [
      "Collecting ipywidgets\n",
      "  Using cached ipywidgets-8.1.1-py3-none-any.whl.metadata (2.4 kB)\n",
      "Collecting numpy\n",
      "  Using cached numpy-1.26.2-cp39-cp39-manylinux_2_17_x86_64.manylinux2014_x86_64.whl.metadata (61 kB)\n",
      "Collecting pandas\n",
      "  Using cached pandas-2.1.3-cp39-cp39-manylinux_2_17_x86_64.manylinux2014_x86_64.whl.metadata (18 kB)\n",
      "Collecting scikit-learn\n",
      "  Using cached scikit_learn-1.3.2-cp39-cp39-manylinux_2_17_x86_64.manylinux2014_x86_64.whl.metadata (11 kB)\n",
      "Collecting interpret\n",
      "  Using cached interpret-0.4.4-py3-none-any.whl.metadata (1.1 kB)\n",
      "Collecting xgboost\n",
      "  Using cached xgboost-2.0.2-py3-none-manylinux2014_x86_64.whl.metadata (2.0 kB)\n",
      "Requirement already satisfied: comm>=0.1.3 in /home/fredy/unal/proyecto-shap/.venv/lib/python3.9/site-packages (from ipywidgets) (0.2.0)\n",
      "Requirement already satisfied: ipython>=6.1.0 in /home/fredy/unal/proyecto-shap/.venv/lib/python3.9/site-packages (from ipywidgets) (8.17.2)\n",
      "Requirement already satisfied: traitlets>=4.3.1 in /home/fredy/unal/proyecto-shap/.venv/lib/python3.9/site-packages (from ipywidgets) (5.13.0)\n",
      "Collecting widgetsnbextension~=4.0.9 (from ipywidgets)\n",
      "  Using cached widgetsnbextension-4.0.9-py3-none-any.whl.metadata (1.6 kB)\n",
      "Collecting jupyterlab-widgets~=3.0.9 (from ipywidgets)\n",
      "  Using cached jupyterlab_widgets-3.0.9-py3-none-any.whl.metadata (4.1 kB)\n",
      "Requirement already satisfied: python-dateutil>=2.8.2 in /home/fredy/unal/proyecto-shap/.venv/lib/python3.9/site-packages (from pandas) (2.8.2)\n",
      "Collecting pytz>=2020.1 (from pandas)\n",
      "  Using cached pytz-2023.3.post1-py2.py3-none-any.whl.metadata (22 kB)\n",
      "Collecting tzdata>=2022.1 (from pandas)\n",
      "  Using cached tzdata-2023.3-py2.py3-none-any.whl (341 kB)\n",
      "Collecting scipy>=1.5.0 (from scikit-learn)\n",
      "  Using cached scipy-1.11.4-cp39-cp39-manylinux_2_17_x86_64.manylinux2014_x86_64.whl.metadata (60 kB)\n",
      "Collecting joblib>=1.1.1 (from scikit-learn)\n",
      "  Using cached joblib-1.3.2-py3-none-any.whl.metadata (5.4 kB)\n",
      "Collecting threadpoolctl>=2.0.0 (from scikit-learn)\n",
      "  Using cached threadpoolctl-3.2.0-py3-none-any.whl.metadata (10.0 kB)\n",
      "Collecting interpret-core==0.4.4 (from interpret-core[dash,debug,decisiontree,ebm,lime,linear,notebook,plotly,required,sensitivity,shap,skoperules,treeinterpreter]==0.4.4->interpret)\n",
      "  Using cached interpret_core-0.4.4-py3-none-any.whl.metadata (3.0 kB)\n",
      "Requirement already satisfied: ipykernel>=4.10.0 in /home/fredy/unal/proyecto-shap/.venv/lib/python3.9/site-packages (from interpret-core[dash,debug,decisiontree,ebm,lime,linear,notebook,plotly,required,sensitivity,shap,skoperules,treeinterpreter]==0.4.4->interpret) (6.27.0)\n",
      "Collecting dash>=1.0.0 (from interpret-core[dash,debug,decisiontree,ebm,lime,linear,notebook,plotly,required,sensitivity,shap,skoperules,treeinterpreter]==0.4.4->interpret)\n",
      "  Using cached dash-2.14.1-py3-none-any.whl.metadata (11 kB)\n",
      "Collecting dash-core-components>=1.0.0 (from interpret-core[dash,debug,decisiontree,ebm,lime,linear,notebook,plotly,required,sensitivity,shap,skoperules,treeinterpreter]==0.4.4->interpret)\n",
      "  Using cached dash_core_components-2.0.0-py3-none-any.whl (3.8 kB)\n",
      "Collecting dash-html-components>=1.0.0 (from interpret-core[dash,debug,decisiontree,ebm,lime,linear,notebook,plotly,required,sensitivity,shap,skoperules,treeinterpreter]==0.4.4->interpret)\n",
      "  Using cached dash_html_components-2.0.0-py3-none-any.whl (4.1 kB)\n",
      "Collecting dash-table>=4.1.0 (from interpret-core[dash,debug,decisiontree,ebm,lime,linear,notebook,plotly,required,sensitivity,shap,skoperules,treeinterpreter]==0.4.4->interpret)\n",
      "  Using cached dash_table-5.0.0-py3-none-any.whl (3.9 kB)\n",
      "Collecting dash-cytoscape>=0.1.1 (from interpret-core[dash,debug,decisiontree,ebm,lime,linear,notebook,plotly,required,sensitivity,shap,skoperules,treeinterpreter]==0.4.4->interpret)\n",
      "  Using cached dash_cytoscape-0.3.0-py3-none-any.whl (3.6 MB)\n",
      "Collecting gevent>=1.3.6 (from interpret-core[dash,debug,decisiontree,ebm,lime,linear,notebook,plotly,required,sensitivity,shap,skoperules,treeinterpreter]==0.4.4->interpret)\n",
      "  Using cached gevent-23.9.1-cp39-cp39-manylinux_2_28_x86_64.whl.metadata (13 kB)\n",
      "Collecting requests>=2.19.0 (from interpret-core[dash,debug,decisiontree,ebm,lime,linear,notebook,plotly,required,sensitivity,shap,skoperules,treeinterpreter]==0.4.4->interpret)\n",
      "  Using cached requests-2.31.0-py3-none-any.whl.metadata (4.6 kB)\n",
      "Requirement already satisfied: psutil>=5.6.2 in /home/fredy/unal/proyecto-shap/.venv/lib/python3.9/site-packages (from interpret-core[dash,debug,decisiontree,ebm,lime,linear,notebook,plotly,required,sensitivity,shap,skoperules,treeinterpreter]==0.4.4->interpret) (5.9.6)\n",
      "Collecting skope-rules>=1.0.1 (from interpret-core[dash,debug,decisiontree,ebm,lime,linear,notebook,plotly,required,sensitivity,shap,skoperules,treeinterpreter]==0.4.4->interpret)\n",
      "  Using cached skope_rules-1.0.1-py3-none-any.whl (14 kB)\n",
      "Collecting shap>=0.28.5 (from interpret-core[dash,debug,decisiontree,ebm,lime,linear,notebook,plotly,required,sensitivity,shap,skoperules,treeinterpreter]==0.4.4->interpret)\n",
      "  Using cached shap-0.43.0-cp39-cp39-manylinux_2_12_x86_64.manylinux2010_x86_64.manylinux_2_17_x86_64.manylinux2014_x86_64.whl.metadata (24 kB)\n",
      "Collecting dill>=0.2.5 (from interpret-core[dash,debug,decisiontree,ebm,lime,linear,notebook,plotly,required,sensitivity,shap,skoperules,treeinterpreter]==0.4.4->interpret)\n",
      "  Using cached dill-0.3.7-py3-none-any.whl.metadata (9.9 kB)\n",
      "Collecting treeinterpreter>=0.2.2 (from interpret-core[dash,debug,decisiontree,ebm,lime,linear,notebook,plotly,required,sensitivity,shap,skoperules,treeinterpreter]==0.4.4->interpret)\n",
      "  Using cached treeinterpreter-0.2.3-py2.py3-none-any.whl (6.0 kB)\n",
      "Collecting plotly>=3.8.1 (from interpret-core[dash,debug,decisiontree,ebm,lime,linear,notebook,plotly,required,sensitivity,shap,skoperules,treeinterpreter]==0.4.4->interpret)\n",
      "  Using cached plotly-5.18.0-py3-none-any.whl.metadata (7.0 kB)\n",
      "Collecting lime>=0.1.1.33 (from interpret-core[dash,debug,decisiontree,ebm,lime,linear,notebook,plotly,required,sensitivity,shap,skoperules,treeinterpreter]==0.4.4->interpret)\n",
      "  Using cached lime-0.2.0.1.tar.gz (275 kB)\n",
      "  Installing build dependencies ... \u001b[?25ldone\n",
      "\u001b[?25h  Getting requirements to build wheel ... \u001b[?25ldone\n",
      "\u001b[?25h  Preparing metadata (pyproject.toml) ... \u001b[?25ldone\n",
      "\u001b[?25hCollecting SALib>=1.3.3 (from interpret-core[dash,debug,decisiontree,ebm,lime,linear,notebook,plotly,required,sensitivity,shap,skoperules,treeinterpreter]==0.4.4->interpret)\n",
      "  Using cached salib-1.4.7-py3-none-any.whl (757 kB)\n",
      "Requirement already satisfied: decorator in /home/fredy/unal/proyecto-shap/.venv/lib/python3.9/site-packages (from ipython>=6.1.0->ipywidgets) (5.1.1)\n",
      "Requirement already satisfied: jedi>=0.16 in /home/fredy/unal/proyecto-shap/.venv/lib/python3.9/site-packages (from ipython>=6.1.0->ipywidgets) (0.19.1)\n",
      "Requirement already satisfied: matplotlib-inline in /home/fredy/unal/proyecto-shap/.venv/lib/python3.9/site-packages (from ipython>=6.1.0->ipywidgets) (0.1.6)\n",
      "Requirement already satisfied: prompt-toolkit!=3.0.37,<3.1.0,>=3.0.30 in /home/fredy/unal/proyecto-shap/.venv/lib/python3.9/site-packages (from ipython>=6.1.0->ipywidgets) (3.0.41)\n",
      "Requirement already satisfied: pygments>=2.4.0 in /home/fredy/unal/proyecto-shap/.venv/lib/python3.9/site-packages (from ipython>=6.1.0->ipywidgets) (2.17.1)\n",
      "Requirement already satisfied: stack-data in /home/fredy/unal/proyecto-shap/.venv/lib/python3.9/site-packages (from ipython>=6.1.0->ipywidgets) (0.6.3)\n",
      "Requirement already satisfied: typing-extensions in /home/fredy/unal/proyecto-shap/.venv/lib/python3.9/site-packages (from ipython>=6.1.0->ipywidgets) (4.8.0)\n",
      "Requirement already satisfied: exceptiongroup in /home/fredy/unal/proyecto-shap/.venv/lib/python3.9/site-packages (from ipython>=6.1.0->ipywidgets) (1.2.0)\n",
      "Requirement already satisfied: pexpect>4.3 in /home/fredy/unal/proyecto-shap/.venv/lib/python3.9/site-packages (from ipython>=6.1.0->ipywidgets) (4.8.0)\n",
      "Requirement already satisfied: six>=1.5 in /home/fredy/unal/proyecto-shap/.venv/lib/python3.9/site-packages (from python-dateutil>=2.8.2->pandas) (1.16.0)\n",
      "Collecting Flask<3.1,>=1.0.4 (from dash>=1.0.0->interpret-core[dash,debug,decisiontree,ebm,lime,linear,notebook,plotly,required,sensitivity,shap,skoperules,treeinterpreter]==0.4.4->interpret)\n",
      "  Using cached flask-3.0.0-py3-none-any.whl.metadata (3.6 kB)\n",
      "Collecting Werkzeug<3.1 (from dash>=1.0.0->interpret-core[dash,debug,decisiontree,ebm,lime,linear,notebook,plotly,required,sensitivity,shap,skoperules,treeinterpreter]==0.4.4->interpret)\n",
      "  Using cached werkzeug-3.0.1-py3-none-any.whl.metadata (4.1 kB)\n",
      "Collecting retrying (from dash>=1.0.0->interpret-core[dash,debug,decisiontree,ebm,lime,linear,notebook,plotly,required,sensitivity,shap,skoperules,treeinterpreter]==0.4.4->interpret)\n",
      "  Using cached retrying-1.3.4-py3-none-any.whl (11 kB)\n",
      "Collecting ansi2html (from dash>=1.0.0->interpret-core[dash,debug,decisiontree,ebm,lime,linear,notebook,plotly,required,sensitivity,shap,skoperules,treeinterpreter]==0.4.4->interpret)\n",
      "  Using cached ansi2html-1.8.0-py3-none-any.whl (16 kB)\n",
      "Requirement already satisfied: nest-asyncio in /home/fredy/unal/proyecto-shap/.venv/lib/python3.9/site-packages (from dash>=1.0.0->interpret-core[dash,debug,decisiontree,ebm,lime,linear,notebook,plotly,required,sensitivity,shap,skoperules,treeinterpreter]==0.4.4->interpret) (1.5.8)\n",
      "Requirement already satisfied: setuptools in /home/fredy/unal/proyecto-shap/.venv/lib/python3.9/site-packages (from dash>=1.0.0->interpret-core[dash,debug,decisiontree,ebm,lime,linear,notebook,plotly,required,sensitivity,shap,skoperules,treeinterpreter]==0.4.4->interpret) (58.1.0)\n",
      "Requirement already satisfied: importlib-metadata in /home/fredy/unal/proyecto-shap/.venv/lib/python3.9/site-packages (from dash>=1.0.0->interpret-core[dash,debug,decisiontree,ebm,lime,linear,notebook,plotly,required,sensitivity,shap,skoperules,treeinterpreter]==0.4.4->interpret) (6.8.0)\n",
      "Collecting zope.event (from gevent>=1.3.6->interpret-core[dash,debug,decisiontree,ebm,lime,linear,notebook,plotly,required,sensitivity,shap,skoperules,treeinterpreter]==0.4.4->interpret)\n",
      "  Using cached zope.event-5.0-py3-none-any.whl.metadata (4.4 kB)\n",
      "Collecting zope.interface (from gevent>=1.3.6->interpret-core[dash,debug,decisiontree,ebm,lime,linear,notebook,plotly,required,sensitivity,shap,skoperules,treeinterpreter]==0.4.4->interpret)\n",
      "  Using cached zope.interface-6.1-cp39-cp39-manylinux_2_5_x86_64.manylinux1_x86_64.manylinux_2_17_x86_64.manylinux2014_x86_64.whl.metadata (41 kB)\n",
      "Collecting greenlet>=2.0.0 (from gevent>=1.3.6->interpret-core[dash,debug,decisiontree,ebm,lime,linear,notebook,plotly,required,sensitivity,shap,skoperules,treeinterpreter]==0.4.4->interpret)\n",
      "  Using cached greenlet-3.0.1-cp39-cp39-manylinux_2_24_x86_64.manylinux_2_28_x86_64.whl.metadata (3.7 kB)\n",
      "Requirement already satisfied: debugpy>=1.6.5 in /home/fredy/unal/proyecto-shap/.venv/lib/python3.9/site-packages (from ipykernel>=4.10.0->interpret-core[dash,debug,decisiontree,ebm,lime,linear,notebook,plotly,required,sensitivity,shap,skoperules,treeinterpreter]==0.4.4->interpret) (1.8.0)\n",
      "Requirement already satisfied: jupyter-client>=6.1.12 in /home/fredy/unal/proyecto-shap/.venv/lib/python3.9/site-packages (from ipykernel>=4.10.0->interpret-core[dash,debug,decisiontree,ebm,lime,linear,notebook,plotly,required,sensitivity,shap,skoperules,treeinterpreter]==0.4.4->interpret) (8.6.0)\n",
      "Requirement already satisfied: jupyter-core!=5.0.*,>=4.12 in /home/fredy/unal/proyecto-shap/.venv/lib/python3.9/site-packages (from ipykernel>=4.10.0->interpret-core[dash,debug,decisiontree,ebm,lime,linear,notebook,plotly,required,sensitivity,shap,skoperules,treeinterpreter]==0.4.4->interpret) (5.5.0)\n",
      "Requirement already satisfied: packaging in /home/fredy/unal/proyecto-shap/.venv/lib/python3.9/site-packages (from ipykernel>=4.10.0->interpret-core[dash,debug,decisiontree,ebm,lime,linear,notebook,plotly,required,sensitivity,shap,skoperules,treeinterpreter]==0.4.4->interpret) (23.2)\n",
      "Requirement already satisfied: pyzmq>=20 in /home/fredy/unal/proyecto-shap/.venv/lib/python3.9/site-packages (from ipykernel>=4.10.0->interpret-core[dash,debug,decisiontree,ebm,lime,linear,notebook,plotly,required,sensitivity,shap,skoperules,treeinterpreter]==0.4.4->interpret) (25.1.1)\n",
      "Requirement already satisfied: tornado>=6.1 in /home/fredy/unal/proyecto-shap/.venv/lib/python3.9/site-packages (from ipykernel>=4.10.0->interpret-core[dash,debug,decisiontree,ebm,lime,linear,notebook,plotly,required,sensitivity,shap,skoperules,treeinterpreter]==0.4.4->interpret) (6.3.3)\n",
      "Requirement already satisfied: parso<0.9.0,>=0.8.3 in /home/fredy/unal/proyecto-shap/.venv/lib/python3.9/site-packages (from jedi>=0.16->ipython>=6.1.0->ipywidgets) (0.8.3)\n",
      "Collecting matplotlib (from lime>=0.1.1.33->interpret-core[dash,debug,decisiontree,ebm,lime,linear,notebook,plotly,required,sensitivity,shap,skoperules,treeinterpreter]==0.4.4->interpret)\n",
      "  Using cached matplotlib-3.8.2-cp39-cp39-manylinux_2_17_x86_64.manylinux2014_x86_64.whl.metadata (5.8 kB)\n",
      "Collecting tqdm (from lime>=0.1.1.33->interpret-core[dash,debug,decisiontree,ebm,lime,linear,notebook,plotly,required,sensitivity,shap,skoperules,treeinterpreter]==0.4.4->interpret)\n",
      "  Using cached tqdm-4.66.1-py3-none-any.whl.metadata (57 kB)\n",
      "Collecting scikit-image>=0.12 (from lime>=0.1.1.33->interpret-core[dash,debug,decisiontree,ebm,lime,linear,notebook,plotly,required,sensitivity,shap,skoperules,treeinterpreter]==0.4.4->interpret)\n",
      "  Using cached scikit_image-0.22.0-cp39-cp39-manylinux_2_17_x86_64.manylinux2014_x86_64.whl.metadata (13 kB)\n",
      "Requirement already satisfied: ptyprocess>=0.5 in /home/fredy/unal/proyecto-shap/.venv/lib/python3.9/site-packages (from pexpect>4.3->ipython>=6.1.0->ipywidgets) (0.7.0)\n",
      "Collecting tenacity>=6.2.0 (from plotly>=3.8.1->interpret-core[dash,debug,decisiontree,ebm,lime,linear,notebook,plotly,required,sensitivity,shap,skoperules,treeinterpreter]==0.4.4->interpret)\n",
      "  Using cached tenacity-8.2.3-py3-none-any.whl.metadata (1.0 kB)\n",
      "Requirement already satisfied: wcwidth in /home/fredy/unal/proyecto-shap/.venv/lib/python3.9/site-packages (from prompt-toolkit!=3.0.37,<3.1.0,>=3.0.30->ipython>=6.1.0->ipywidgets) (0.2.11)\n",
      "Collecting charset-normalizer<4,>=2 (from requests>=2.19.0->interpret-core[dash,debug,decisiontree,ebm,lime,linear,notebook,plotly,required,sensitivity,shap,skoperules,treeinterpreter]==0.4.4->interpret)\n",
      "  Using cached charset_normalizer-3.3.2-cp39-cp39-manylinux_2_17_x86_64.manylinux2014_x86_64.whl.metadata (33 kB)\n",
      "Collecting idna<4,>=2.5 (from requests>=2.19.0->interpret-core[dash,debug,decisiontree,ebm,lime,linear,notebook,plotly,required,sensitivity,shap,skoperules,treeinterpreter]==0.4.4->interpret)\n",
      "  Using cached idna-3.4-py3-none-any.whl (61 kB)\n",
      "Collecting urllib3<3,>=1.21.1 (from requests>=2.19.0->interpret-core[dash,debug,decisiontree,ebm,lime,linear,notebook,plotly,required,sensitivity,shap,skoperules,treeinterpreter]==0.4.4->interpret)\n",
      "  Using cached urllib3-2.1.0-py3-none-any.whl.metadata (6.4 kB)\n",
      "Collecting certifi>=2017.4.17 (from requests>=2.19.0->interpret-core[dash,debug,decisiontree,ebm,lime,linear,notebook,plotly,required,sensitivity,shap,skoperules,treeinterpreter]==0.4.4->interpret)\n",
      "  Using cached certifi-2023.11.17-py3-none-any.whl.metadata (2.2 kB)\n",
      "Collecting multiprocess (from SALib>=1.3.3->interpret-core[dash,debug,decisiontree,ebm,lime,linear,notebook,plotly,required,sensitivity,shap,skoperules,treeinterpreter]==0.4.4->interpret)\n",
      "  Using cached multiprocess-0.70.15-py39-none-any.whl.metadata (7.2 kB)\n",
      "Collecting slicer==0.0.7 (from shap>=0.28.5->interpret-core[dash,debug,decisiontree,ebm,lime,linear,notebook,plotly,required,sensitivity,shap,skoperules,treeinterpreter]==0.4.4->interpret)\n",
      "  Using cached slicer-0.0.7-py3-none-any.whl (14 kB)\n",
      "Collecting numba (from shap>=0.28.5->interpret-core[dash,debug,decisiontree,ebm,lime,linear,notebook,plotly,required,sensitivity,shap,skoperules,treeinterpreter]==0.4.4->interpret)\n",
      "  Using cached numba-0.58.1-cp39-cp39-manylinux2014_x86_64.manylinux_2_17_x86_64.whl.metadata (2.7 kB)\n",
      "Collecting cloudpickle (from shap>=0.28.5->interpret-core[dash,debug,decisiontree,ebm,lime,linear,notebook,plotly,required,sensitivity,shap,skoperules,treeinterpreter]==0.4.4->interpret)\n",
      "  Using cached cloudpickle-3.0.0-py3-none-any.whl.metadata (7.0 kB)\n",
      "Requirement already satisfied: executing>=1.2.0 in /home/fredy/unal/proyecto-shap/.venv/lib/python3.9/site-packages (from stack-data->ipython>=6.1.0->ipywidgets) (2.0.1)\n",
      "Requirement already satisfied: asttokens>=2.1.0 in /home/fredy/unal/proyecto-shap/.venv/lib/python3.9/site-packages (from stack-data->ipython>=6.1.0->ipywidgets) (2.4.1)\n",
      "Requirement already satisfied: pure-eval in /home/fredy/unal/proyecto-shap/.venv/lib/python3.9/site-packages (from stack-data->ipython>=6.1.0->ipywidgets) (0.2.2)\n",
      "Collecting Jinja2>=3.1.2 (from Flask<3.1,>=1.0.4->dash>=1.0.0->interpret-core[dash,debug,decisiontree,ebm,lime,linear,notebook,plotly,required,sensitivity,shap,skoperules,treeinterpreter]==0.4.4->interpret)\n",
      "  Using cached Jinja2-3.1.2-py3-none-any.whl (133 kB)\n",
      "Collecting itsdangerous>=2.1.2 (from Flask<3.1,>=1.0.4->dash>=1.0.0->interpret-core[dash,debug,decisiontree,ebm,lime,linear,notebook,plotly,required,sensitivity,shap,skoperules,treeinterpreter]==0.4.4->interpret)\n",
      "  Using cached itsdangerous-2.1.2-py3-none-any.whl (15 kB)\n",
      "Collecting click>=8.1.3 (from Flask<3.1,>=1.0.4->dash>=1.0.0->interpret-core[dash,debug,decisiontree,ebm,lime,linear,notebook,plotly,required,sensitivity,shap,skoperules,treeinterpreter]==0.4.4->interpret)\n",
      "  Using cached click-8.1.7-py3-none-any.whl.metadata (3.0 kB)\n",
      "Collecting blinker>=1.6.2 (from Flask<3.1,>=1.0.4->dash>=1.0.0->interpret-core[dash,debug,decisiontree,ebm,lime,linear,notebook,plotly,required,sensitivity,shap,skoperules,treeinterpreter]==0.4.4->interpret)\n",
      "  Using cached blinker-1.7.0-py3-none-any.whl.metadata (1.9 kB)\n",
      "Requirement already satisfied: zipp>=0.5 in /home/fredy/unal/proyecto-shap/.venv/lib/python3.9/site-packages (from importlib-metadata->dash>=1.0.0->interpret-core[dash,debug,decisiontree,ebm,lime,linear,notebook,plotly,required,sensitivity,shap,skoperules,treeinterpreter]==0.4.4->interpret) (3.17.0)\n",
      "Requirement already satisfied: platformdirs>=2.5 in /home/fredy/unal/proyecto-shap/.venv/lib/python3.9/site-packages (from jupyter-core!=5.0.*,>=4.12->ipykernel>=4.10.0->interpret-core[dash,debug,decisiontree,ebm,lime,linear,notebook,plotly,required,sensitivity,shap,skoperules,treeinterpreter]==0.4.4->interpret) (4.0.0)\n",
      "Collecting contourpy>=1.0.1 (from matplotlib->lime>=0.1.1.33->interpret-core[dash,debug,decisiontree,ebm,lime,linear,notebook,plotly,required,sensitivity,shap,skoperules,treeinterpreter]==0.4.4->interpret)\n",
      "  Using cached contourpy-1.2.0-cp39-cp39-manylinux_2_17_x86_64.manylinux2014_x86_64.whl.metadata (5.8 kB)\n",
      "Collecting cycler>=0.10 (from matplotlib->lime>=0.1.1.33->interpret-core[dash,debug,decisiontree,ebm,lime,linear,notebook,plotly,required,sensitivity,shap,skoperules,treeinterpreter]==0.4.4->interpret)\n",
      "  Using cached cycler-0.12.1-py3-none-any.whl.metadata (3.8 kB)\n",
      "Collecting fonttools>=4.22.0 (from matplotlib->lime>=0.1.1.33->interpret-core[dash,debug,decisiontree,ebm,lime,linear,notebook,plotly,required,sensitivity,shap,skoperules,treeinterpreter]==0.4.4->interpret)\n",
      "  Using cached fonttools-4.45.0-cp39-cp39-manylinux_2_17_x86_64.manylinux2014_x86_64.whl.metadata (154 kB)\n",
      "Collecting kiwisolver>=1.3.1 (from matplotlib->lime>=0.1.1.33->interpret-core[dash,debug,decisiontree,ebm,lime,linear,notebook,plotly,required,sensitivity,shap,skoperules,treeinterpreter]==0.4.4->interpret)\n",
      "  Using cached kiwisolver-1.4.5-cp39-cp39-manylinux_2_12_x86_64.manylinux2010_x86_64.whl.metadata (6.4 kB)\n",
      "Collecting pillow>=8 (from matplotlib->lime>=0.1.1.33->interpret-core[dash,debug,decisiontree,ebm,lime,linear,notebook,plotly,required,sensitivity,shap,skoperules,treeinterpreter]==0.4.4->interpret)\n",
      "  Using cached Pillow-10.1.0-cp39-cp39-manylinux_2_28_x86_64.whl.metadata (9.5 kB)\n",
      "Collecting pyparsing>=2.3.1 (from matplotlib->lime>=0.1.1.33->interpret-core[dash,debug,decisiontree,ebm,lime,linear,notebook,plotly,required,sensitivity,shap,skoperules,treeinterpreter]==0.4.4->interpret)\n",
      "  Using cached pyparsing-3.1.1-py3-none-any.whl.metadata (5.1 kB)\n",
      "Collecting importlib-resources>=3.2.0 (from matplotlib->lime>=0.1.1.33->interpret-core[dash,debug,decisiontree,ebm,lime,linear,notebook,plotly,required,sensitivity,shap,skoperules,treeinterpreter]==0.4.4->interpret)\n",
      "  Using cached importlib_resources-6.1.1-py3-none-any.whl.metadata (4.1 kB)\n",
      "Collecting networkx>=2.8 (from scikit-image>=0.12->lime>=0.1.1.33->interpret-core[dash,debug,decisiontree,ebm,lime,linear,notebook,plotly,required,sensitivity,shap,skoperules,treeinterpreter]==0.4.4->interpret)\n",
      "  Using cached networkx-3.2.1-py3-none-any.whl.metadata (5.2 kB)\n",
      "Collecting imageio>=2.27 (from scikit-image>=0.12->lime>=0.1.1.33->interpret-core[dash,debug,decisiontree,ebm,lime,linear,notebook,plotly,required,sensitivity,shap,skoperules,treeinterpreter]==0.4.4->interpret)\n",
      "  Using cached imageio-2.33.0-py3-none-any.whl.metadata (4.9 kB)\n",
      "Collecting tifffile>=2022.8.12 (from scikit-image>=0.12->lime>=0.1.1.33->interpret-core[dash,debug,decisiontree,ebm,lime,linear,notebook,plotly,required,sensitivity,shap,skoperules,treeinterpreter]==0.4.4->interpret)\n",
      "  Using cached tifffile-2023.9.26-py3-none-any.whl.metadata (30 kB)\n",
      "Collecting lazy_loader>=0.3 (from scikit-image>=0.12->lime>=0.1.1.33->interpret-core[dash,debug,decisiontree,ebm,lime,linear,notebook,plotly,required,sensitivity,shap,skoperules,treeinterpreter]==0.4.4->interpret)\n",
      "  Using cached lazy_loader-0.3-py3-none-any.whl.metadata (4.3 kB)\n",
      "Collecting MarkupSafe>=2.1.1 (from Werkzeug<3.1->dash>=1.0.0->interpret-core[dash,debug,decisiontree,ebm,lime,linear,notebook,plotly,required,sensitivity,shap,skoperules,treeinterpreter]==0.4.4->interpret)\n",
      "  Using cached MarkupSafe-2.1.3-cp39-cp39-manylinux_2_17_x86_64.manylinux2014_x86_64.whl.metadata (3.0 kB)\n",
      "Collecting llvmlite<0.42,>=0.41.0dev0 (from numba->shap>=0.28.5->interpret-core[dash,debug,decisiontree,ebm,lime,linear,notebook,plotly,required,sensitivity,shap,skoperules,treeinterpreter]==0.4.4->interpret)\n",
      "  Using cached llvmlite-0.41.1-cp39-cp39-manylinux_2_17_x86_64.manylinux2014_x86_64.whl.metadata (4.8 kB)\n",
      "Using cached ipywidgets-8.1.1-py3-none-any.whl (139 kB)\n",
      "Downloading numpy-1.26.2-cp39-cp39-manylinux_2_17_x86_64.manylinux2014_x86_64.whl (18.2 MB)\n",
      "\u001b[2K   \u001b[90m━━━━━━━━━━━━━━━━━━━━━━━━━━━━━━━━━━━━━━━━\u001b[0m \u001b[32m18.2/18.2 MB\u001b[0m \u001b[31m7.1 MB/s\u001b[0m eta \u001b[36m0:00:00\u001b[0m00:01\u001b[0m00:01\u001b[0m\n",
      "\u001b[?25hDownloading pandas-2.1.3-cp39-cp39-manylinux_2_17_x86_64.manylinux2014_x86_64.whl (12.3 MB)\n",
      "\u001b[2K   \u001b[90m━━━━━━━━━━━━━━━━━━━━━━━━━━━━━━━━━━━━━━━━\u001b[0m \u001b[32m12.3/12.3 MB\u001b[0m \u001b[31m7.2 MB/s\u001b[0m eta \u001b[36m0:00:00\u001b[0m00:01\u001b[0m00:01\u001b[0m\n",
      "\u001b[?25hDownloading scikit_learn-1.3.2-cp39-cp39-manylinux_2_17_x86_64.manylinux2014_x86_64.whl (10.9 MB)\n",
      "\u001b[2K   \u001b[90m━━━━━━━━━━━━━━━━━━━━━━━━━━━━━━━━━━━━━━━━\u001b[0m \u001b[32m10.9/10.9 MB\u001b[0m \u001b[31m8.5 MB/s\u001b[0m eta \u001b[36m0:00:00\u001b[0m00:01\u001b[0m00:01\u001b[0m\n",
      "\u001b[?25hUsing cached interpret-0.4.4-py3-none-any.whl (1.4 kB)\n",
      "Using cached interpret_core-0.4.4-py3-none-any.whl (16.9 MB)\n",
      "Using cached xgboost-2.0.2-py3-none-manylinux2014_x86_64.whl (297.1 MB)\n",
      "Using cached joblib-1.3.2-py3-none-any.whl (302 kB)\n",
      "Using cached jupyterlab_widgets-3.0.9-py3-none-any.whl (214 kB)\n",
      "Using cached pytz-2023.3.post1-py2.py3-none-any.whl (502 kB)\n",
      "Downloading scipy-1.11.4-cp39-cp39-manylinux_2_17_x86_64.manylinux2014_x86_64.whl (36.6 MB)\n",
      "\u001b[2K   \u001b[90m━━━━━━━━━━━━━━━━━━━━━━━━━━━━━━━━━━━━━━━━\u001b[0m \u001b[32m36.6/36.6 MB\u001b[0m \u001b[31m7.5 MB/s\u001b[0m eta \u001b[36m0:00:00\u001b[0m00:01\u001b[0m00:01\u001b[0m\n",
      "\u001b[?25hUsing cached threadpoolctl-3.2.0-py3-none-any.whl (15 kB)\n",
      "Using cached widgetsnbextension-4.0.9-py3-none-any.whl (2.3 MB)\n",
      "Using cached dash-2.14.1-py3-none-any.whl (10.4 MB)\n",
      "Using cached dill-0.3.7-py3-none-any.whl (115 kB)\n",
      "Downloading gevent-23.9.1-cp39-cp39-manylinux_2_28_x86_64.whl (6.4 MB)\n",
      "\u001b[2K   \u001b[90m━━━━━━━━━━━━━━━━━━━━━━━━━━━━━━━━━━━━━━━━\u001b[0m \u001b[32m6.4/6.4 MB\u001b[0m \u001b[31m7.7 MB/s\u001b[0m eta \u001b[36m0:00:00\u001b[0m00:01\u001b[0m00:01\u001b[0m\n",
      "\u001b[?25hUsing cached plotly-5.18.0-py3-none-any.whl (15.6 MB)\n",
      "Using cached requests-2.31.0-py3-none-any.whl (62 kB)\n",
      "Downloading shap-0.43.0-cp39-cp39-manylinux_2_12_x86_64.manylinux2010_x86_64.manylinux_2_17_x86_64.manylinux2014_x86_64.whl (532 kB)\n",
      "\u001b[2K   \u001b[90m━━━━━━━━━━━━━━━━━━━━━━━━━━━━━━━━━━━━━━━━\u001b[0m \u001b[32m532.7/532.7 kB\u001b[0m \u001b[31m6.9 MB/s\u001b[0m eta \u001b[36m0:00:00\u001b[0mta \u001b[36m0:00:01\u001b[0m\n",
      "\u001b[?25hUsing cached certifi-2023.11.17-py3-none-any.whl (162 kB)\n",
      "Downloading charset_normalizer-3.3.2-cp39-cp39-manylinux_2_17_x86_64.manylinux2014_x86_64.whl (142 kB)\n",
      "\u001b[2K   \u001b[90m━━━━━━━━━━━━━━━━━━━━━━━━━━━━━━━━━━━━━━━━\u001b[0m \u001b[32m142.3/142.3 kB\u001b[0m \u001b[31m4.4 MB/s\u001b[0m eta \u001b[36m0:00:00\u001b[0m\n",
      "\u001b[?25hUsing cached flask-3.0.0-py3-none-any.whl (99 kB)\n",
      "Downloading greenlet-3.0.1-cp39-cp39-manylinux_2_24_x86_64.manylinux_2_28_x86_64.whl (610 kB)\n",
      "\u001b[2K   \u001b[90m━━━━━━━━━━━━━━━━━━━━━━━━━━━━━━━━━━━━━━━━\u001b[0m \u001b[32m610.6/610.6 kB\u001b[0m \u001b[31m5.9 MB/s\u001b[0m eta \u001b[36m0:00:00\u001b[0m00:01\u001b[0m:00:01\u001b[0m\n",
      "\u001b[?25hDownloading matplotlib-3.8.2-cp39-cp39-manylinux_2_17_x86_64.manylinux2014_x86_64.whl (11.6 MB)\n",
      "\u001b[2K   \u001b[90m━━━━━━━━━━━━━━━━━━━━━━━━━━━━━━━━━━━━━━━━\u001b[0m \u001b[32m11.6/11.6 MB\u001b[0m \u001b[31m7.2 MB/s\u001b[0m eta \u001b[36m0:00:00\u001b[0m00:01\u001b[0m00:01\u001b[0m\n",
      "\u001b[?25hDownloading scikit_image-0.22.0-cp39-cp39-manylinux_2_17_x86_64.manylinux2014_x86_64.whl (14.7 MB)\n",
      "\u001b[2K   \u001b[90m━━━━━━━━━━━━━━━━━━━━━━━━━━━━━━━━━━━━━━━━\u001b[0m \u001b[32m14.7/14.7 MB\u001b[0m \u001b[31m7.1 MB/s\u001b[0m eta \u001b[36m0:00:00\u001b[0m00:01\u001b[0m00:01\u001b[0m\n",
      "\u001b[?25hUsing cached tenacity-8.2.3-py3-none-any.whl (24 kB)\n",
      "Using cached tqdm-4.66.1-py3-none-any.whl (78 kB)\n",
      "Using cached urllib3-2.1.0-py3-none-any.whl (104 kB)\n",
      "Using cached werkzeug-3.0.1-py3-none-any.whl (226 kB)\n",
      "Using cached cloudpickle-3.0.0-py3-none-any.whl (20 kB)\n",
      "Downloading multiprocess-0.70.15-py39-none-any.whl (133 kB)\n",
      "\u001b[2K   \u001b[90m━━━━━━━━━━━━━━━━━━━━━━━━━━━━━━━━━━━━━━━━\u001b[0m \u001b[32m133.3/133.3 kB\u001b[0m \u001b[31m5.2 MB/s\u001b[0m eta \u001b[36m0:00:00\u001b[0m\n",
      "\u001b[?25hDownloading numba-0.58.1-cp39-cp39-manylinux2014_x86_64.manylinux_2_17_x86_64.whl (3.6 MB)\n",
      "\u001b[2K   \u001b[90m━━━━━━━━━━━━━━━━━━━━━━━━━━━━━━━━━━━━━━━━\u001b[0m \u001b[32m3.6/3.6 MB\u001b[0m \u001b[31m4.6 MB/s\u001b[0m eta \u001b[36m0:00:00\u001b[0m00:01\u001b[0m00:01\u001b[0mm\n",
      "\u001b[?25hUsing cached zope.event-5.0-py3-none-any.whl (6.8 kB)\n",
      "Downloading zope.interface-6.1-cp39-cp39-manylinux_2_5_x86_64.manylinux1_x86_64.manylinux_2_17_x86_64.manylinux2014_x86_64.whl (246 kB)\n",
      "\u001b[2K   \u001b[90m━━━━━━━━━━━━━━━━━━━━━━━━━━━━━━━━━━━━━━━━\u001b[0m \u001b[32m246.2/246.2 kB\u001b[0m \u001b[31m3.4 MB/s\u001b[0m eta \u001b[36m0:00:00\u001b[0mta \u001b[36m0:00:01\u001b[0m\n",
      "\u001b[?25hUsing cached blinker-1.7.0-py3-none-any.whl (13 kB)\n",
      "Using cached click-8.1.7-py3-none-any.whl (97 kB)\n",
      "Downloading contourpy-1.2.0-cp39-cp39-manylinux_2_17_x86_64.manylinux2014_x86_64.whl (310 kB)\n",
      "\u001b[2K   \u001b[90m━━━━━━━━━━━━━━━━━━━━━━━━━━━━━━━━━━━━━━━━\u001b[0m \u001b[32m311.0/311.0 kB\u001b[0m \u001b[31m5.3 MB/s\u001b[0m eta \u001b[36m0:00:00\u001b[0m:00:01\u001b[0m\n",
      "\u001b[?25hUsing cached cycler-0.12.1-py3-none-any.whl (8.3 kB)\n",
      "Downloading fonttools-4.45.0-cp39-cp39-manylinux_2_17_x86_64.manylinux2014_x86_64.whl (4.6 MB)\n",
      "\u001b[2K   \u001b[90m━━━━━━━━━━━━━━━━━━━━━━━━━━━━━━━━━━━━━━━━\u001b[0m \u001b[32m4.6/4.6 MB\u001b[0m \u001b[31m8.4 MB/s\u001b[0m eta \u001b[36m0:00:00\u001b[0m00:01\u001b[0m00:01\u001b[0mm\n",
      "\u001b[?25hDownloading imageio-2.33.0-py3-none-any.whl (313 kB)\n",
      "\u001b[2K   \u001b[90m━━━━━━━━━━━━━━━━━━━━━━━━━━━━━━━━━━━━━━━━\u001b[0m \u001b[32m313.3/313.3 kB\u001b[0m \u001b[31m5.8 MB/s\u001b[0m eta \u001b[36m0:00:00\u001b[0m:00:01\u001b[0m\n",
      "\u001b[?25hDownloading importlib_resources-6.1.1-py3-none-any.whl (33 kB)\n",
      "Downloading kiwisolver-1.4.5-cp39-cp39-manylinux_2_12_x86_64.manylinux2010_x86_64.whl (1.6 MB)\n",
      "\u001b[2K   \u001b[90m━━━━━━━━━━━━━━━━━━━━━━━━━━━━━━━━━━━━━━━━\u001b[0m \u001b[32m1.6/1.6 MB\u001b[0m \u001b[31m7.8 MB/s\u001b[0m eta \u001b[36m0:00:00\u001b[0m00:01\u001b[0m00:01\u001b[0mm\n",
      "\u001b[?25hUsing cached lazy_loader-0.3-py3-none-any.whl (9.1 kB)\n",
      "Downloading llvmlite-0.41.1-cp39-cp39-manylinux_2_17_x86_64.manylinux2014_x86_64.whl (43.6 MB)\n",
      "\u001b[2K   \u001b[90m━━━━━━━━━━━━━━━━━━━━━━━━━━━━━━━━━━━━━━━━\u001b[0m \u001b[32m43.6/43.6 MB\u001b[0m \u001b[31m5.7 MB/s\u001b[0m eta \u001b[36m0:00:00\u001b[0m00:01\u001b[0m00:01\u001b[0m\n",
      "\u001b[?25hDownloading MarkupSafe-2.1.3-cp39-cp39-manylinux_2_17_x86_64.manylinux2014_x86_64.whl (25 kB)\n",
      "Using cached networkx-3.2.1-py3-none-any.whl (1.6 MB)\n",
      "Downloading Pillow-10.1.0-cp39-cp39-manylinux_2_28_x86_64.whl (3.6 MB)\n",
      "\u001b[2K   \u001b[90m━━━━━━━━━━━━━━━━━━━━━━━━━━━━━━━━━━━━━━━━\u001b[0m \u001b[32m3.6/3.6 MB\u001b[0m \u001b[31m8.0 MB/s\u001b[0m eta \u001b[36m0:00:00\u001b[0m00:01\u001b[0m00:01\u001b[0mm\n",
      "\u001b[?25hUsing cached pyparsing-3.1.1-py3-none-any.whl (103 kB)\n",
      "Using cached tifffile-2023.9.26-py3-none-any.whl (222 kB)\n",
      "Building wheels for collected packages: lime\n",
      "  Building wheel for lime (pyproject.toml) ... \u001b[?25ldone\n",
      "\u001b[?25h  Created wheel for lime: filename=lime-0.2.0.1-py3-none-any.whl size=283834 sha256=4b29fa74d340a12ed72476c1a3047b500b0cd8b7dae7c7da227d944490c765a5\n",
      "  Stored in directory: /home/fredy/.cache/pip/wheels/ed/d7/c9/5a0130d06d6310bc6cbe55220e6e72dcb8c4eff9a478717066\n",
      "Successfully built lime\n",
      "Installing collected packages: treeinterpreter, pytz, interpret-core, dash-table, dash-html-components, dash-core-components, zope.interface, zope.event, widgetsnbextension, urllib3, tzdata, tqdm, threadpoolctl, tenacity, slicer, retrying, pyparsing, pillow, numpy, networkx, MarkupSafe, llvmlite, lazy_loader, kiwisolver, jupyterlab-widgets, joblib, itsdangerous, importlib-resources, idna, greenlet, fonttools, dill, cycler, cloudpickle, click, charset-normalizer, certifi, blinker, ansi2html, Werkzeug, tifffile, scipy, requests, plotly, pandas, numba, multiprocess, Jinja2, imageio, gevent, contourpy, xgboost, scikit-learn, scikit-image, matplotlib, Flask, skope-rules, shap, SALib, lime, ipywidgets, dash, dash-cytoscape, interpret\n",
      "Successfully installed Flask-3.0.0 Jinja2-3.1.2 MarkupSafe-2.1.3 SALib-1.4.7 Werkzeug-3.0.1 ansi2html-1.8.0 blinker-1.7.0 certifi-2023.11.17 charset-normalizer-3.3.2 click-8.1.7 cloudpickle-3.0.0 contourpy-1.2.0 cycler-0.12.1 dash-2.14.1 dash-core-components-2.0.0 dash-cytoscape-0.3.0 dash-html-components-2.0.0 dash-table-5.0.0 dill-0.3.7 fonttools-4.45.0 gevent-23.9.1 greenlet-3.0.1 idna-3.4 imageio-2.33.0 importlib-resources-6.1.1 interpret-0.4.4 interpret-core-0.4.4 ipywidgets-8.1.1 itsdangerous-2.1.2 joblib-1.3.2 jupyterlab-widgets-3.0.9 kiwisolver-1.4.5 lazy_loader-0.3 lime-0.2.0.1 llvmlite-0.41.1 matplotlib-3.8.2 multiprocess-0.70.15 networkx-3.2.1 numba-0.58.1 numpy-1.26.2 pandas-2.1.3 pillow-10.1.0 plotly-5.18.0 pyparsing-3.1.1 pytz-2023.3.post1 requests-2.31.0 retrying-1.3.4 scikit-image-0.22.0 scikit-learn-1.3.2 scipy-1.11.4 shap-0.43.0 skope-rules-1.0.1 slicer-0.0.7 tenacity-8.2.3 threadpoolctl-3.2.0 tifffile-2023.9.26 tqdm-4.66.1 treeinterpreter-0.2.3 tzdata-2023.3 urllib3-2.1.0 widgetsnbextension-4.0.9 xgboost-2.0.2 zope.event-5.0 zope.interface-6.1\n"
     ]
    }
   ],
   "source": [
    "#@title Liberías\n",
    "!pip install ipywidgets numpy pandas scikit-learn interpret xgboost"
   ]
  },
  {
   "cell_type": "markdown",
   "metadata": {},
   "source": [
    "Debemos instalar la version v0.42.1 de Shap"
   ]
  },
  {
   "cell_type": "code",
   "execution_count": 29,
   "metadata": {},
   "outputs": [
    {
     "name": "stdout",
     "output_type": "stream",
     "text": [
      "Requirement already satisfied: shap==0.42.1 in /home/fredy/unal/proyecto-shap/.venv/lib/python3.9/site-packages (0.42.1)\n",
      "Requirement already satisfied: numpy in /home/fredy/unal/proyecto-shap/.venv/lib/python3.9/site-packages (from shap==0.42.1) (1.26.2)\n",
      "Requirement already satisfied: scipy in /home/fredy/unal/proyecto-shap/.venv/lib/python3.9/site-packages (from shap==0.42.1) (1.11.4)\n",
      "Requirement already satisfied: scikit-learn in /home/fredy/unal/proyecto-shap/.venv/lib/python3.9/site-packages (from shap==0.42.1) (1.3.2)\n",
      "Requirement already satisfied: pandas in /home/fredy/unal/proyecto-shap/.venv/lib/python3.9/site-packages (from shap==0.42.1) (2.1.3)\n",
      "Requirement already satisfied: tqdm>=4.27.0 in /home/fredy/unal/proyecto-shap/.venv/lib/python3.9/site-packages (from shap==0.42.1) (4.66.1)\n",
      "Requirement already satisfied: packaging>20.9 in /home/fredy/unal/proyecto-shap/.venv/lib/python3.9/site-packages (from shap==0.42.1) (23.2)\n",
      "Requirement already satisfied: slicer==0.0.7 in /home/fredy/unal/proyecto-shap/.venv/lib/python3.9/site-packages (from shap==0.42.1) (0.0.7)\n",
      "Requirement already satisfied: numba in /home/fredy/unal/proyecto-shap/.venv/lib/python3.9/site-packages (from shap==0.42.1) (0.58.1)\n",
      "Requirement already satisfied: cloudpickle in /home/fredy/unal/proyecto-shap/.venv/lib/python3.9/site-packages (from shap==0.42.1) (3.0.0)\n",
      "Requirement already satisfied: llvmlite<0.42,>=0.41.0dev0 in /home/fredy/unal/proyecto-shap/.venv/lib/python3.9/site-packages (from numba->shap==0.42.1) (0.41.1)\n",
      "Requirement already satisfied: python-dateutil>=2.8.2 in /home/fredy/unal/proyecto-shap/.venv/lib/python3.9/site-packages (from pandas->shap==0.42.1) (2.8.2)\n",
      "Requirement already satisfied: pytz>=2020.1 in /home/fredy/unal/proyecto-shap/.venv/lib/python3.9/site-packages (from pandas->shap==0.42.1) (2023.3.post1)\n",
      "Requirement already satisfied: tzdata>=2022.1 in /home/fredy/unal/proyecto-shap/.venv/lib/python3.9/site-packages (from pandas->shap==0.42.1) (2023.3)\n",
      "Requirement already satisfied: joblib>=1.1.1 in /home/fredy/unal/proyecto-shap/.venv/lib/python3.9/site-packages (from scikit-learn->shap==0.42.1) (1.3.2)\n",
      "Requirement already satisfied: threadpoolctl>=2.0.0 in /home/fredy/unal/proyecto-shap/.venv/lib/python3.9/site-packages (from scikit-learn->shap==0.42.1) (3.2.0)\n",
      "Requirement already satisfied: six>=1.5 in /home/fredy/unal/proyecto-shap/.venv/lib/python3.9/site-packages (from python-dateutil>=2.8.2->pandas->shap==0.42.1) (1.16.0)\n"
     ]
    }
   ],
   "source": [
    "!pip install shap==0.42.1"
   ]
  },
  {
   "cell_type": "code",
   "execution_count": 30,
   "metadata": {},
   "outputs": [
    {
     "name": "stdout",
     "output_type": "stream",
     "text": [
      "Name: shap\n",
      "Version: 0.42.1\n",
      "Summary: A unified approach to explain the output of any machine learning model.\n",
      "Home-page: \n",
      "Author: \n",
      "Author-email: Scott Lundberg <slund1@cs.washington.edu>\n",
      "License: MIT License\n",
      "Location: /home/fredy/unal/proyecto-shap/.venv/lib/python3.9/site-packages\n",
      "Requires: cloudpickle, numba, numpy, packaging, pandas, scikit-learn, scipy, slicer, tqdm\n",
      "Required-by: \n"
     ]
    }
   ],
   "source": [
    "!pip show shap"
   ]
  },
  {
   "cell_type": "code",
   "execution_count": 1,
   "metadata": {},
   "outputs": [
    {
     "name": "stderr",
     "output_type": "stream",
     "text": [
      "Using `tqdm.autonotebook.tqdm` in notebook mode. Use `tqdm.tqdm` instead to force console mode (e.g. in jupyter console)\n"
     ]
    }
   ],
   "source": [
    "import shap"
   ]
  },
  {
   "cell_type": "markdown",
   "metadata": {},
   "source": [
    "E instalar la version v3.5.3 de Matplotlib para evitar [errores de visualización](https://shap.readthedocs.io/en/latest/release_notes.html#release-v0-42-1)"
   ]
  },
  {
   "cell_type": "code",
   "execution_count": 8,
   "metadata": {},
   "outputs": [
    {
     "name": "stdout",
     "output_type": "stream",
     "text": [
      "Collecting matplotlib==3.5.3\n",
      "  Downloading matplotlib-3.5.3-cp39-cp39-manylinux_2_5_x86_64.manylinux1_x86_64.whl (11.2 MB)\n",
      "\u001b[2K     \u001b[90m━━━━━━━━━━━━━━━━━━━━━━━━━━━━━━━━━━━━━━━━\u001b[0m \u001b[32m11.2/11.2 MB\u001b[0m \u001b[31m5.3 MB/s\u001b[0m eta \u001b[36m0:00:00\u001b[0m00:01\u001b[0m00:01\u001b[0m\n",
      "\u001b[?25hRequirement already satisfied: cycler>=0.10 in /home/fredy/unal/proyecto-shap/.venv/lib/python3.9/site-packages (from matplotlib==3.5.3) (0.12.1)\n",
      "Requirement already satisfied: fonttools>=4.22.0 in /home/fredy/unal/proyecto-shap/.venv/lib/python3.9/site-packages (from matplotlib==3.5.3) (4.45.0)\n",
      "Requirement already satisfied: kiwisolver>=1.0.1 in /home/fredy/unal/proyecto-shap/.venv/lib/python3.9/site-packages (from matplotlib==3.5.3) (1.4.5)\n",
      "Requirement already satisfied: numpy>=1.17 in /home/fredy/unal/proyecto-shap/.venv/lib/python3.9/site-packages (from matplotlib==3.5.3) (1.26.2)\n",
      "Requirement already satisfied: packaging>=20.0 in /home/fredy/unal/proyecto-shap/.venv/lib/python3.9/site-packages (from matplotlib==3.5.3) (23.2)\n",
      "Requirement already satisfied: pillow>=6.2.0 in /home/fredy/unal/proyecto-shap/.venv/lib/python3.9/site-packages (from matplotlib==3.5.3) (10.1.0)\n",
      "Requirement already satisfied: pyparsing>=2.2.1 in /home/fredy/unal/proyecto-shap/.venv/lib/python3.9/site-packages (from matplotlib==3.5.3) (3.1.1)\n",
      "Requirement already satisfied: python-dateutil>=2.7 in /home/fredy/unal/proyecto-shap/.venv/lib/python3.9/site-packages (from matplotlib==3.5.3) (2.8.2)\n",
      "Requirement already satisfied: six>=1.5 in /home/fredy/unal/proyecto-shap/.venv/lib/python3.9/site-packages (from python-dateutil>=2.7->matplotlib==3.5.3) (1.16.0)\n",
      "Installing collected packages: matplotlib\n",
      "  Attempting uninstall: matplotlib\n",
      "    Found existing installation: matplotlib 3.6.0\n",
      "    Uninstalling matplotlib-3.6.0:\n",
      "      Successfully uninstalled matplotlib-3.6.0\n",
      "Successfully installed matplotlib-3.5.3\n"
     ]
    }
   ],
   "source": [
    "!pip install matplotlib==3.5.3"
   ]
  },
  {
   "cell_type": "code",
   "execution_count": 2,
   "metadata": {},
   "outputs": [
    {
     "name": "stdout",
     "output_type": "stream",
     "text": [
      "Name: matplotlib\n",
      "Version: 3.5.3\n",
      "Summary: Python plotting package\n",
      "Home-page: https://matplotlib.org\n",
      "Author: John D. Hunter, Michael Droettboom\n",
      "Author-email: matplotlib-users@python.org\n",
      "License: PSF\n",
      "Location: /home/fredy/unal/proyecto-shap/.venv/lib/python3.9/site-packages\n",
      "Requires: cycler, fonttools, kiwisolver, numpy, packaging, pillow, pyparsing, python-dateutil\n",
      "Required-by: lime, SALib\n"
     ]
    }
   ],
   "source": [
    "!pip show matplotlib"
   ]
  },
  {
   "cell_type": "markdown",
   "metadata": {},
   "source": [
    "## Obtención de conjunto de datos"
   ]
  },
  {
   "cell_type": "code",
   "execution_count": 66,
   "metadata": {},
   "outputs": [],
   "source": [
    "import shap\n",
    "X, y = shap.datasets.california(n_points=1000)\n",
    "X100 = shap.utils.sample(X, 100)  # 100 instances for use as the background distribution"
   ]
  },
  {
   "cell_type": "markdown",
   "metadata": {},
   "source": [
    "**`X` (Matriz de características):** Es una matriz que contiene información sobre las características o variables independientes del conjunto de datos. Cada fila de la matriz representa una observación, y cada columna representa una característica específica. En el contexto del conjunto de datos de California, las características podrían incluir información como ingreso medio, edad de la vivienda, número medio de habitaciones por hogar, etc."
   ]
  },
  {
   "cell_type": "code",
   "execution_count": 67,
   "metadata": {},
   "outputs": [
    {
     "data": {
      "text/html": [
       "<div>\n",
       "<style scoped>\n",
       "    .dataframe tbody tr th:only-of-type {\n",
       "        vertical-align: middle;\n",
       "    }\n",
       "\n",
       "    .dataframe tbody tr th {\n",
       "        vertical-align: top;\n",
       "    }\n",
       "\n",
       "    .dataframe thead th {\n",
       "        text-align: right;\n",
       "    }\n",
       "</style>\n",
       "<table border=\"1\" class=\"dataframe\">\n",
       "  <thead>\n",
       "    <tr style=\"text-align: right;\">\n",
       "      <th></th>\n",
       "      <th>MedInc</th>\n",
       "      <th>HouseAge</th>\n",
       "      <th>AveRooms</th>\n",
       "      <th>AveBedrms</th>\n",
       "      <th>Population</th>\n",
       "      <th>AveOccup</th>\n",
       "      <th>Latitude</th>\n",
       "      <th>Longitude</th>\n",
       "    </tr>\n",
       "  </thead>\n",
       "  <tbody>\n",
       "    <tr>\n",
       "      <th>14740</th>\n",
       "      <td>4.1518</td>\n",
       "      <td>22.0</td>\n",
       "      <td>5.663073</td>\n",
       "      <td>1.075472</td>\n",
       "      <td>1551.0</td>\n",
       "      <td>4.180593</td>\n",
       "      <td>32.58</td>\n",
       "      <td>-117.05</td>\n",
       "    </tr>\n",
       "    <tr>\n",
       "      <th>10101</th>\n",
       "      <td>5.7796</td>\n",
       "      <td>32.0</td>\n",
       "      <td>6.107226</td>\n",
       "      <td>0.927739</td>\n",
       "      <td>1296.0</td>\n",
       "      <td>3.020979</td>\n",
       "      <td>33.92</td>\n",
       "      <td>-117.97</td>\n",
       "    </tr>\n",
       "    <tr>\n",
       "      <th>20566</th>\n",
       "      <td>4.3487</td>\n",
       "      <td>29.0</td>\n",
       "      <td>5.930712</td>\n",
       "      <td>1.026217</td>\n",
       "      <td>1554.0</td>\n",
       "      <td>2.910112</td>\n",
       "      <td>38.65</td>\n",
       "      <td>-121.84</td>\n",
       "    </tr>\n",
       "    <tr>\n",
       "      <th>2670</th>\n",
       "      <td>2.4511</td>\n",
       "      <td>37.0</td>\n",
       "      <td>4.992958</td>\n",
       "      <td>1.316901</td>\n",
       "      <td>390.0</td>\n",
       "      <td>2.746479</td>\n",
       "      <td>33.20</td>\n",
       "      <td>-115.60</td>\n",
       "    </tr>\n",
       "    <tr>\n",
       "      <th>15709</th>\n",
       "      <td>5.0049</td>\n",
       "      <td>25.0</td>\n",
       "      <td>4.319261</td>\n",
       "      <td>1.039578</td>\n",
       "      <td>649.0</td>\n",
       "      <td>1.712401</td>\n",
       "      <td>37.79</td>\n",
       "      <td>-122.43</td>\n",
       "    </tr>\n",
       "    <tr>\n",
       "      <th>...</th>\n",
       "      <td>...</td>\n",
       "      <td>...</td>\n",
       "      <td>...</td>\n",
       "      <td>...</td>\n",
       "      <td>...</td>\n",
       "      <td>...</td>\n",
       "      <td>...</td>\n",
       "      <td>...</td>\n",
       "    </tr>\n",
       "    <tr>\n",
       "      <th>13339</th>\n",
       "      <td>5.7530</td>\n",
       "      <td>14.0</td>\n",
       "      <td>6.071023</td>\n",
       "      <td>0.980114</td>\n",
       "      <td>1151.0</td>\n",
       "      <td>3.269886</td>\n",
       "      <td>34.03</td>\n",
       "      <td>-117.66</td>\n",
       "    </tr>\n",
       "    <tr>\n",
       "      <th>2791</th>\n",
       "      <td>1.8325</td>\n",
       "      <td>25.0</td>\n",
       "      <td>4.279221</td>\n",
       "      <td>1.070130</td>\n",
       "      <td>1477.0</td>\n",
       "      <td>1.918182</td>\n",
       "      <td>37.37</td>\n",
       "      <td>-118.39</td>\n",
       "    </tr>\n",
       "    <tr>\n",
       "      <th>1550</th>\n",
       "      <td>6.8806</td>\n",
       "      <td>16.0</td>\n",
       "      <td>8.273632</td>\n",
       "      <td>1.042289</td>\n",
       "      <td>1272.0</td>\n",
       "      <td>3.164179</td>\n",
       "      <td>37.74</td>\n",
       "      <td>-121.93</td>\n",
       "    </tr>\n",
       "    <tr>\n",
       "      <th>17652</th>\n",
       "      <td>3.8936</td>\n",
       "      <td>13.0</td>\n",
       "      <td>4.128079</td>\n",
       "      <td>1.160099</td>\n",
       "      <td>710.0</td>\n",
       "      <td>1.748768</td>\n",
       "      <td>37.26</td>\n",
       "      <td>-121.88</td>\n",
       "    </tr>\n",
       "    <tr>\n",
       "      <th>17474</th>\n",
       "      <td>5.5184</td>\n",
       "      <td>25.0</td>\n",
       "      <td>6.030303</td>\n",
       "      <td>1.017316</td>\n",
       "      <td>1669.0</td>\n",
       "      <td>3.612554</td>\n",
       "      <td>34.44</td>\n",
       "      <td>-119.89</td>\n",
       "    </tr>\n",
       "  </tbody>\n",
       "</table>\n",
       "<p>1000 rows × 8 columns</p>\n",
       "</div>"
      ],
      "text/plain": [
       "       MedInc  HouseAge  AveRooms  AveBedrms  Population  AveOccup  Latitude  \\\n",
       "14740  4.1518      22.0  5.663073   1.075472      1551.0  4.180593     32.58   \n",
       "10101  5.7796      32.0  6.107226   0.927739      1296.0  3.020979     33.92   \n",
       "20566  4.3487      29.0  5.930712   1.026217      1554.0  2.910112     38.65   \n",
       "2670   2.4511      37.0  4.992958   1.316901       390.0  2.746479     33.20   \n",
       "15709  5.0049      25.0  4.319261   1.039578       649.0  1.712401     37.79   \n",
       "...       ...       ...       ...        ...         ...       ...       ...   \n",
       "13339  5.7530      14.0  6.071023   0.980114      1151.0  3.269886     34.03   \n",
       "2791   1.8325      25.0  4.279221   1.070130      1477.0  1.918182     37.37   \n",
       "1550   6.8806      16.0  8.273632   1.042289      1272.0  3.164179     37.74   \n",
       "17652  3.8936      13.0  4.128079   1.160099       710.0  1.748768     37.26   \n",
       "17474  5.5184      25.0  6.030303   1.017316      1669.0  3.612554     34.44   \n",
       "\n",
       "       Longitude  \n",
       "14740    -117.05  \n",
       "10101    -117.97  \n",
       "20566    -121.84  \n",
       "2670     -115.60  \n",
       "15709    -122.43  \n",
       "...          ...  \n",
       "13339    -117.66  \n",
       "2791     -118.39  \n",
       "1550     -121.93  \n",
       "17652    -121.88  \n",
       "17474    -119.89  \n",
       "\n",
       "[1000 rows x 8 columns]"
      ]
     },
     "execution_count": 67,
     "metadata": {},
     "output_type": "execute_result"
    }
   ],
   "source": [
    "X"
   ]
  },
  {
   "cell_type": "code",
   "execution_count": 68,
   "metadata": {},
   "outputs": [
    {
     "data": {
      "text/html": [
       "<div>\n",
       "<style scoped>\n",
       "    .dataframe tbody tr th:only-of-type {\n",
       "        vertical-align: middle;\n",
       "    }\n",
       "\n",
       "    .dataframe tbody tr th {\n",
       "        vertical-align: top;\n",
       "    }\n",
       "\n",
       "    .dataframe thead th {\n",
       "        text-align: right;\n",
       "    }\n",
       "</style>\n",
       "<table border=\"1\" class=\"dataframe\">\n",
       "  <thead>\n",
       "    <tr style=\"text-align: right;\">\n",
       "      <th></th>\n",
       "      <th>MedInc</th>\n",
       "      <th>HouseAge</th>\n",
       "      <th>AveRooms</th>\n",
       "      <th>AveBedrms</th>\n",
       "      <th>Population</th>\n",
       "      <th>AveOccup</th>\n",
       "      <th>Latitude</th>\n",
       "      <th>Longitude</th>\n",
       "    </tr>\n",
       "  </thead>\n",
       "  <tbody>\n",
       "    <tr>\n",
       "      <th>12953</th>\n",
       "      <td>3.7813</td>\n",
       "      <td>15.0</td>\n",
       "      <td>5.620058</td>\n",
       "      <td>1.013500</td>\n",
       "      <td>2868.0</td>\n",
       "      <td>2.765670</td>\n",
       "      <td>38.70</td>\n",
       "      <td>-121.28</td>\n",
       "    </tr>\n",
       "    <tr>\n",
       "      <th>18537</th>\n",
       "      <td>4.3000</td>\n",
       "      <td>20.0</td>\n",
       "      <td>6.270677</td>\n",
       "      <td>1.137845</td>\n",
       "      <td>981.0</td>\n",
       "      <td>2.458647</td>\n",
       "      <td>36.98</td>\n",
       "      <td>-122.00</td>\n",
       "    </tr>\n",
       "    <tr>\n",
       "      <th>13337</th>\n",
       "      <td>3.9107</td>\n",
       "      <td>27.0</td>\n",
       "      <td>5.572816</td>\n",
       "      <td>1.000000</td>\n",
       "      <td>321.0</td>\n",
       "      <td>3.116505</td>\n",
       "      <td>34.04</td>\n",
       "      <td>-117.68</td>\n",
       "    </tr>\n",
       "    <tr>\n",
       "      <th>12651</th>\n",
       "      <td>1.6521</td>\n",
       "      <td>36.0</td>\n",
       "      <td>4.068477</td>\n",
       "      <td>1.121606</td>\n",
       "      <td>2460.0</td>\n",
       "      <td>2.904368</td>\n",
       "      <td>38.52</td>\n",
       "      <td>-121.44</td>\n",
       "    </tr>\n",
       "    <tr>\n",
       "      <th>19986</th>\n",
       "      <td>2.3152</td>\n",
       "      <td>25.0</td>\n",
       "      <td>5.412844</td>\n",
       "      <td>1.055046</td>\n",
       "      <td>1424.0</td>\n",
       "      <td>3.266055</td>\n",
       "      <td>36.21</td>\n",
       "      <td>-119.32</td>\n",
       "    </tr>\n",
       "    <tr>\n",
       "      <th>...</th>\n",
       "      <td>...</td>\n",
       "      <td>...</td>\n",
       "      <td>...</td>\n",
       "      <td>...</td>\n",
       "      <td>...</td>\n",
       "      <td>...</td>\n",
       "      <td>...</td>\n",
       "      <td>...</td>\n",
       "    </tr>\n",
       "    <tr>\n",
       "      <th>6232</th>\n",
       "      <td>3.3523</td>\n",
       "      <td>25.0</td>\n",
       "      <td>4.997245</td>\n",
       "      <td>1.112948</td>\n",
       "      <td>1187.0</td>\n",
       "      <td>3.269972</td>\n",
       "      <td>34.07</td>\n",
       "      <td>-117.94</td>\n",
       "    </tr>\n",
       "    <tr>\n",
       "      <th>2782</th>\n",
       "      <td>1.2049</td>\n",
       "      <td>17.0</td>\n",
       "      <td>4.337500</td>\n",
       "      <td>1.206250</td>\n",
       "      <td>775.0</td>\n",
       "      <td>2.421875</td>\n",
       "      <td>32.74</td>\n",
       "      <td>-114.66</td>\n",
       "    </tr>\n",
       "    <tr>\n",
       "      <th>12601</th>\n",
       "      <td>1.9837</td>\n",
       "      <td>37.0</td>\n",
       "      <td>4.786517</td>\n",
       "      <td>1.014045</td>\n",
       "      <td>902.0</td>\n",
       "      <td>2.533708</td>\n",
       "      <td>38.53</td>\n",
       "      <td>-121.48</td>\n",
       "    </tr>\n",
       "    <tr>\n",
       "      <th>2198</th>\n",
       "      <td>7.5000</td>\n",
       "      <td>8.0</td>\n",
       "      <td>6.564885</td>\n",
       "      <td>0.946565</td>\n",
       "      <td>1111.0</td>\n",
       "      <td>2.826972</td>\n",
       "      <td>36.85</td>\n",
       "      <td>-119.88</td>\n",
       "    </tr>\n",
       "    <tr>\n",
       "      <th>20133</th>\n",
       "      <td>3.2024</td>\n",
       "      <td>30.0</td>\n",
       "      <td>4.882253</td>\n",
       "      <td>1.046075</td>\n",
       "      <td>2065.0</td>\n",
       "      <td>3.523891</td>\n",
       "      <td>34.40</td>\n",
       "      <td>-118.91</td>\n",
       "    </tr>\n",
       "  </tbody>\n",
       "</table>\n",
       "<p>100 rows × 8 columns</p>\n",
       "</div>"
      ],
      "text/plain": [
       "       MedInc  HouseAge  AveRooms  AveBedrms  Population  AveOccup  Latitude  \\\n",
       "12953  3.7813      15.0  5.620058   1.013500      2868.0  2.765670     38.70   \n",
       "18537  4.3000      20.0  6.270677   1.137845       981.0  2.458647     36.98   \n",
       "13337  3.9107      27.0  5.572816   1.000000       321.0  3.116505     34.04   \n",
       "12651  1.6521      36.0  4.068477   1.121606      2460.0  2.904368     38.52   \n",
       "19986  2.3152      25.0  5.412844   1.055046      1424.0  3.266055     36.21   \n",
       "...       ...       ...       ...        ...         ...       ...       ...   \n",
       "6232   3.3523      25.0  4.997245   1.112948      1187.0  3.269972     34.07   \n",
       "2782   1.2049      17.0  4.337500   1.206250       775.0  2.421875     32.74   \n",
       "12601  1.9837      37.0  4.786517   1.014045       902.0  2.533708     38.53   \n",
       "2198   7.5000       8.0  6.564885   0.946565      1111.0  2.826972     36.85   \n",
       "20133  3.2024      30.0  4.882253   1.046075      2065.0  3.523891     34.40   \n",
       "\n",
       "       Longitude  \n",
       "12953    -121.28  \n",
       "18537    -122.00  \n",
       "13337    -117.68  \n",
       "12651    -121.44  \n",
       "19986    -119.32  \n",
       "...          ...  \n",
       "6232     -117.94  \n",
       "2782     -114.66  \n",
       "12601    -121.48  \n",
       "2198     -119.88  \n",
       "20133    -118.91  \n",
       "\n",
       "[100 rows x 8 columns]"
      ]
     },
     "execution_count": 68,
     "metadata": {},
     "output_type": "execute_result"
    }
   ],
   "source": [
    "X100"
   ]
  },
  {
   "cell_type": "code",
   "execution_count": 72,
   "metadata": {},
   "outputs": [
    {
     "data": {
      "text/plain": [
       "MedInc           2.585900\n",
       "HouseAge        17.000000\n",
       "AveRooms         4.814634\n",
       "AveBedrms        1.030894\n",
       "Population    1911.000000\n",
       "AveOccup         3.107317\n",
       "Latitude        32.570000\n",
       "Longitude     -117.070000\n",
       "Name: 14770, dtype: float64"
      ]
     },
     "execution_count": 72,
     "metadata": {},
     "output_type": "execute_result"
    }
   ],
   "source": [
    "# Obtener la fila #20\n",
    "indice_muestra = 20\n",
    "X.iloc[indice_muestra]"
   ]
  },
  {
   "cell_type": "code",
   "execution_count": 73,
   "metadata": {},
   "outputs": [
    {
     "data": {
      "text/plain": [
       "2.5859"
      ]
     },
     "execution_count": 73,
     "metadata": {},
     "output_type": "execute_result"
    }
   ],
   "source": [
    "X.iloc[indice_muestra][\"MedInc\"]"
   ]
  },
  {
   "cell_type": "markdown",
   "metadata": {},
   "source": [
    "**`y` (Variable de respuesta):** Es un vector que contiene los valores de la variable dependiente que estamos tratando de predecir. En el caso del conjunto de datos de California, podría ser el precio medio de la vivienda u otra medida relacionada."
   ]
  },
  {
   "cell_type": "code",
   "execution_count": 52,
   "metadata": {},
   "outputs": [
    {
     "data": {
      "text/html": [
       "<div>\n",
       "<style scoped>\n",
       "    .dataframe tbody tr th:only-of-type {\n",
       "        vertical-align: middle;\n",
       "    }\n",
       "\n",
       "    .dataframe tbody tr th {\n",
       "        vertical-align: top;\n",
       "    }\n",
       "\n",
       "    .dataframe thead th {\n",
       "        text-align: right;\n",
       "    }\n",
       "</style>\n",
       "<table border=\"1\" class=\"dataframe\">\n",
       "  <thead>\n",
       "    <tr style=\"text-align: right;\">\n",
       "      <th></th>\n",
       "      <th>0</th>\n",
       "    </tr>\n",
       "  </thead>\n",
       "  <tbody>\n",
       "    <tr>\n",
       "      <th>0</th>\n",
       "      <td>1.369</td>\n",
       "    </tr>\n",
       "    <tr>\n",
       "      <th>1</th>\n",
       "      <td>2.413</td>\n",
       "    </tr>\n",
       "    <tr>\n",
       "      <th>2</th>\n",
       "      <td>2.007</td>\n",
       "    </tr>\n",
       "    <tr>\n",
       "      <th>3</th>\n",
       "      <td>0.725</td>\n",
       "    </tr>\n",
       "    <tr>\n",
       "      <th>4</th>\n",
       "      <td>4.600</td>\n",
       "    </tr>\n",
       "    <tr>\n",
       "      <th>...</th>\n",
       "      <td>...</td>\n",
       "    </tr>\n",
       "    <tr>\n",
       "      <th>995</th>\n",
       "      <td>1.855</td>\n",
       "    </tr>\n",
       "    <tr>\n",
       "      <th>996</th>\n",
       "      <td>1.058</td>\n",
       "    </tr>\n",
       "    <tr>\n",
       "      <th>997</th>\n",
       "      <td>3.435</td>\n",
       "    </tr>\n",
       "    <tr>\n",
       "      <th>998</th>\n",
       "      <td>2.259</td>\n",
       "    </tr>\n",
       "    <tr>\n",
       "      <th>999</th>\n",
       "      <td>2.683</td>\n",
       "    </tr>\n",
       "  </tbody>\n",
       "</table>\n",
       "<p>1000 rows × 1 columns</p>\n",
       "</div>"
      ],
      "text/plain": [
       "         0\n",
       "0    1.369\n",
       "1    2.413\n",
       "2    2.007\n",
       "3    0.725\n",
       "4    4.600\n",
       "..     ...\n",
       "995  1.855\n",
       "996  1.058\n",
       "997  3.435\n",
       "998  2.259\n",
       "999  2.683\n",
       "\n",
       "[1000 rows x 1 columns]"
      ]
     },
     "execution_count": 52,
     "metadata": {},
     "output_type": "execute_result"
    }
   ],
   "source": [
    "import pandas as pd\n",
    "y_df = pd.DataFrame(y)\n",
    "y_df"
   ]
  },
  {
   "cell_type": "code",
   "execution_count": 61,
   "metadata": {},
   "outputs": [
    {
     "data": {
      "text/plain": [
       "0    1.314\n",
       "Name: 20, dtype: float64"
      ]
     },
     "execution_count": 61,
     "metadata": {},
     "output_type": "execute_result"
    }
   ],
   "source": [
    "# Obtener la muestra de índice #20 de `y_df`\n",
    "y_df.iloc[indice_muestra]"
   ]
  },
  {
   "cell_type": "markdown",
   "metadata": {},
   "source": [
    "En resumen, `X` contiene las características que se utilizan para hacer predicciones, y `y` contiene las respuestas reales (etiquetas) asociadas con esas características en el conjunto de datos."
   ]
  },
  {
   "cell_type": "markdown",
   "metadata": {},
   "source": [
    "## Modelo de regresión lineal simple\n",
    "\n",
    "En modelos de regresión, especialmente cuando se trabaja con valores que abarcan un rango amplio, como los precios de las viviendas, es común aplicar transformaciones a la variable de respuesta para abordar problemas de sesgo o heterocedasticidad. En este caso, se está utilizando el **logaritmo natural** ($ln$) del precio medio de la vivienda como la variable objetivo.\n",
    "\n",
    "La transformación logarítmica se elige por varias razones:\n",
    "\n",
    "1. **Estabilización de la Varianza:** La transformación logarítmica puede ayudar a estabilizar la varianza cuando esta aumenta con el nivel de la variable.\n",
    "2. **Manejo de Sesgo:** Si la distribución de la variable objetivo está sesgada, la transformación logarítmica puede ayudar a reducir ese sesgo.\n",
    "3. **Interpretación más Lineal:** La relación entre las variables predictoras y la variable objetivo puede volverse más lineal después de aplicar una transformación logarítmica."
   ]
  },
  {
   "cell_type": "code",
   "execution_count": 8,
   "metadata": {},
   "outputs": [
    {
     "data": {
      "text/html": [
       "<style>#sk-container-id-1 {color: black;}#sk-container-id-1 pre{padding: 0;}#sk-container-id-1 div.sk-toggleable {background-color: white;}#sk-container-id-1 label.sk-toggleable__label {cursor: pointer;display: block;width: 100%;margin-bottom: 0;padding: 0.3em;box-sizing: border-box;text-align: center;}#sk-container-id-1 label.sk-toggleable__label-arrow:before {content: \"▸\";float: left;margin-right: 0.25em;color: #696969;}#sk-container-id-1 label.sk-toggleable__label-arrow:hover:before {color: black;}#sk-container-id-1 div.sk-estimator:hover label.sk-toggleable__label-arrow:before {color: black;}#sk-container-id-1 div.sk-toggleable__content {max-height: 0;max-width: 0;overflow: hidden;text-align: left;background-color: #f0f8ff;}#sk-container-id-1 div.sk-toggleable__content pre {margin: 0.2em;color: black;border-radius: 0.25em;background-color: #f0f8ff;}#sk-container-id-1 input.sk-toggleable__control:checked~div.sk-toggleable__content {max-height: 200px;max-width: 100%;overflow: auto;}#sk-container-id-1 input.sk-toggleable__control:checked~label.sk-toggleable__label-arrow:before {content: \"▾\";}#sk-container-id-1 div.sk-estimator input.sk-toggleable__control:checked~label.sk-toggleable__label {background-color: #d4ebff;}#sk-container-id-1 div.sk-label input.sk-toggleable__control:checked~label.sk-toggleable__label {background-color: #d4ebff;}#sk-container-id-1 input.sk-hidden--visually {border: 0;clip: rect(1px 1px 1px 1px);clip: rect(1px, 1px, 1px, 1px);height: 1px;margin: -1px;overflow: hidden;padding: 0;position: absolute;width: 1px;}#sk-container-id-1 div.sk-estimator {font-family: monospace;background-color: #f0f8ff;border: 1px dotted black;border-radius: 0.25em;box-sizing: border-box;margin-bottom: 0.5em;}#sk-container-id-1 div.sk-estimator:hover {background-color: #d4ebff;}#sk-container-id-1 div.sk-parallel-item::after {content: \"\";width: 100%;border-bottom: 1px solid gray;flex-grow: 1;}#sk-container-id-1 div.sk-label:hover label.sk-toggleable__label {background-color: #d4ebff;}#sk-container-id-1 div.sk-serial::before {content: \"\";position: absolute;border-left: 1px solid gray;box-sizing: border-box;top: 0;bottom: 0;left: 50%;z-index: 0;}#sk-container-id-1 div.sk-serial {display: flex;flex-direction: column;align-items: center;background-color: white;padding-right: 0.2em;padding-left: 0.2em;position: relative;}#sk-container-id-1 div.sk-item {position: relative;z-index: 1;}#sk-container-id-1 div.sk-parallel {display: flex;align-items: stretch;justify-content: center;background-color: white;position: relative;}#sk-container-id-1 div.sk-item::before, #sk-container-id-1 div.sk-parallel-item::before {content: \"\";position: absolute;border-left: 1px solid gray;box-sizing: border-box;top: 0;bottom: 0;left: 50%;z-index: -1;}#sk-container-id-1 div.sk-parallel-item {display: flex;flex-direction: column;z-index: 1;position: relative;background-color: white;}#sk-container-id-1 div.sk-parallel-item:first-child::after {align-self: flex-end;width: 50%;}#sk-container-id-1 div.sk-parallel-item:last-child::after {align-self: flex-start;width: 50%;}#sk-container-id-1 div.sk-parallel-item:only-child::after {width: 0;}#sk-container-id-1 div.sk-dashed-wrapped {border: 1px dashed gray;margin: 0 0.4em 0.5em 0.4em;box-sizing: border-box;padding-bottom: 0.4em;background-color: white;}#sk-container-id-1 div.sk-label label {font-family: monospace;font-weight: bold;display: inline-block;line-height: 1.2em;}#sk-container-id-1 div.sk-label-container {text-align: center;}#sk-container-id-1 div.sk-container {/* jupyter's `normalize.less` sets `[hidden] { display: none; }` but bootstrap.min.css set `[hidden] { display: none !important; }` so we also need the `!important` here to be able to override the default hidden behavior on the sphinx rendered scikit-learn.org. See: https://github.com/scikit-learn/scikit-learn/issues/21755 */display: inline-block !important;position: relative;}#sk-container-id-1 div.sk-text-repr-fallback {display: none;}</style><div id=\"sk-container-id-1\" class=\"sk-top-container\"><div class=\"sk-text-repr-fallback\"><pre>LinearRegression()</pre><b>In a Jupyter environment, please rerun this cell to show the HTML representation or trust the notebook. <br />On GitHub, the HTML representation is unable to render, please try loading this page with nbviewer.org.</b></div><div class=\"sk-container\" hidden><div class=\"sk-item\"><div class=\"sk-estimator sk-toggleable\"><input class=\"sk-toggleable__control sk-hidden--visually\" id=\"sk-estimator-id-1\" type=\"checkbox\" checked><label for=\"sk-estimator-id-1\" class=\"sk-toggleable__label sk-toggleable__label-arrow\">LinearRegression</label><div class=\"sk-toggleable__content\"><pre>LinearRegression()</pre></div></div></div></div></div>"
      ],
      "text/plain": [
       "LinearRegression()"
      ]
     },
     "execution_count": 8,
     "metadata": {},
     "output_type": "execute_result"
    }
   ],
   "source": [
    "import sklearn\n",
    "model = sklearn.linear_model.LinearRegression()\n",
    "model.fit(X, y)"
   ]
  },
  {
   "cell_type": "markdown",
   "metadata": {},
   "source": [
    "## Examinando los coeficientes del modelo\n",
    "\n",
    "La forma más común de comprender un modelo lineal es examinar los coeficientes aprendidos para cada característica. Estos coeficientes nos indican cuánto cambia la salida del modelo cuando cambiamos cada una de las características de entrada:"
   ]
  },
  {
   "cell_type": "code",
   "execution_count": 9,
   "metadata": {},
   "outputs": [
    {
     "name": "stdout",
     "output_type": "stream",
     "text": [
      "Coeficientes del modelo:\\n\n",
      "MedInc = 0.42563\n",
      "HouseAge = 0.01033\n",
      "AveRooms = -0.1161\n",
      "AveBedrms = 0.66385\n",
      "Population = 3e-05\n",
      "AveOccup = -0.26096\n",
      "Latitude = -0.46734\n",
      "Longitude = -0.46272\n"
     ]
    }
   ],
   "source": [
    "print(\"Coeficientes del modelo:\\\\n\")\n",
    "for i in range(X.shape[1]):\n",
    "    print(X.columns[i], \"=\", model.coef_[i].round(5))"
   ]
  },
  {
   "cell_type": "markdown",
   "metadata": {},
   "source": [
    "Aquí está una explicación de cada coeficiente:\n",
    "\n",
    "1. **MedInc (Ingreso Medio):** 0.45769\n",
    "    - A medida que el ingreso medio en el grupo de bloques aumenta en una unidad, el logaritmo natural del precio medio de la vivienda aumenta en aproximadamente 0.45769 unidades.\n",
    "2. **HouseAge (Edad Media de la Vivienda):** 0.01153\n",
    "    - Un aumento de una unidad en la edad media de la vivienda en el grupo de bloques se asocia con un aumento de aproximadamente 0.01153 en el logaritmo natural del precio medio de la vivienda.\n",
    "3. **AveRooms (Número Medio de Habitaciones por Hogar):** -0.12529\n",
    "    - Un incremento de una unidad en el número medio de habitaciones por hogar se relaciona con una disminución de aproximadamente 0.12529 en el logaritmo natural del precio medio de la vivienda.\n",
    "4. **AveBedrms (Número Medio de Dormitorios por Hogar):** 1.04053\n",
    "    - Aumentar en una unidad el número medio de dormitorios por hogar está asociado con un aumento de aproximadamente 1.04053 en el logaritmo natural del precio medio de la vivienda.\n",
    "5. **Population (Población):** 5e-05 (0.00005)\n",
    "    - Cada aumento de una unidad en la población del grupo de bloques se asocia con un aumento muy pequeño, de aproximadamente 0.00005, en el logaritmo natural del precio medio de la vivienda.\n",
    "6. **AveOccup (Número Medio de Miembros por Hogar):** -0.29795\n",
    "    - Un aumento de una unidad en el número medio de miembros por hogar está relacionado con una disminución de aproximadamente 0.29795 en el logaritmo natural del precio medio de la vivienda.\n",
    "7. **Latitude (Latitud):** -0.41204\n",
    "    - Un aumento de una unidad en la latitud del grupo de bloques se asocia con una disminución de aproximadamente 0.41204 en el logaritmo natural del precio medio de la vivienda.\n",
    "8. **Longitude (Longitud):** -0.40125\n",
    "    - Un aumento de una unidad en la longitud del grupo de bloques se relaciona con una disminución de aproximadamente 0.40125 en el logaritmo natural del precio medio de la vivienda.\n",
    "\n",
    "Estos coeficientes indican cómo cada característica contribuye a la predicción del precio de la vivienda en el modelo de regresión lineal. Un coeficiente positivo sugiere una asociación positiva, mientras que un coeficiente negativo sugiere una asociación negativa. Es importante considerar la magnitud de los coeficientes para evaluar la fuerza de la influencia de cada característica en la predicción.\n",
    "\n",
    "Si bien los coeficientes son útiles para indicarnos qué sucederá cuando cambiamos el valor de una característica de entrada, por sí solos no son una excelente manera de medir la importancia general de una característica. Esto se debe a que el valor de cada coeficiente depende de la escala de las características de entrada. \n",
    "\n",
    "Por ejemplo, si midieramos la edad de una casa en minutos en lugar de años, entonces los coeficientes para la característica HouseAge se convertirían en 0.0115 / (365∗24∗60) = 2.18e-8. Claramente, el número de años desde que se construyó una casa no es más importante que el número de minutos, sin embargo, su valor de coeficiente es mucho mayor. Esto significa que la magnitud de un coeficiente no es  necesariamente una buena medida de la importancia de una característica en un modelo lineal.\n",
    "\n",
    "<https://scikit-learn.org/stable/modules/partial_dependence.html>"
   ]
  },
  {
   "cell_type": "markdown",
   "metadata": {},
   "source": [
    "### Una imagen más completa mediante gráficos de dependencia parcial\n",
    "\n",
    "Para comprender la importancia de una característica en un modelo, es necesario entender tanto cómo el cambio en esa característica afecta la salida del modelo, como también la distribución de los valores de esa característica. Para visualizar esto en un modelo lineal, podemos construir un gráfico de dependencia parcial clásico y mostrar la distribución de los valores de la característica como un histograma en el eje x:"
   ]
  },
  {
   "cell_type": "code",
   "execution_count": 77,
   "metadata": {},
   "outputs": [
    {
     "data": {
      "image/png": "[encoded data removed]",
      "text/plain": [
       "<Figure size 640x480 with 4 Axes>"
      ]
     },
     "metadata": {},
     "output_type": "display_data"
    }
   ],
   "source": [
    "shap.partial_dependence_plot(\n",
    "    \"MedInc\",\n",
    "    model.predict,\n",
    "    X100,\n",
    "    ice=False,\n",
    "    model_expected_value=True,\n",
    "    feature_expected_value=True,\n",
    ")"
   ]
  },
  {
   "cell_type": "markdown",
   "metadata": {},
   "source": [
    "Estas expresiones están relacionadas con conceptos estadísticos y matemáticos. Aquí está el significado de cada una:\n",
    "\n",
    "1. Línea gris horizontal **$E[f(x)]$:** En el gráfico, hay una línea horizontal gris que representa el valor esperado del modelo aplicado al conjunto de datos de viviendas de California. $E[f(x)]$ se refiere a la esperanza matemática o el valor esperado de la función de predicción del modelo $f(x)$. La esperanza matemática es una medida de tendencia central que representa el valor medio de una función ponderado por la probabilidad de cada valor en el dominio de la función. Matemáticamente, se define como:\n",
    "\n",
    "   $$ E[f(x)] = \\int_{-\\infty}^{\\infty} f(x) \\cdot p(x) \\,dx $$\n",
    "\n",
    "   Donde $p(x)$ es la función de densidad de probabilidad de la variable aleatoria $x$. En el contexto de modelos estadísticos o de aprendizaje automático, $f(x)$ podría ser la función de predicción del modelo para una variable de interés $x$.\n",
    "\n",
    "2. Línea gris vertical **$E[\\text(MedInc)]$:** La línea vertical gris representa el valor promedio de la característica \"MedInc\". En este caso, se está calculando el valor esperado de la variable $\\text(MedInc)$, que representa el ingreso medio. La expresión se interpreta como el promedio ponderado del ingreso medio en el conjunto de datos, donde cada valor de ingreso se pondera por su probabilidad de ocurrencia.\n",
    "\n",
    "   $$ E[\\text(MedInc)] = \\int_{-\\infty}^{\\infty} \\text(MedInc) \\cdot p(\\text(MedInc)) \\,d \\text(MedInc)$$\n",
    "\n",
    "3. La intersección de estas dos líneas se considera el \"centro\" del gráfico de dependencia parcial con respecto a la distribución de datos.\n",
    "\n",
    "4. Línea azul **$E[f(x) | \\text(MedInc)]$:** La línea azul en el gráfico de dependencia parcial muestra el valor promedio de la salida del modelo cuando se fija la característica \"MedInc\" a un valor específico. $E[f(x) | \\text(MedInc)]$ representa la esperanza condicional de la función $f(x)$ dado un valor específico de $\\text(MedInc)$. En otras palabras, es el valor esperado de la función de predicción condicionado a que $\\text(MedInc)$ tiene un valor particular. Matemáticamente, se define como:\n",
    "\n",
    "   $$ E[f(x) | \\text(MedInc)] = \\int_{-\\infty}^{\\infty} f(x) \\cdot p(x | \\text(MedInc)) \\,dx $$\n",
    "\n",
    "   Donde $p(x | \\text(MedInc))$ es la función de densidad de probabilidad condicional de $x$ dado un valor específico de $\\text(MedInc)$."
   ]
  },
  {
   "cell_type": "markdown",
   "metadata": {},
   "source": [
    "## Leyendo valores SHAP desde gráficos de dependencia parcial\n",
    "\n",
    "La idea central detrás de las explicaciones basadas en valores SHAP (Shapley) de modelos de aprendizaje automático es utilizar resultados de asignación justa de la teoría de juegos cooperativos para asignar crédito a la salida de un modelo entre sus características de entrada. \n",
    "\n",
    "Para evaluar un modelo existente cuando solo un subconjunto de características forma parte del modelo, integramos las otras características utilizando una formulación de valor esperado condicional. Esta formulación puede tomar dos formas:\n",
    "\n",
    "$$ E[f(x) | X_s = x_s] $$\n",
    "\n",
    "o\n",
    "\n",
    "$$ E[f(x) | do(X_s = x_s)] $$\n",
    "\n",
    "En la primera forma, conocemos los valores de las características en $S$ porque los *observamos*. En la segunda forma, conocemos los valores de las características en $S$ porque los *configuramos*. \n",
    "\n",
    "En general, la segunda forma suele ser preferible, tanto porque nos dice cómo se comportaría el modelo si interviniéramos y cambiáramos sus entradas, como porque es mucho más fácil de calcular. En este tutorial nos centraremos exclusivamente en la segunda formulación. \n",
    "\n",
    "También utilizaremos el término más específico \"valores SHAP\" para referirnos a los valores Shapley aplicados a una función de expectativa condicional de un modelo de aprendizaje automático.\n",
    "\n",
    "Los valores SHAP pueden ser muy complicados de calcular (en general, son NP-duros), pero los modelos lineales son tan simples que podemos leer los valores SHAP directamente de un gráfico de dependencia parcial. \n",
    "\n",
    "Cuando estamos explicando una predicción, el valor SHAP para una característica específica es simplemente la diferencia entre la salida esperada del modelo y el gráfico de dependencia parcial en el valor de esa característica:"
   ]
  },
  {
   "cell_type": "code",
   "execution_count": 11,
   "metadata": {},
   "outputs": [
    {
     "name": "stderr",
     "output_type": "stream",
     "text": [
      "Exact explainer: 1001it [00:57, 17.52it/s]                         \n"
     ]
    }
   ],
   "source": [
    "# calcular los valores SHAP para el modelo lineal\n",
    "explainer = shap.Explainer(model.predict, X100)\n",
    "shap_values = explainer(X)"
   ]
  },
  {
   "cell_type": "markdown",
   "metadata": {},
   "source": [
    "Valores de SHAP del `Explainer`: Notamos las valores SHAP para cada característica en cada una de las 1000 muestras"
   ]
  },
  {
   "cell_type": "code",
   "execution_count": 45,
   "metadata": {},
   "outputs": [
    {
     "data": {
      "text/html": [
       "<div>\n",
       "<style scoped>\n",
       "    .dataframe tbody tr th:only-of-type {\n",
       "        vertical-align: middle;\n",
       "    }\n",
       "\n",
       "    .dataframe tbody tr th {\n",
       "        vertical-align: top;\n",
       "    }\n",
       "\n",
       "    .dataframe thead th {\n",
       "        text-align: right;\n",
       "    }\n",
       "</style>\n",
       "<table border=\"1\" class=\"dataframe\">\n",
       "  <thead>\n",
       "    <tr style=\"text-align: right;\">\n",
       "      <th></th>\n",
       "      <th>0</th>\n",
       "      <th>1</th>\n",
       "      <th>2</th>\n",
       "      <th>3</th>\n",
       "      <th>4</th>\n",
       "      <th>5</th>\n",
       "      <th>6</th>\n",
       "      <th>7</th>\n",
       "    </tr>\n",
       "  </thead>\n",
       "  <tbody>\n",
       "    <tr>\n",
       "      <th>0</th>\n",
       "      <td>0.177486</td>\n",
       "      <td>-0.056737</td>\n",
       "      <td>-0.011157</td>\n",
       "      <td>-0.036885</td>\n",
       "      <td>0.002520</td>\n",
       "      <td>-0.325451</td>\n",
       "      <td>1.465572</td>\n",
       "      <td>-1.094370</td>\n",
       "    </tr>\n",
       "    <tr>\n",
       "      <th>1</th>\n",
       "      <td>0.870327</td>\n",
       "      <td>0.046609</td>\n",
       "      <td>-0.062721</td>\n",
       "      <td>-0.134957</td>\n",
       "      <td>-0.005628</td>\n",
       "      <td>-0.022839</td>\n",
       "      <td>0.839339</td>\n",
       "      <td>-0.668671</td>\n",
       "    </tr>\n",
       "    <tr>\n",
       "      <th>2</th>\n",
       "      <td>0.261293</td>\n",
       "      <td>0.015605</td>\n",
       "      <td>-0.042229</td>\n",
       "      <td>-0.069582</td>\n",
       "      <td>0.002616</td>\n",
       "      <td>0.006092</td>\n",
       "      <td>-1.371170</td>\n",
       "      <td>1.122040</td>\n",
       "    </tr>\n",
       "    <tr>\n",
       "      <th>3</th>\n",
       "      <td>-0.546383</td>\n",
       "      <td>0.098282</td>\n",
       "      <td>0.066640</td>\n",
       "      <td>0.123388</td>\n",
       "      <td>-0.034577</td>\n",
       "      <td>0.048794</td>\n",
       "      <td>1.175823</td>\n",
       "      <td>-1.765308</td>\n",
       "    </tr>\n",
       "    <tr>\n",
       "      <th>4</th>\n",
       "      <td>0.540591</td>\n",
       "      <td>-0.025733</td>\n",
       "      <td>0.144854</td>\n",
       "      <td>-0.060713</td>\n",
       "      <td>-0.026301</td>\n",
       "      <td>0.318646</td>\n",
       "      <td>-0.969259</td>\n",
       "      <td>1.395043</td>\n",
       "    </tr>\n",
       "    <tr>\n",
       "      <th>...</th>\n",
       "      <td>...</td>\n",
       "      <td>...</td>\n",
       "      <td>...</td>\n",
       "      <td>...</td>\n",
       "      <td>...</td>\n",
       "      <td>...</td>\n",
       "      <td>...</td>\n",
       "      <td>...</td>\n",
       "    </tr>\n",
       "    <tr>\n",
       "      <th>995</th>\n",
       "      <td>0.859005</td>\n",
       "      <td>-0.139414</td>\n",
       "      <td>-0.058518</td>\n",
       "      <td>-0.100188</td>\n",
       "      <td>-0.010261</td>\n",
       "      <td>-0.087794</td>\n",
       "      <td>0.787932</td>\n",
       "      <td>-0.812113</td>\n",
       "    </tr>\n",
       "    <tr>\n",
       "      <th>996</th>\n",
       "      <td>-0.809678</td>\n",
       "      <td>-0.025733</td>\n",
       "      <td>0.149502</td>\n",
       "      <td>-0.040431</td>\n",
       "      <td>0.000155</td>\n",
       "      <td>0.264946</td>\n",
       "      <td>-0.772977</td>\n",
       "      <td>-0.474330</td>\n",
       "    </tr>\n",
       "    <tr>\n",
       "      <th>997</th>\n",
       "      <td>1.338946</td>\n",
       "      <td>-0.118745</td>\n",
       "      <td>-0.314231</td>\n",
       "      <td>-0.058913</td>\n",
       "      <td>-0.006395</td>\n",
       "      <td>-0.060209</td>\n",
       "      <td>-0.945892</td>\n",
       "      <td>1.163685</td>\n",
       "    </tr>\n",
       "    <tr>\n",
       "      <th>998</th>\n",
       "      <td>0.067588</td>\n",
       "      <td>-0.149748</td>\n",
       "      <td>0.167049</td>\n",
       "      <td>0.019295</td>\n",
       "      <td>-0.024352</td>\n",
       "      <td>0.309156</td>\n",
       "      <td>-0.721570</td>\n",
       "      <td>1.140549</td>\n",
       "    </tr>\n",
       "    <tr>\n",
       "      <th>999</th>\n",
       "      <td>0.759152</td>\n",
       "      <td>-0.025733</td>\n",
       "      <td>-0.053791</td>\n",
       "      <td>-0.075491</td>\n",
       "      <td>0.006290</td>\n",
       "      <td>-0.177216</td>\n",
       "      <td>0.596323</td>\n",
       "      <td>0.219744</td>\n",
       "    </tr>\n",
       "  </tbody>\n",
       "</table>\n",
       "<p>1000 rows × 8 columns</p>\n",
       "</div>"
      ],
      "text/plain": [
       "            0         1         2         3         4         5         6  \\\n",
       "0    0.177486 -0.056737 -0.011157 -0.036885  0.002520 -0.325451  1.465572   \n",
       "1    0.870327  0.046609 -0.062721 -0.134957 -0.005628 -0.022839  0.839339   \n",
       "2    0.261293  0.015605 -0.042229 -0.069582  0.002616  0.006092 -1.371170   \n",
       "3   -0.546383  0.098282  0.066640  0.123388 -0.034577  0.048794  1.175823   \n",
       "4    0.540591 -0.025733  0.144854 -0.060713 -0.026301  0.318646 -0.969259   \n",
       "..        ...       ...       ...       ...       ...       ...       ...   \n",
       "995  0.859005 -0.139414 -0.058518 -0.100188 -0.010261 -0.087794  0.787932   \n",
       "996 -0.809678 -0.025733  0.149502 -0.040431  0.000155  0.264946 -0.772977   \n",
       "997  1.338946 -0.118745 -0.314231 -0.058913 -0.006395 -0.060209 -0.945892   \n",
       "998  0.067588 -0.149748  0.167049  0.019295 -0.024352  0.309156 -0.721570   \n",
       "999  0.759152 -0.025733 -0.053791 -0.075491  0.006290 -0.177216  0.596323   \n",
       "\n",
       "            7  \n",
       "0   -1.094370  \n",
       "1   -0.668671  \n",
       "2    1.122040  \n",
       "3   -1.765308  \n",
       "4    1.395043  \n",
       "..        ...  \n",
       "995 -0.812113  \n",
       "996 -0.474330  \n",
       "997  1.163685  \n",
       "998  1.140549  \n",
       "999  0.219744  \n",
       "\n",
       "[1000 rows x 8 columns]"
      ]
     },
     "execution_count": 45,
     "metadata": {},
     "output_type": "execute_result"
    }
   ],
   "source": [
    "shap_values_values = pd.DataFrame(shap_values.values)\n",
    "shap_values_values"
   ]
  },
  {
   "cell_type": "markdown",
   "metadata": {},
   "source": [
    "Valor base del `Explainer`: Notamos que es constante para todas las muestras"
   ]
  },
  {
   "cell_type": "code",
   "execution_count": 48,
   "metadata": {},
   "outputs": [
    {
     "data": {
      "text/html": [
       "<div>\n",
       "<style scoped>\n",
       "    .dataframe tbody tr th:only-of-type {\n",
       "        vertical-align: middle;\n",
       "    }\n",
       "\n",
       "    .dataframe tbody tr th {\n",
       "        vertical-align: top;\n",
       "    }\n",
       "\n",
       "    .dataframe thead th {\n",
       "        text-align: right;\n",
       "    }\n",
       "</style>\n",
       "<table border=\"1\" class=\"dataframe\">\n",
       "  <thead>\n",
       "    <tr style=\"text-align: right;\">\n",
       "      <th></th>\n",
       "      <th>0</th>\n",
       "    </tr>\n",
       "  </thead>\n",
       "  <tbody>\n",
       "    <tr>\n",
       "      <th>0</th>\n",
       "      <td>1.903534</td>\n",
       "    </tr>\n",
       "    <tr>\n",
       "      <th>1</th>\n",
       "      <td>1.903534</td>\n",
       "    </tr>\n",
       "    <tr>\n",
       "      <th>2</th>\n",
       "      <td>1.903534</td>\n",
       "    </tr>\n",
       "    <tr>\n",
       "      <th>3</th>\n",
       "      <td>1.903534</td>\n",
       "    </tr>\n",
       "    <tr>\n",
       "      <th>4</th>\n",
       "      <td>1.903534</td>\n",
       "    </tr>\n",
       "    <tr>\n",
       "      <th>...</th>\n",
       "      <td>...</td>\n",
       "    </tr>\n",
       "    <tr>\n",
       "      <th>995</th>\n",
       "      <td>1.903534</td>\n",
       "    </tr>\n",
       "    <tr>\n",
       "      <th>996</th>\n",
       "      <td>1.903534</td>\n",
       "    </tr>\n",
       "    <tr>\n",
       "      <th>997</th>\n",
       "      <td>1.903534</td>\n",
       "    </tr>\n",
       "    <tr>\n",
       "      <th>998</th>\n",
       "      <td>1.903534</td>\n",
       "    </tr>\n",
       "    <tr>\n",
       "      <th>999</th>\n",
       "      <td>1.903534</td>\n",
       "    </tr>\n",
       "  </tbody>\n",
       "</table>\n",
       "<p>1000 rows × 1 columns</p>\n",
       "</div>"
      ],
      "text/plain": [
       "            0\n",
       "0    1.903534\n",
       "1    1.903534\n",
       "2    1.903534\n",
       "3    1.903534\n",
       "4    1.903534\n",
       "..        ...\n",
       "995  1.903534\n",
       "996  1.903534\n",
       "997  1.903534\n",
       "998  1.903534\n",
       "999  1.903534\n",
       "\n",
       "[1000 rows x 1 columns]"
      ]
     },
     "execution_count": 48,
     "metadata": {},
     "output_type": "execute_result"
    }
   ],
   "source": [
    "shap_values_base_value = pd.DataFrame(shap_values.base_values)\n",
    "shap_values_base_value"
   ]
  },
  {
   "cell_type": "markdown",
   "metadata": {},
   "source": [
    "Datos del `Explainer`: Son los valores de las caracteristicas de cada una de las 1000 muestras. Es lo mismo que `X`."
   ]
  },
  {
   "cell_type": "code",
   "execution_count": 47,
   "metadata": {},
   "outputs": [
    {
     "data": {
      "text/html": [
       "<div>\n",
       "<style scoped>\n",
       "    .dataframe tbody tr th:only-of-type {\n",
       "        vertical-align: middle;\n",
       "    }\n",
       "\n",
       "    .dataframe tbody tr th {\n",
       "        vertical-align: top;\n",
       "    }\n",
       "\n",
       "    .dataframe thead th {\n",
       "        text-align: right;\n",
       "    }\n",
       "</style>\n",
       "<table border=\"1\" class=\"dataframe\">\n",
       "  <thead>\n",
       "    <tr style=\"text-align: right;\">\n",
       "      <th></th>\n",
       "      <th>0</th>\n",
       "      <th>1</th>\n",
       "      <th>2</th>\n",
       "      <th>3</th>\n",
       "      <th>4</th>\n",
       "      <th>5</th>\n",
       "      <th>6</th>\n",
       "      <th>7</th>\n",
       "    </tr>\n",
       "  </thead>\n",
       "  <tbody>\n",
       "    <tr>\n",
       "      <th>0</th>\n",
       "      <td>4.1518</td>\n",
       "      <td>22.0</td>\n",
       "      <td>5.663073</td>\n",
       "      <td>1.075472</td>\n",
       "      <td>1551.0</td>\n",
       "      <td>4.180593</td>\n",
       "      <td>32.58</td>\n",
       "      <td>-117.05</td>\n",
       "    </tr>\n",
       "    <tr>\n",
       "      <th>1</th>\n",
       "      <td>5.7796</td>\n",
       "      <td>32.0</td>\n",
       "      <td>6.107226</td>\n",
       "      <td>0.927739</td>\n",
       "      <td>1296.0</td>\n",
       "      <td>3.020979</td>\n",
       "      <td>33.92</td>\n",
       "      <td>-117.97</td>\n",
       "    </tr>\n",
       "    <tr>\n",
       "      <th>2</th>\n",
       "      <td>4.3487</td>\n",
       "      <td>29.0</td>\n",
       "      <td>5.930712</td>\n",
       "      <td>1.026217</td>\n",
       "      <td>1554.0</td>\n",
       "      <td>2.910112</td>\n",
       "      <td>38.65</td>\n",
       "      <td>-121.84</td>\n",
       "    </tr>\n",
       "    <tr>\n",
       "      <th>3</th>\n",
       "      <td>2.4511</td>\n",
       "      <td>37.0</td>\n",
       "      <td>4.992958</td>\n",
       "      <td>1.316901</td>\n",
       "      <td>390.0</td>\n",
       "      <td>2.746479</td>\n",
       "      <td>33.20</td>\n",
       "      <td>-115.60</td>\n",
       "    </tr>\n",
       "    <tr>\n",
       "      <th>4</th>\n",
       "      <td>5.0049</td>\n",
       "      <td>25.0</td>\n",
       "      <td>4.319261</td>\n",
       "      <td>1.039578</td>\n",
       "      <td>649.0</td>\n",
       "      <td>1.712401</td>\n",
       "      <td>37.79</td>\n",
       "      <td>-122.43</td>\n",
       "    </tr>\n",
       "    <tr>\n",
       "      <th>...</th>\n",
       "      <td>...</td>\n",
       "      <td>...</td>\n",
       "      <td>...</td>\n",
       "      <td>...</td>\n",
       "      <td>...</td>\n",
       "      <td>...</td>\n",
       "      <td>...</td>\n",
       "      <td>...</td>\n",
       "    </tr>\n",
       "    <tr>\n",
       "      <th>995</th>\n",
       "      <td>5.7530</td>\n",
       "      <td>14.0</td>\n",
       "      <td>6.071023</td>\n",
       "      <td>0.980114</td>\n",
       "      <td>1151.0</td>\n",
       "      <td>3.269886</td>\n",
       "      <td>34.03</td>\n",
       "      <td>-117.66</td>\n",
       "    </tr>\n",
       "    <tr>\n",
       "      <th>996</th>\n",
       "      <td>1.8325</td>\n",
       "      <td>25.0</td>\n",
       "      <td>4.279221</td>\n",
       "      <td>1.070130</td>\n",
       "      <td>1477.0</td>\n",
       "      <td>1.918182</td>\n",
       "      <td>37.37</td>\n",
       "      <td>-118.39</td>\n",
       "    </tr>\n",
       "    <tr>\n",
       "      <th>997</th>\n",
       "      <td>6.8806</td>\n",
       "      <td>16.0</td>\n",
       "      <td>8.273632</td>\n",
       "      <td>1.042289</td>\n",
       "      <td>1272.0</td>\n",
       "      <td>3.164179</td>\n",
       "      <td>37.74</td>\n",
       "      <td>-121.93</td>\n",
       "    </tr>\n",
       "    <tr>\n",
       "      <th>998</th>\n",
       "      <td>3.8936</td>\n",
       "      <td>13.0</td>\n",
       "      <td>4.128079</td>\n",
       "      <td>1.160099</td>\n",
       "      <td>710.0</td>\n",
       "      <td>1.748768</td>\n",
       "      <td>37.26</td>\n",
       "      <td>-121.88</td>\n",
       "    </tr>\n",
       "    <tr>\n",
       "      <th>999</th>\n",
       "      <td>5.5184</td>\n",
       "      <td>25.0</td>\n",
       "      <td>6.030303</td>\n",
       "      <td>1.017316</td>\n",
       "      <td>1669.0</td>\n",
       "      <td>3.612554</td>\n",
       "      <td>34.44</td>\n",
       "      <td>-119.89</td>\n",
       "    </tr>\n",
       "  </tbody>\n",
       "</table>\n",
       "<p>1000 rows × 8 columns</p>\n",
       "</div>"
      ],
      "text/plain": [
       "          0     1         2         3       4         5      6       7\n",
       "0    4.1518  22.0  5.663073  1.075472  1551.0  4.180593  32.58 -117.05\n",
       "1    5.7796  32.0  6.107226  0.927739  1296.0  3.020979  33.92 -117.97\n",
       "2    4.3487  29.0  5.930712  1.026217  1554.0  2.910112  38.65 -121.84\n",
       "3    2.4511  37.0  4.992958  1.316901   390.0  2.746479  33.20 -115.60\n",
       "4    5.0049  25.0  4.319261  1.039578   649.0  1.712401  37.79 -122.43\n",
       "..      ...   ...       ...       ...     ...       ...    ...     ...\n",
       "995  5.7530  14.0  6.071023  0.980114  1151.0  3.269886  34.03 -117.66\n",
       "996  1.8325  25.0  4.279221  1.070130  1477.0  1.918182  37.37 -118.39\n",
       "997  6.8806  16.0  8.273632  1.042289  1272.0  3.164179  37.74 -121.93\n",
       "998  3.8936  13.0  4.128079  1.160099   710.0  1.748768  37.26 -121.88\n",
       "999  5.5184  25.0  6.030303  1.017316  1669.0  3.612554  34.44 -119.89\n",
       "\n",
       "[1000 rows x 8 columns]"
      ]
     },
     "execution_count": 47,
     "metadata": {},
     "output_type": "execute_result"
    }
   ],
   "source": [
    "shap_values_data = pd.DataFrame(shap_values.data)\n",
    "shap_values_data"
   ]
  },
  {
   "cell_type": "markdown",
   "metadata": {},
   "source": [
    "Los valores de SHAP, el valor esperado y los datos reales para la muestra 20.\n",
    "\n"
   ]
  },
  {
   "cell_type": "code",
   "execution_count": 50,
   "metadata": {},
   "outputs": [
    {
     "data": {
      "text/plain": [
       ".values =\n",
       "array([[-0.48900816, -0.10840999,  0.08734303, -0.06647713,  0.01402258,\n",
       "        -0.04536997,  1.47024547, -1.08511549]])\n",
       "\n",
       ".base_values =\n",
       "array([1.90353381])\n",
       "\n",
       ".data =\n",
       "array([[ 2.58590000e+00,  1.70000000e+01,  4.81463415e+00,\n",
       "         1.03089431e+00,  1.91100000e+03,  3.10731707e+00,\n",
       "         3.25700000e+01, -1.17070000e+02]])"
      ]
     },
     "execution_count": 50,
     "metadata": {},
     "output_type": "execute_result"
    }
   ],
   "source": [
    "indice_muestra = 20\n",
    "# Seleccionar la fila 20 y todas las columnas\n",
    "shap_values[indice_muestra : indice_muestra + 1, :]"
   ]
  },
  {
   "cell_type": "markdown",
   "metadata": {},
   "source": [
    "Valor esperado de \"MedInc\", $E[\\text(MedInc)]$"
   ]
  },
  {
   "cell_type": "code",
   "execution_count": 94,
   "metadata": {},
   "outputs": [
    {
     "data": {
      "text/plain": [
       "3.7973327"
      ]
     },
     "execution_count": 94,
     "metadata": {},
     "output_type": "execute_result"
    }
   ],
   "source": [
    "shap_values[:, \"MedInc\"].data.mean()\n"
   ]
  },
  {
   "cell_type": "code",
   "execution_count": 96,
   "metadata": {},
   "outputs": [
    {
     "data": {
      "text/plain": [
       "3.7973327"
      ]
     },
     "execution_count": 96,
     "metadata": {},
     "output_type": "execute_result"
    }
   ],
   "source": [
    "import numpy as np\n",
    "np.mean(shap_values[:, \"MedInc\"].data)\n"
   ]
  },
  {
   "cell_type": "code",
   "execution_count": 100,
   "metadata": {},
   "outputs": [
    {
     "data": {
      "text/plain": [
       "0.026614098863867376"
      ]
     },
     "execution_count": 100,
     "metadata": {},
     "output_type": "execute_result"
    }
   ],
   "source": [
    "shap_values[:, \"MedInc\"].values.mean()"
   ]
  },
  {
   "cell_type": "code",
   "execution_count": 98,
   "metadata": {},
   "outputs": [
    {
     "data": {
      "image/png": "[encoded data removed]",
      "text/plain": [
       "<Figure size 800x550 with 1 Axes>"
      ]
     },
     "metadata": {},
     "output_type": "display_data"
    }
   ],
   "source": [
    "shap.plots.bar(shap_values)"
   ]
  },
  {
   "cell_type": "markdown",
   "metadata": {},
   "source": [
    "Los valores de SHAP, el valor esperado y los datos reales de la característica \"MedInc\" para la muestra 20.\n",
    "\n"
   ]
  },
  {
   "cell_type": "code",
   "execution_count": 74,
   "metadata": {},
   "outputs": [
    {
     "data": {
      "text/plain": [
       ".values =\n",
       "array([-0.48900816])\n",
       "\n",
       ".base_values =\n",
       "array([1.90353381])\n",
       "\n",
       ".data =\n",
       "array([2.5859])"
      ]
     },
     "execution_count": 74,
     "metadata": {},
     "output_type": "execute_result"
    }
   ],
   "source": [
    "# Seleccionar la fila 20 y todas la columna de `MedInc`\n",
    "shap_values[indice_muestra : indice_muestra + 1, \"MedInc\"]"
   ]
  },
  {
   "cell_type": "markdown",
   "metadata": {},
   "source": [
    "1. **`.values = -0.48900816171264905`:** Este es el valor específico del SHAP para la característica \"MedInc\" en la muestra 20. Indica la contribución de la característica \"MedInc\" en la predicción del modelo para la observación 20. Un valor negativo sugiere que la presencia de \"MedInc\" en la muestra 20 ha disminuido la predicción del modelo.\n",
    "\n",
    "2. **`.base_values = 1.9035338119654108`:** Este es el valor base o el valor de referencia para la salida del modelo. Es el valor esperado de la salida del modelo cuando no se considera ninguna característica específica. En este caso, es el valor esperado del modelo para la muestra 20 sin tener en cuenta la característica \"MedInc\".\n",
    "\n",
    "3. **`.data = 2.5859`:** Este es el valor específico de la característica \"MedInc\" en la muestra 20. Indica el valor real de \"MedInc\" en la observación 20. Es lo mismo que `X.iloc[indice_muestra][\"MedInc\"]`\n",
    "\n",
    "En resumen, estos valores SHAP proporcionan información sobre cómo la presencia específica de la característica \"MedInc\" en la muestra 20 afecta la predicción del modelo en comparación con el valor base de referencia. El valor SHAP negativo sugiere que la presencia de \"MedInc\" en esta muestra específica ha disminuido la predicción del modelo en comparación con la expectativa."
   ]
  },
  {
   "cell_type": "code",
   "execution_count": 75,
   "metadata": {},
   "outputs": [
    {
     "data": {
      "image/png": "[encoded data removed]",
      "text/plain": [
       "<Figure size 640x480 with 4 Axes>"
      ]
     },
     "metadata": {},
     "output_type": "display_data"
    }
   ],
   "source": [
    "# hacer un gráfico de dependencia parcial estándar\n",
    "shap.partial_dependence_plot(\n",
    "    \"MedInc\",\n",
    "    model.predict,\n",
    "    X100,\n",
    "    model_expected_value=True,\n",
    "    feature_expected_value=True,\n",
    "    ice=False,\n",
    "    shap_values=shap_values[indice_muestra : indice_muestra + 1, :],\n",
    ")"
   ]
  },
  {
   "cell_type": "markdown",
   "metadata": {},
   "source": [
    "En este código, se están calculando los valores SHAP para un modelo lineal y luego se utiliza un gráfico de dependencia parcial estándar para visualizar la contribución de la característica \"MedInc\" a la predicción del modelo. El valor SHAP para esta característica en particular se puede extraer directamente de este gráfico. Este enfoque simplificado es posible debido a la simplicidad de los modelos lineales."
   ]
  },
  {
   "cell_type": "markdown",
   "metadata": {},
   "source": [
    "La estrecha correspondencia entre el clásico gráfico de dependencia parcial y los valores SHAP significa que si representamos gráficamente el valor SHAP para una característica específica en todo un conjunto de datos, trazaremos exactamente una versión centrada en la media del gráfico de dependencia parcial para esa característica:"
   ]
  },
  {
   "cell_type": "code",
   "execution_count": 13,
   "metadata": {},
   "outputs": [
    {
     "data": {
      "image/png": "[encoded data removed]",
      "text/plain": [
       "<Figure size 600x500 with 2 Axes>"
      ]
     },
     "metadata": {},
     "output_type": "display_data"
    }
   ],
   "source": [
    "shap.plots.scatter(shap_values[:, \"MedInc\"])"
   ]
  },
  {
   "cell_type": "code",
   "execution_count": 102,
   "metadata": {},
   "outputs": [
    {
     "data": {
      "image/png": "[encoded data removed]",
      "text/plain": [
       "<Figure size 800x550 with 3 Axes>"
      ]
     },
     "metadata": {},
     "output_type": "display_data"
    }
   ],
   "source": [
    "# the waterfall_plot shows how we get from shap_values.base_values to model.predict(X)[sample_ind]\n",
    "shap.plots.waterfall(shap_values[20], max_display=14)"
   ]
  }
 ],
 "metadata": {
  "kernelspec": {
   "display_name": ".venv",
   "language": "python",
   "name": "python3"
  },
  "language_info": {
   "codemirror_mode": {
    "name": "ipython",
    "version": 3
   },
   "file_extension": ".py",
   "mimetype": "text/x-python",
   "name": "python",
   "nbconvert_exporter": "python",
   "pygments_lexer": "ipython3",
   "version": "3.9.17"
  }
 },
 "nbformat": 4,
 "nbformat_minor": 2
}
