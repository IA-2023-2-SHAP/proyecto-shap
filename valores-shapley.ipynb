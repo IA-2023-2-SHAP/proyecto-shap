{
  "cells": [
    {
      "cell_type": "markdown",
      "metadata": {
        "id": "_1NAB54luMAT"
      },
      "source": [
        "# Valor de Shapley\n",
        "\n",
        "## Juegos cooperativos TU\n",
        "\n",
        "Un juego se puede pensar como una secuencia de movimientos. En cada uno de ellos, uno de los jugadores decide su actuación entre distintas posibilidades. Al final del juego se asigna un pago a los jugadores que depende de las decisiones que todos ellos hayan tomado. Podemos, por tanto, describir un juego como una función que asigna un pago a cada \"posición final\" posible en el mismo. En el caso de los juegos **utilidad transferible** o **TU** por sus siglas en ingles, se pueden formar grupos de jugadores (que denominaremos **coaliciones**) que fuercen determinados repartos. Así pues, un juego TU puede ser definido mediante una función que asigna a cada coalición\n",
        "posible un número real que indica el pago asociado a dicha coalición[^2].\n",
        "\n",
        "> Un juego TU es un par $(N, v)$ donde $N$ es el conjunto finito de jugadores y $v : \\mathcal{P}(N) \\to \\mathbb{R}$ es una función que cumple que $v(∅) = 0$.\n",
        "\n",
        "Un juegos TU también es conocido como un **juego cooperativo** o **juego de coalición**.\n",
        "\n",
        "Uno de los principales problemas que plantea la teoría de juegos cooperativos TU es cómo repartir la ganancia total $v(N)$ entre todos los jugadores de manera equitativa y acorde con la participación individual de cada jugador. Una de las técnicas más utilizadas para dar solución a este problema\n",
        "es el valor de Shapley[^3].\n",
        "\n",
        "## Función característica\n",
        "\n",
        "La función $v$ se llama función característica. La función $v$ tiene el siguiente significado: si $S$ es una coalición de jugadores, entonces $v(S)$, llamado el **valor de la coalición** $S$, describe la suma total esperada de pagos que los miembros de $S$ pueden obtener mediante la cooperación.\n",
        "\n",
        "> La función característica $v$ de un juego TU es una función $v : \\mathcal{P}(N)  \\to \\mathbb{R}$ que cumple que $v(∅) = 0$.\n",
        "\n",
        "Su dominio es el conjunto de partes de $N$, es decir, conjunto de todos los subconjuntos de $N$, que denotamos por $\\mathcal{P}(N)$ ó $2^N$. Dada una coalición $S ⊂ N$, $v(S)$\n",
        "representa el pago asegurado por los jugadores de $S$, independientemente de las estrategias del resto de jugadores. Se denotará por $G(N)$ el conjunto de todos los **juegos TU**\n",
        "con conjunto de jugadores $N$, y por $n$ la cardinalidad de $N$. Por simplicidad, en general identificaremos $(N, v)$ con su función característica $v$.\n",
        "\n",
        "## Coalición\n",
        "\n",
        "Se denomina Coalición a cualquier subconjunto no vacío de $N$. Para cada coalición $S ⊂ N$ está asociado un número $v(S)$ el cual representa el pago que se puede asegurar a los jugadores que forman parte de $S$, independientemente de lo que hagan los demás jugadores. El **valor de una coalición** se puede considerar como la cantidad mínima que puede obtener una coalición si todos los jugadores que forman parte de ella se asocian y juegan en equipo.\n",
        "\n",
        "## Valor de Shapley\n",
        "\n",
        "El valor de Shapley es una forma de distribuir las ganancias totales a los jugadores, suponiendo que todos colaboran. Es una distribución \"justa\" en el sentido de que es la única distribución con ciertas propiedades deseables que se enumeran a continuación.\n",
        "\n",
        "Shapley, analizó durante mucho tiempo los juegos cooperativos y en 1953 propuso el concepto de valor de un juego $(N, v)$ dado para cada jugador $i ∈ N$ a través de la siguiente expresión [^4]:\n",
        "\n",
        "$$\n",
        "\\varphi_i(N,v)=\\sum_{S \\subseteq N \\setminus\n",
        "\\{i\\}} \\frac{s!\\;(n-s-1)!}{n!}(v(S\\cup\\{i\\})-v(S))\n",
        "$$\n",
        "\n",
        "\n",
        "donde $n$ es el número total de jugadores $N$, $s$ es el numero de jugadores en la coalición $S$ y la suma se extiende sobre todos los subconjuntos $S$ de $N$ que no contienen al jugador $i$.\n",
        "\n",
        "$$\n",
        "\\varphi_i(N,v)= \\sum_{S \\subseteq N \\setminus\n",
        "\\{i\\}} {n \\choose 1, s, n - s - 1}^{-1} (v(S\\cup\\{i\\})-v(S))\n",
        "$$\n",
        "\n",
        "También tenga en cuenta que ${n \\choose a, b, c}$ es el coeficiente multinomial.\n",
        "\n",
        "Aquí, los términos clave son:\n",
        "\n",
        "- $\\varphi_i(v)$: Es el Shapley value del jugador $i$ en el juego representado por la función de valor $v$.\n",
        "\n",
        "- $N$: Es el conjunto de todos los jugadores (en nuestro caso, todas las características).\n",
        "\n",
        "- $S \\subseteq N \\setminus \\{i\\}$: $S$ es una coalición que no contiene al jugador $i$ [^1].\n",
        "\n",
        "- $|S|$ o $s$: Representa el número de jugadores en la coalición $S$.\n",
        "\n",
        "- $|N|$ ó $n$: Es el número total de jugadores (características).\n",
        "\n",
        "- $v(S \\cup \\{i\\})$: Es el valor de la función $v$ cuando la coalición es ampliada para incluir al jugador $i$.\n",
        "\n",
        "- $v(S)$: Es el valor de la función $v$ cuando solo consideramos la coalición $S$.\n",
        "\n",
        "Muchas veces un juego TU denotado como $(N,v)$ se expresa tan solo como $v$ por practicidad. por lo que podemos tambien encontrar $\\varphi_i(N,v)$ que seria equivalente a $\\varphi_i(v)$\n",
        "\n",
        "Esta fórmula puede parecer compleja, pero es esencialmente una suma ponderada de las diferencias en la contribución de la característica $i$ cuando se agrega a diferentes coaliciones. El término $\\frac{s!(n - s - 1)!}{n!}$ representa la ponderación de las diferentes permutaciones posibles de las coaliciones.\n",
        "\n",
        "Una fórmula equivalente alternativa para el valor de Shapley es:\n",
        "\n",
        "$$\n",
        "\\varphi _{i}(v)={\\frac {1}{n!}}\\sum _{R}\\left[v(P_{i}^{R}\\cup \\left\\{i\\right\\})-v(P_{i}^{R})\\right]\n",
        "$$\n",
        "\n",
        "donde la suma recorre todos los órdenes posibles de $n!$ jugadores $R$ y $P_i^R$ es el conjunto de jugadores en $N$ que preceden (estan antes de) a $i$ en el orden $R$.\n",
        "\n",
        "\n",
        "Finalmente, también se puede expresar como\n",
        "\n",
        "$$\n",
        "\\varphi _{i}(v)={\\frac {1}{n}}\\sum _{S\\subseteq N\\setminus \\{i\\}}{\\binom {n-1}{s}}^{-1}(v(S\\cup \\{i\\})-v(S))\n",
        "$$\n",
        "\n",
        "\n",
        "que se puede interpretar como\n",
        "\n",
        "$$\n",
        "\\varphi _{i}(v)={\\frac {1}{\\text{número de jugadores}}}\\sum _{{\\text{coalitions incluyendo }}i}{\\frac {{\\text{contribución marginal de }}i{\\text{ a la coalición}}}{{\\text{número de coaliciones excluyendo }}i{\\text{ de este tamaño}}}}\n",
        "$$\n",
        "\n",
        "## Contribución marginal\n",
        "\n",
        "El valor de Shapley, puede interpretarse como la\n",
        "contribución marginal esperada del jugador $i$ o como un promedio de las contribuciones marginales $[v(S) − v(S − i)]$ de dicho jugador a todas las coaliciones no vacías\n",
        "$S ∈ \\mathcal{P}(N)$, considerando que la coalición del jugador sea\n",
        "equiprobable en tamaño $(1 ≤ s ≤ n)$ y que todas las coaliciones de tamaño $S$ tienen la misma probabilidad.\n",
        "\n",
        "## Propiedades del valor de Shapley\n",
        "\n",
        "El valor de Shapley tiene las siguientes propiedades deseables:\n",
        "\n",
        "**1. Eficiencia**: La ganancia total se distribuye:\n",
        "$$\n",
        "\\sum_{i\\in N}\\varphi _i(v) = v(N)\n",
        "$$\n",
        "\n",
        "**2. Simetría**: si i y j son dos actores que son equivalentes en el sentido de que:\n",
        "$$\n",
        "v(S\\cup\\{i\\}) = v(S\\cup\\{j\\})\n",
        "$$\n",
        "para cada subconjunto $S$ de $N$ que no contiene $i$ ni $j$, entonces $\\varphi _i(v) = \\varphi _j(v)$.\n",
        "\n",
        "**3. Linealidad**: Si dos juegos cooperativos descritos por las\n",
        "funciones de ganancia $v$ y $w$ son combinados, entonces la ganancia distribuida debería corresponder a la ganancia derivada de $v$ y $w$:\n",
        "\n",
        "$$\n",
        "\\varphi _i(v+w) = \\varphi _i(v) + \\varphi _i(w)\n",
        "$$\n",
        "\n",
        "por cada $i$ en $N$.\n",
        "\n",
        "También, por cada número real $a$:\n",
        "\n",
        "$$\n",
        "\\varphi _i(a v) = a \\varphi _i(v)\n",
        "$$\n",
        "\n",
        "por cada $i$ en $N$.\n",
        "\n",
        "**4. Zero Player** (Jugador Nulo): El valor de Shapley $\\varphi _i(v)$ de un jugador nulo $i$ en un juego v es cero. Un jugador $i$ es nulo en v si $v$ if $v(S\\cup \\{i\\}) = v(S)$ para todas las coaliciones $S$.\n",
        "\n",
        "De hecho, dado un conjunto de $N$ jugadores, el valor de Shapley es el único mapa a partir del conjunto de todos los juegos de vectores de ganancias que satisface todas las cuatro propiedades aquí mencionadas.\n",
        "\n",
        "## Dividendos Harsanyi\n",
        "\n",
        "La fórmula del valor de Shapley utiliza los Dividendos Harsanyi para calcular la contribución promedio de cada jugador a la sinergia de todas las coaliciones de las que es miembro.\n",
        "\n",
        "John Charles Harsanyi, en colaboración con John Forbes Nash and Reinhard Selten, propusieron en 1959 [^6] la formula alternativa:\n",
        "$$\n",
        "\\varphi_i(v) = \\sum_{i \\in S \\subseteq N }{\\frac{d_v(S)}{s}}\n",
        "$$\n",
        "\n",
        "donde $d_v(T)$ son los llamados **dividendos Harsanyi** $d_v \\colon \\mathcal{P}(N) \\to \\mathbb{R}$ el cual se define como[^7]:\n",
        "\n",
        "\n",
        "$$\n",
        "\\begin{aligned}\n",
        "d_{v}(\\{i\\})&=v(\\{i\\})\\\\\n",
        "d_{v}(\\{i,j\\})&=v(\\{i,j\\})-d_{v}(\\{i\\})-d_{v}(\\{j\\})\\\\\n",
        "d_{v}(\\{i,j,k\\})&=v(\\{i,j,k\\})-d_{v}(\\{i,j\\})-d_{v}(\\{i,k\\})-d_{v}(\\{j,k\\})-d_{v}(\\{i\\})-d_{v}(\\{j\\})-d_{v}(\\{k\\})\\\\\n",
        "&\\vdots \\\\\n",
        "d_{v}(S)&=v(S)-\\sum _{T\\subsetneq S}d_{v}(T)\n",
        "\\end{aligned}\n",
        "$$\n",
        "\n",
        "El dividendo Harasanyi identifica el excedente que se crea por una coalición de jugadores en un juego cooperativo. Para especificar este superávit, el valor de esta coalición se corrige por el superávit que ya crean las subcoaliciones.\n",
        "\n",
        "\n",
        "Una formula explicita para $d_v(T)$ es:\n",
        "\n",
        "$$\n",
        "d_v(T) = \\sum_{T \\subseteq S }{(-1)^{|S| - |T|}  v(T)}\n",
        "$$\n",
        "\n",
        "Podemos recuperar $v$ de $d_v$ con la ayuda de la formula\n",
        "$$\n",
        "v(S) = d_v(S) + \\sum_{T \\subseteq S }{d_v(T)}\n",
        "$$\n",
        "\n",
        "> En otras palabras, el \"valor total\" de la coalición $S$ proviene de sumar las *divisiones* de cada subconjunto posible de $S$.\n",
        "\n",
        "**Nota:** Los dividendos de Harsanyi pueden encontrarse en algunas literaturas como **sinergia**.\n",
        "\n",
        "# Referencias\n",
        "\n",
        "[^1]: Colaboradores de los proyectos Wikimedia. (2022, March 04). Diferencia de conjuntos - Wikipedia, la enciclopedia libre. Retrieved from <https://es.wikipedia.org/w/index.php?title=Diferencia_de_conjuntos>\n",
        "\n",
        "[^2]: Bamio Martínez, D. (2023). El valor de Shapley. Trabajo Fin de Grao, Universidad de Santiago de Compostela. [En línea]. Disponible en: <https://minerva.usc.es/xmlui/bitstream/handle/10347/26022/Bamio%20Mart%C3%ADnez,%20David.pdf>\n",
        "\n",
        "[^3]: Vesga Ferreira, J. C., Granados Acuña, G., & Sierra Carrillo, J. E. (2015). El valor de shapley como estrategia de optimización de recursos sobre Power Line Communication (PLC). Disponible en: <http://www.scielo.org.co/pdf/ince/v11n22/v11n22a09.pdf>\n",
        "\n",
        "[^4]: L. S. Shapley, “A value for n-persons games in Contributions to the Theory of Games II,” Annals of Mathematics Studies, no. 28, pp. 307–317, 1953.\n",
        "\n",
        "[5^]: Handbook of the Shapley Value. (2019). United Kingdom: CRC Press. Retrived from: <http://rguir.inflibnet.ac.in/bitstream/123456789/16159/1/Handbook%20of%20the%20Shapley%20Value.pdf>\n",
        "\n",
        "[^6]: Harsanyi, J.C. (1959) A bargaining model for cooperative n-person games. In: Tucker, A.W., Luce, R.D. (eds) Contributions to the theory of games IV. Princenton University Press, Princenton, pp. 325-355\n",
        "\n",
        "[^7]: Grabisch, M. (2016). Set Functions, Games and Capacities in Decision Making. Germany: Springer International Publishing."
      ]
    },
    {
      "cell_type": "code",
      "execution_count": 1,
      "metadata": {
        "id": "8E6Eaf_CuMAf"
      },
      "outputs": [],
      "source": [
        "import sys\n",
        "import math\n",
        "import sympy as sy\n",
        "from IPython.display import Math, Latex, Markdown, HTML, display"
      ]
    },
    {
      "cell_type": "code",
      "execution_count": null,
      "metadata": {
        "id": "AVAWNXEiuMAi"
      },
      "outputs": [],
      "source": [
        "def juego_TU(N,v):\n",
        "\tdisplay(Markdown(\"### Valores Shapley\"))\n",
        "\tdisplay(Markdown(\"#### Jugadores\"))\n",
        "\tfor i in range(len(N)):\n",
        "\t\tdisplay(Markdown(\"Jugador $\"+str(i)+\"$\"))\n",
        "\n",
        "\tdisplay(Markdown(\"#### Funcion caracteristica\"))\n",
        "\tdisplay(sy.PowerSet(N))"
      ]
    },
    {
      "cell_type": "code",
      "execution_count": null,
      "metadata": {
        "id": "2lWobA93uMAk"
      },
      "outputs": [],
      "source": []
    },
    {
      "cell_type": "code",
      "execution_count": 124,
      "metadata": {
        "colab": {
          "base_uri": "https://localhost:8080/",
          "height": 217
        },
        "id": "YEiZLwMruMAm",
        "outputId": "ac2bf008-d563-452b-bf3a-ba65ca2d655d"
      },
      "outputs": [
        {
          "data": {
            "text/markdown": [
              "Tenemos $|N|=n=3$ jugadores: $N=\\left\\{A, B, C\\right\\}$"
            ],
            "text/plain": [
              "<IPython.core.display.Markdown object>"
            ]
          },
          "metadata": {},
          "output_type": "display_data"
        },
        {
          "data": {
            "text/markdown": [
              "Tenemos la funcion caracteristica es: $v=\\left\\{ \\left\\{A, C\\right\\} : 1, \\  \\left\\{B, C\\right\\} : 1, \\  \\left\\{A, B, C\\right\\} : 1\\right\\}$"
            ],
            "text/plain": [
              "<IPython.core.display.Markdown object>"
            ]
          },
          "metadata": {},
          "output_type": "display_data"
        },
        {
          "data": {
            "text/markdown": [
              "Si $i=C$, entonces, $N \\setminus \\{ C \\} = \\left\\{A, B\\right\\}$"
            ],
            "text/plain": [
              "<IPython.core.display.Markdown object>"
            ]
          },
          "metadata": {},
          "output_type": "display_data"
        },
        {
          "data": {
            "text/markdown": [
              "Las coaliciones $S \\subseteq N \\setminus \\{ C \\}$ son:"
            ],
            "text/plain": [
              "<IPython.core.display.Markdown object>"
            ]
          },
          "metadata": {},
          "output_type": "display_data"
        },
        {
          "data": {
            "text/latex": [
              "$\\displaystyle \\emptyset$"
            ],
            "text/plain": [
              "EmptySet"
            ]
          },
          "metadata": {},
          "output_type": "display_data"
        },
        {
          "data": {
            "text/latex": [
              "$\\displaystyle \\left\\{A\\right\\}$"
            ],
            "text/plain": [
              "{A}"
            ]
          },
          "metadata": {},
          "output_type": "display_data"
        },
        {
          "data": {
            "text/latex": [
              "$\\displaystyle \\left\\{B\\right\\}$"
            ],
            "text/plain": [
              "{B}"
            ]
          },
          "metadata": {},
          "output_type": "display_data"
        },
        {
          "data": {
            "text/latex": [
              "$\\displaystyle \\left\\{A, B\\right\\}$"
            ],
            "text/plain": [
              "{A, B}"
            ]
          },
          "metadata": {},
          "output_type": "display_data"
        }
      ],
      "source": [
        "# Ejemlpo del juego de los guantes\n",
        "\"\"\"_summary_\n",
        "El juego de los guantes es un juego cooperativo en el que los jugadores tienen guantes de la\n",
        "mano izquierda y de la mano derecha y el objetivo es formar parejas\n",
        "\"\"\"\n",
        "N_sym, n_sym, S_sym, Sp_sym, s_sym, i_sym = sy.symbols(\"N n S S' s i\")\n",
        "v_sym = sy.Function('v')\n",
        "# Crear jugadores del juego\n",
        "n = 3\n",
        "N = sy.FiniteSet('A', 'B', 'C')\n",
        "display(Markdown(f'Tenemos $|N|=n={n}$ jugadores: $N={sy.latex(N)}$'))\n",
        "# Crear funcion caracteristica\n",
        "v = {\n",
        "  sy.FiniteSet('A', 'C'): 1,\n",
        "  sy.FiniteSet('B', 'C'): 1,\n",
        "  sy.FiniteSet('A', 'B', 'C'): 1\n",
        "}\n",
        "\n",
        "display(Markdown(f'Tenemos la funcion caracteristica es: $v={sy.latex(v)}$'))\n",
        "display(Markdown(f'Si $i={i}$, entonces, $N \\\\setminus \\\\{{ {i} \\\\}} = {sy.latex(N_sin_i)}$'))\n",
        "display(Markdown(f'Las coaliciones $S \\\\subseteq N \\\\setminus \\\\{{ {i} \\\\}}$ son:'))\n",
        "for S in R:\n",
        "  display(S)\n",
        "\n"
      ]
    },
    {
      "cell_type": "code",
      "execution_count": 122,
      "metadata": {},
      "outputs": [
        {
          "data": {
            "text/latex": [
              "$\\displaystyle \\frac{\\left(- v{\\left(S \\right)} + v{\\left(S' \\right)}\\right) s! \\left(n - s - 1\\right)!}{n!}$"
            ],
            "text/plain": [
              "(-v(S) + v(S'))*factorial(s)*factorial(n - s - 1)/factorial(n)"
            ]
          },
          "metadata": {},
          "output_type": "display_data"
        }
      ],
      "source": [
        "phi_sym = (sy.factorial(s_sym) * sy.factorial(n_sym-s_sym-1)) / sy.factorial(n_sym) * (v_sym(Sp_sym) - v_sym(S_sym))\n",
        "display(phi_sym)"
      ]
    },
    {
      "cell_type": "code",
      "execution_count": 134,
      "metadata": {
        "colab": {
          "base_uri": "https://localhost:8080/",
          "height": 160
        },
        "id": "koTgHjBuuMAq",
        "outputId": "3bc66315-5293-4929-c3c2-58f84f1cdc56"
      },
      "outputs": [],
      "source": [
        "def valor_shapley(N,v):\n",
        "  for i in N:\n",
        "    display(Markdown(f\"Para $i={i}$\"))\n",
        "    n = len(N)\n",
        "    phi = 0\n",
        "    N_sin_i = N - sy.FiniteSet(i)\n",
        "    R = sy.PowerSet(N_sin_i).rewrite(sy.FiniteSet)\n",
        "    for S in R:\n",
        "      s = len(S)\n",
        "      combinations = (sy.factorial(s) * sy.factorial(n-s-1)) / sy.factorial(n) \n",
        "      Sp = sy.FiniteSet(i).union(S)\n",
        "      CM = (v.get(Sp, 0) - v.get(S, 0))\n",
        "      termino = combinations * CM\n",
        "      phi += termino\n",
        "      display(Markdown(f\"* con $S={sy.latex(S)}$ y $S'={sy.latex(Sp)}$ tenemos ${sy.latex(phi_sym)} = {sy.latex(phi_sym.subs({s_sym: s, n_sym: n }))} = {sy.latex(combinations)} \\\\cdot {sy.latex(CM)}$ \"))\n",
        "    display(Markdown(f'El valor de Shapley para el jugador $i={i}$ es: {phi}'))"
      ]
    },
    {
      "cell_type": "code",
      "execution_count": 135,
      "metadata": {
        "colab": {
          "base_uri": "https://localhost:8080/",
          "height": 102
        },
        "id": "yPh0KwdCuMAs",
        "outputId": "2a900040-dc5e-4107-a7bb-73ea942c4baa"
      },
      "outputs": [
        {
          "data": {
            "text/markdown": [
              "Para $i=A$"
            ],
            "text/plain": [
              "<IPython.core.display.Markdown object>"
            ]
          },
          "metadata": {},
          "output_type": "display_data"
        },
        {
          "data": {
            "text/markdown": [
              "* con $S=\\emptyset$ y $S'=\\left\\{A\\right\\}$ tenemos $\\frac{\\left(- v{\\left(S \\right)} + v{\\left(S' \\right)}\\right) s! \\left(n - s - 1\\right)!}{n!} = - \\frac{v{\\left(S \\right)}}{3} + \\frac{v{\\left(S' \\right)}}{3} = \\frac{1}{3} \\cdot 0$ "
            ],
            "text/plain": [
              "<IPython.core.display.Markdown object>"
            ]
          },
          "metadata": {},
          "output_type": "display_data"
        },
        {
          "data": {
            "text/markdown": [
              "* con $S=\\left\\{B\\right\\}$ y $S'=\\left\\{A, B\\right\\}$ tenemos $\\frac{\\left(- v{\\left(S \\right)} + v{\\left(S' \\right)}\\right) s! \\left(n - s - 1\\right)!}{n!} = - \\frac{v{\\left(S \\right)}}{6} + \\frac{v{\\left(S' \\right)}}{6} = \\frac{1}{6} \\cdot 0$ "
            ],
            "text/plain": [
              "<IPython.core.display.Markdown object>"
            ]
          },
          "metadata": {},
          "output_type": "display_data"
        },
        {
          "data": {
            "text/markdown": [
              "* con $S=\\left\\{C\\right\\}$ y $S'=\\left\\{A, C\\right\\}$ tenemos $\\frac{\\left(- v{\\left(S \\right)} + v{\\left(S' \\right)}\\right) s! \\left(n - s - 1\\right)!}{n!} = - \\frac{v{\\left(S \\right)}}{6} + \\frac{v{\\left(S' \\right)}}{6} = \\frac{1}{6} \\cdot 1$ "
            ],
            "text/plain": [
              "<IPython.core.display.Markdown object>"
            ]
          },
          "metadata": {},
          "output_type": "display_data"
        },
        {
          "data": {
            "text/markdown": [
              "* con $S=\\left\\{B, C\\right\\}$ y $S'=\\left\\{A, B, C\\right\\}$ tenemos $\\frac{\\left(- v{\\left(S \\right)} + v{\\left(S' \\right)}\\right) s! \\left(n - s - 1\\right)!}{n!} = - \\frac{v{\\left(S \\right)}}{3} + \\frac{v{\\left(S' \\right)}}{3} = \\frac{1}{3} \\cdot 0$ "
            ],
            "text/plain": [
              "<IPython.core.display.Markdown object>"
            ]
          },
          "metadata": {},
          "output_type": "display_data"
        },
        {
          "data": {
            "text/markdown": [
              "El valor de Shapley para el jugador $i=A$ es: 1/6"
            ],
            "text/plain": [
              "<IPython.core.display.Markdown object>"
            ]
          },
          "metadata": {},
          "output_type": "display_data"
        },
        {
          "data": {
            "text/markdown": [
              "Para $i=B$"
            ],
            "text/plain": [
              "<IPython.core.display.Markdown object>"
            ]
          },
          "metadata": {},
          "output_type": "display_data"
        },
        {
          "data": {
            "text/markdown": [
              "* con $S=\\emptyset$ y $S'=\\left\\{B\\right\\}$ tenemos $\\frac{\\left(- v{\\left(S \\right)} + v{\\left(S' \\right)}\\right) s! \\left(n - s - 1\\right)!}{n!} = - \\frac{v{\\left(S \\right)}}{3} + \\frac{v{\\left(S' \\right)}}{3} = \\frac{1}{3} \\cdot 0$ "
            ],
            "text/plain": [
              "<IPython.core.display.Markdown object>"
            ]
          },
          "metadata": {},
          "output_type": "display_data"
        },
        {
          "data": {
            "text/markdown": [
              "* con $S=\\left\\{A\\right\\}$ y $S'=\\left\\{A, B\\right\\}$ tenemos $\\frac{\\left(- v{\\left(S \\right)} + v{\\left(S' \\right)}\\right) s! \\left(n - s - 1\\right)!}{n!} = - \\frac{v{\\left(S \\right)}}{6} + \\frac{v{\\left(S' \\right)}}{6} = \\frac{1}{6} \\cdot 0$ "
            ],
            "text/plain": [
              "<IPython.core.display.Markdown object>"
            ]
          },
          "metadata": {},
          "output_type": "display_data"
        },
        {
          "data": {
            "text/markdown": [
              "* con $S=\\left\\{C\\right\\}$ y $S'=\\left\\{B, C\\right\\}$ tenemos $\\frac{\\left(- v{\\left(S \\right)} + v{\\left(S' \\right)}\\right) s! \\left(n - s - 1\\right)!}{n!} = - \\frac{v{\\left(S \\right)}}{6} + \\frac{v{\\left(S' \\right)}}{6} = \\frac{1}{6} \\cdot 1$ "
            ],
            "text/plain": [
              "<IPython.core.display.Markdown object>"
            ]
          },
          "metadata": {},
          "output_type": "display_data"
        },
        {
          "data": {
            "text/markdown": [
              "* con $S=\\left\\{A, C\\right\\}$ y $S'=\\left\\{A, B, C\\right\\}$ tenemos $\\frac{\\left(- v{\\left(S \\right)} + v{\\left(S' \\right)}\\right) s! \\left(n - s - 1\\right)!}{n!} = - \\frac{v{\\left(S \\right)}}{3} + \\frac{v{\\left(S' \\right)}}{3} = \\frac{1}{3} \\cdot 0$ "
            ],
            "text/plain": [
              "<IPython.core.display.Markdown object>"
            ]
          },
          "metadata": {},
          "output_type": "display_data"
        },
        {
          "data": {
            "text/markdown": [
              "El valor de Shapley para el jugador $i=B$ es: 1/6"
            ],
            "text/plain": [
              "<IPython.core.display.Markdown object>"
            ]
          },
          "metadata": {},
          "output_type": "display_data"
        },
        {
          "data": {
            "text/markdown": [
              "Para $i=C$"
            ],
            "text/plain": [
              "<IPython.core.display.Markdown object>"
            ]
          },
          "metadata": {},
          "output_type": "display_data"
        },
        {
          "data": {
            "text/markdown": [
              "* con $S=\\emptyset$ y $S'=\\left\\{C\\right\\}$ tenemos $\\frac{\\left(- v{\\left(S \\right)} + v{\\left(S' \\right)}\\right) s! \\left(n - s - 1\\right)!}{n!} = - \\frac{v{\\left(S \\right)}}{3} + \\frac{v{\\left(S' \\right)}}{3} = \\frac{1}{3} \\cdot 0$ "
            ],
            "text/plain": [
              "<IPython.core.display.Markdown object>"
            ]
          },
          "metadata": {},
          "output_type": "display_data"
        },
        {
          "data": {
            "text/markdown": [
              "* con $S=\\left\\{A\\right\\}$ y $S'=\\left\\{A, C\\right\\}$ tenemos $\\frac{\\left(- v{\\left(S \\right)} + v{\\left(S' \\right)}\\right) s! \\left(n - s - 1\\right)!}{n!} = - \\frac{v{\\left(S \\right)}}{6} + \\frac{v{\\left(S' \\right)}}{6} = \\frac{1}{6} \\cdot 1$ "
            ],
            "text/plain": [
              "<IPython.core.display.Markdown object>"
            ]
          },
          "metadata": {},
          "output_type": "display_data"
        },
        {
          "data": {
            "text/markdown": [
              "* con $S=\\left\\{B\\right\\}$ y $S'=\\left\\{B, C\\right\\}$ tenemos $\\frac{\\left(- v{\\left(S \\right)} + v{\\left(S' \\right)}\\right) s! \\left(n - s - 1\\right)!}{n!} = - \\frac{v{\\left(S \\right)}}{6} + \\frac{v{\\left(S' \\right)}}{6} = \\frac{1}{6} \\cdot 1$ "
            ],
            "text/plain": [
              "<IPython.core.display.Markdown object>"
            ]
          },
          "metadata": {},
          "output_type": "display_data"
        },
        {
          "data": {
            "text/markdown": [
              "* con $S=\\left\\{A, B\\right\\}$ y $S'=\\left\\{A, B, C\\right\\}$ tenemos $\\frac{\\left(- v{\\left(S \\right)} + v{\\left(S' \\right)}\\right) s! \\left(n - s - 1\\right)!}{n!} = - \\frac{v{\\left(S \\right)}}{3} + \\frac{v{\\left(S' \\right)}}{3} = \\frac{1}{3} \\cdot 1$ "
            ],
            "text/plain": [
              "<IPython.core.display.Markdown object>"
            ]
          },
          "metadata": {},
          "output_type": "display_data"
        },
        {
          "data": {
            "text/markdown": [
              "El valor de Shapley para el jugador $i=C$ es: 2/3"
            ],
            "text/plain": [
              "<IPython.core.display.Markdown object>"
            ]
          },
          "metadata": {},
          "output_type": "display_data"
        }
      ],
      "source": [
        "valor_shapley(N,v)"
      ]
    },
    {
      "cell_type": "markdown",
      "metadata": {
        "id": "w7by1S9zuMA4"
      },
      "source": []
    },
    {
      "cell_type": "markdown",
      "metadata": {
        "id": "rH_7g-PsuMA5"
      },
      "source": []
    }
  ],
  "metadata": {
    "colab": {
      "provenance": []
    },
    "kernelspec": {
      "display_name": "Python 3 (ipykernel)",
      "language": "python",
      "name": "python3"
    },
    "language_info": {
      "codemirror_mode": {
        "name": "ipython",
        "version": 3
      },
      "file_extension": ".py",
      "mimetype": "text/x-python",
      "name": "python",
      "nbconvert_exporter": "python",
      "pygments_lexer": "ipython3",
      "version": "3.11.6"
    }
  },
  "nbformat": 4,
  "nbformat_minor": 0
}
