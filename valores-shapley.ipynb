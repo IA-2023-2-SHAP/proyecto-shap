{
 "cells": [
  {
   "cell_type": "code",
   "execution_count": 1,
   "metadata": {},
   "outputs": [],
   "source": [
    "import sys\n",
    "import math\n",
    "import sympy as sy\n",
    "from IPython.display import Math, Latex, Markdown, HTML, display"
   ]
  },
  {
   "cell_type": "code",
   "execution_count": 2,
   "metadata": {},
   "outputs": [],
   "source": [
    "i, S, N = sy.symbols('i S N')"
   ]
  },
  {
   "cell_type": "markdown",
   "metadata": {},
   "source": [
    "La fórmula matemática para calcular los Shapley values es la siguiente:\n",
    "\n",
    "$$\n",
    "φ_i(v) = \\sum_{S \\subseteq N \\setminus \\{i\\}} \\frac{|S|!(N-|S|-1)!}{N!}(v(S \\cup \\{i\\}) - v(S))\n",
    "$$\n",
    "\n",
    "donde:\n",
    "\n",
    "* $φ_i(v)$ es el valor de Shapley de la característica $i$ para el valor $v$.\n",
    "* $S$ es un subconjunto de las características del modelo, excluyendo la característica $i$.\n",
    "* $N$ es el número total de características del modelo.\n",
    "* $|S|$ es el tamaño del subconjunto $S$.\n",
    "* $v(S)$ es el valor del modelo cuando se utilizan las características en el subconjunto $S$."
   ]
  },
  {
   "cell_type": "markdown",
   "metadata": {},
   "source": []
  },
  {
   "cell_type": "code",
   "execution_count": 3,
   "metadata": {},
   "outputs": [],
   "source": [
    "def shapley_value(v, i, N):\n",
    "    return summation(\n",
    "        sy.factorial(len(S)) * sy.factorial(N - len(S) - 1) / sy.factorial(N) * (v(S.union({i})) - v(S)),\n",
    "        (S, 0, N - 1)\n",
    "    )\n"
   ]
  }
 ],
 "metadata": {
  "kernelspec": {
   "display_name": "Python 3 (ipykernel)",
   "language": "python",
   "name": "python3"
  },
  "language_info": {
   "codemirror_mode": {
    "name": "ipython",
    "version": 3
   },
   "file_extension": ".py",
   "mimetype": "text/x-python",
   "name": "python",
   "nbconvert_exporter": "python",
   "pygments_lexer": "ipython3",
   "version": "3.11.6"
  }
 },
 "nbformat": 4,
 "nbformat_minor": 4
}
