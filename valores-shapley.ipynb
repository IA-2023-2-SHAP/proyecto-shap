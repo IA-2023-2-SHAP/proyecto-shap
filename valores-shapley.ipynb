{
 "cells": [
  {
   "cell_type": "markdown",
   "metadata": {},
   "source": [
    "# Valor de Shapley\n",
    "\n",
    "## Juegos cooperativos TU\n",
    "\n",
    "Un juego se puede pensar como una secuencia de movimientos. En cada uno de ellos, uno de los jugadores decide su actuación entre distintas posibilidades. Al final del juego se asigna un pago a los jugadores que depende de las decisiones que todos ellos hayan tomado. Podemos, por tanto, describir un juego como una función que asigna un pago a cada \"posición final\" posible en el mismo. En el caso de los juegos **utilidad transferible** o **TU** por sus siglas en ingles, se pueden formar grupos de jugadores (que denominaremos **coaliciones**) que fuercen determinados repartos. Así pues, un juego TU puede ser definido mediante una función que asigna a cada coalición\n",
    "posible un número real que indica el pago asociado a dicha coalición[^2].\n",
    "\n",
    "> Un juego TU es un par $(N, v)$ donde $N$ es el conjunto finito de jugadores y $v : \\mathcal{P}(N) \\to \\mathbb{R}$ es una función que cumple que $v(∅) = 0$.\n",
    "\n",
    "Un juegos TU también es conocido como un **juego cooperativo** o **juego de coalición**.\n",
    "\n",
    "Uno de los principales problemas que plantea la teoría de juegos cooperativos TU es cómo repartir la ganancia total $v(N)$ entre todos los jugadores de manera equitativa y acorde con la participación individual de cada jugador. Una de las técnicas más utilizadas para dar solución a este problema\n",
    "es el valor de Shapley[^3].\n",
    "\n",
    "## Función característica\n",
    "\n",
    "La función $v$ se llama función característica. La función $v$ tiene el siguiente significado: si $S$ es una coalición de jugadores, entonces $v(S)$, llamado el **valor de la coalición** $S$, describe la suma total esperada de pagos que los miembros de $S$ pueden obtener mediante la cooperación.\n",
    "\n",
    "> La función característica $v$ de un juego TU es una función $v : \\mathcal{P}(N)  \\to \\mathbb{R}$ que cumple que $v(∅) = 0$.\n",
    "\n",
    "Su dominio es el conjunto de partes de $N$, es decir, conjunto de todos los subconjuntos de $N$, que denotamos por $\\mathcal{P}(N)$ ó $2^N$. Dada una coalición $S ⊂ N$, $v(S)$\n",
    "representa el pago asegurado por los jugadores de $S$, independientemente de las estrategias del resto de jugadores. Se denotará por $G(N)$ el conjunto de todos los **juegos TU**\n",
    "con conjunto de jugadores $N$, y por $n$ la cardinalidad de $N$. Por simplicidad, en general identificaremos $(N, v)$ con su función característica $v$.\n",
    "\n",
    "## Coalición\n",
    "\n",
    "Se denomina Coalición a cualquier subconjunto no vacío de $N$. Para cada coalición $S ⊂ N$ está asociado un número $v(S)$ el cual representa el pago que se puede asegurar a los jugadores que forman parte de $S$, independientemente de lo que hagan los demás jugadores. El **valor de una coalición** se puede considerar como la cantidad mínima que puede obtener una coalición si todos los jugadores que forman parte de ella se asocian y juegan en equipo.\n",
    "\n",
    "## Valor de Shapley\n",
    "\n",
    "El valor de Shapley es una forma de distribuir las ganancias totales a los jugadores, suponiendo que todos colaboran. Es una distribución \"justa\" en el sentido de que es la única distribución con ciertas propiedades deseables que se enumeran a continuación. \n",
    "\n",
    "Shapley, analizó durante mucho tiempo los juegos cooperativos y en 1953 propuso el concepto de valor de un juego $(N, v)$ dado para cada jugador $i ∈ N$ a través de la siguiente expresión [^4]: \n",
    "\n",
    "$$\n",
    "\\varphi_i(N,v)=\\sum_{S \\subseteq N \\setminus\n",
    "\\{i\\}} \\frac{s!\\;(n-s-1)!}{n!}(v(S\\cup\\{i\\})-v(S))\n",
    "$$\n",
    "\n",
    "\n",
    "donde $n$ es el número total de jugadores $N$, $s$ es el numero de jugadores en la coalición $S$ y la suma se extiende sobre todos los subconjuntos $S$ de $N$ que no contienen al jugador $i$. \n",
    "\n",
    "$$\n",
    "\\varphi_i(N,v)= \\sum_{S \\subseteq N \\setminus\n",
    "\\{i\\}} {n \\choose 1, s, n - s - 1}^{-1} (v(S\\cup\\{i\\})-v(S))\n",
    "$$\n",
    "\n",
    "También tenga en cuenta que ${n \\choose a, b, c}$ es el coeficiente multinomial. \n",
    "\n",
    "Aquí, los términos clave son:\n",
    "\n",
    "- $\\varphi_i(v)$: Es el Shapley value del jugador $i$ en el juego representado por la función de valor $v$.\n",
    "\n",
    "- $N$: Es el conjunto de todos los jugadores (en nuestro caso, todas las características).\n",
    "\n",
    "- $S \\subseteq N \\setminus \\{i\\}$: $S$ es una coalición que no contiene al jugador $i$ [^1].\n",
    "\n",
    "- $|S|$ o $s$: Representa el número de jugadores en la coalición $S$.\n",
    "\n",
    "- $|N|$ ó $n$: Es el número total de jugadores (características).\n",
    "\n",
    "- $v(S \\cup \\{i\\})$: Es el valor de la función $v$ cuando la coalición es ampliada para incluir al jugador $i$.\n",
    "\n",
    "- $v(S)$: Es el valor de la función $v$ cuando solo consideramos la coalición $S$.\n",
    "\n",
    "Muchas veces un juego TU denotado como $(N,v)$ se expresa tan solo como $v$ por practicidad. por lo que podemos tambien encontrar $\\varphi_i(N,v)$ que seria equivalente a $\\varphi_i(v)$\n",
    "\n",
    "Esta fórmula puede parecer compleja, pero es esencialmente una suma ponderada de las diferencias en la contribución de la característica $i$ cuando se agrega a diferentes coaliciones. El término $\\frac{s!(n - s - 1)!}{n!}$ representa la ponderación de las diferentes permutaciones posibles de las coaliciones.\n",
    "\n",
    "Una fórmula equivalente alternativa para el valor de Shapley es:\n",
    "\n",
    "$$\n",
    "\\varphi _{i}(v)={\\frac {1}{n!}}\\sum _{R}\\left[v(P_{i}^{R}\\cup \\left\\{i\\right\\})-v(P_{i}^{R})\\right]\n",
    "$$\n",
    "\n",
    "donde la suma recorre todos los órdenes posibles de $n!$ jugadores $R$ y $P_i^R$ es el conjunto de jugadores en $N$ que preceden (estan antes de) a $i$ en el orden $R$. \n",
    "\n",
    "\n",
    "Finalmente, también se puede expresar como\n",
    "\n",
    "$$\n",
    "\\varphi _{i}(v)={\\frac {1}{n}}\\sum _{S\\subseteq N\\setminus \\{i\\}}{\\binom {n-1}{s}}^{-1}(v(S\\cup \\{i\\})-v(S))\n",
    "$$\n",
    "\n",
    "\n",
    "que se puede interpretar como\n",
    "\n",
    "$$\n",
    "\\varphi _{i}(v)={\\frac {1}{\\text{número de jugadores}}}\\sum _{{\\text{coalitions incluyendo }}i}{\\frac {{\\text{contribución marginal de }}i{\\text{ a la coalición}}}{{\\text{número de coaliciones excluyendo }}i{\\text{ de este tamaño}}}}\n",
    "$$\n",
    "\n",
    "## Contribución marginal\n",
    "\n",
    "El valor de Shapley, puede interpretarse como la\n",
    "contribución marginal esperada del jugador $i$ o como un promedio de las contribuciones marginales $[v(S) − v(S − i)]$ de dicho jugador a todas las coaliciones no vacías \n",
    "$S ∈ \\mathcal{P}(N)$, considerando que la coalición del jugador sea\n",
    "equiprobable en tamaño $(1 ≤ s ≤ n)$ y que todas las coaliciones de tamaño $S$ tienen la misma probabilidad.\n",
    "\n",
    "## Propiedades del valor de Shapley\n",
    "\n",
    "El valor de Shapley tiene las siguientes propiedades deseables:\n",
    "\n",
    "**1. Eficiencia**: La ganancia total se distribuye:\n",
    "$$\n",
    "\\sum_{i\\in N}\\varphi _i(v) = v(N)\n",
    "$$\n",
    "\n",
    "**2. Simetría**: si i y j son dos actores que son equivalentes en el sentido de que:\n",
    "$$\n",
    "v(S\\cup\\{i\\}) = v(S\\cup\\{j\\})\n",
    "$$\n",
    "para cada subconjunto $S$ de $N$ que no contiene $i$ ni $j$, entonces $\\varphi _i(v) = \\varphi _j(v)$.\n",
    "\n",
    "**3. Linealidad**: Si dos juegos cooperativos descritos por las\n",
    "funciones de ganancia $v$ y $w$ son combinados, entonces la ganancia distribuida debería corresponder a la ganancia derivada de $v$ y $w$:\n",
    "\n",
    "$$\n",
    "\\varphi _i(v+w) = \\varphi _i(v) + \\varphi _i(w)\n",
    "$$\n",
    "\n",
    "por cada $i$ en $N$.\n",
    "\n",
    "También, por cada número real $a$:\n",
    "\n",
    "$$\n",
    "\\varphi _i(a v) = a \\varphi _i(v)\n",
    "$$ \n",
    "\n",
    "por cada $i$ en $N$.\n",
    "\n",
    "**4. Zero Player** (Jugador Nulo): El valor de Shapley $\\varphi _i(v)$ de un jugador nulo $i$ en un juego v es cero. Un jugador $i$ es nulo en v si $v$ if $v(S\\cup \\{i\\}) = v(S)$ para todas las coaliciones $S$.\n",
    "\n",
    "De hecho, dado un conjunto de $N$ jugadores, el valor de Shapley es el único mapa a partir del conjunto de todos los juegos de vectores de ganancias que satisface todas las cuatro propiedades aquí mencionadas.\n",
    "\n",
    "## Dividendos Harsanyi\n",
    "\n",
    "La fórmula del valor de Shapley utiliza los Dividendos Harsanyi para calcular la contribución promedio de cada jugador a la sinergia de todas las coaliciones de las que es miembro.\n",
    "\n",
    "John Charles Harsanyi, en colaboración con John Forbes Nash and Reinhard Selten, propusieron en 1959 [^6] la formula alternativa:\n",
    "$$\n",
    "\\varphi_i(v) = \\sum_{i \\in S \\subseteq N }{\\frac{d_v(S)}{s}}\n",
    "$$\n",
    "\n",
    "donde $d_v(T)$ son los llamados **dividendos Harsanyi** $d_v \\colon \\mathcal{P}(N) \\to \\mathbb{R}$ el cual se define como[^7]:\n",
    "\n",
    "\n",
    "$$\n",
    "\\begin{aligned}\n",
    "d_{v}(\\{i\\})&=v(\\{i\\})\\\\\n",
    "d_{v}(\\{i,j\\})&=v(\\{i,j\\})-d_{v}(\\{i\\})-d_{v}(\\{j\\})\\\\\n",
    "d_{v}(\\{i,j,k\\})&=v(\\{i,j,k\\})-d_{v}(\\{i,j\\})-d_{v}(\\{i,k\\})-d_{v}(\\{j,k\\})-d_{v}(\\{i\\})-d_{v}(\\{j\\})-d_{v}(\\{k\\})\\\\\n",
    "&\\vdots \\\\\n",
    "d_{v}(S)&=v(S)-\\sum _{T\\subsetneq S}d_{v}(T)\n",
    "\\end{aligned}\n",
    "$$\n",
    "\n",
    "El dividendo Harasanyi identifica el excedente que se crea por una coalición de jugadores en un juego cooperativo. Para especificar este superávit, el valor de esta coalición se corrige por el superávit que ya crean las subcoaliciones.\n",
    "\n",
    "\n",
    "Una formula explicita para $d_v(T)$ es:\n",
    "\n",
    "$$\n",
    "d_v(T) = \\sum_{T \\subseteq S }{(-1)^{|S| - |T|}  v(T)}\n",
    "$$\n",
    "\n",
    "Podemos recuperar $v$ de $d_v$ con la ayuda de la formula\n",
    "$$\n",
    "v(S) = d_v(S) + \\sum_{T \\subseteq S }{d_v(T)}\n",
    "$$\n",
    "\n",
    "> En otras palabras, el \"valor total\" de la coalición $S$ proviene de sumar las *divisiones* de cada subconjunto posible de $S$. \n",
    "\n",
    "**Nota:** Los dividendos de Harsanyi pueden encontrarse en algunas literaturas como **sinergia**.\n",
    "\n",
    "# Referencias\n",
    "\n",
    "[^1]: Colaboradores de los proyectos Wikimedia. (2022, March 04). Diferencia de conjuntos - Wikipedia, la enciclopedia libre. Retrieved from <https://es.wikipedia.org/w/index.php?title=Diferencia_de_conjuntos>\n",
    "\n",
    "[^2]: Bamio Martínez, D. (2023). El valor de Shapley. Trabajo Fin de Grao, Universidad de Santiago de Compostela. [En línea]. Disponible en: <https://minerva.usc.es/xmlui/bitstream/handle/10347/26022/Bamio%20Mart%C3%ADnez,%20David.pdf>\n",
    "\n",
    "[^3]: Vesga Ferreira, J. C., Granados Acuña, G., & Sierra Carrillo, J. E. (2015). El valor de shapley como estrategia de optimización de recursos sobre Power Line Communication (PLC). Disponible en: <http://www.scielo.org.co/pdf/ince/v11n22/v11n22a09.pdf>\n",
    "\n",
    "[^4]: L. S. Shapley, “A value for n-persons games in Contributions to the Theory of Games II,” Annals of Mathematics Studies, no. 28, pp. 307–317, 1953. \n",
    "\n",
    "[5^]: Handbook of the Shapley Value. (2019). United Kingdom: CRC Press. Retrived from: <http://rguir.inflibnet.ac.in/bitstream/123456789/16159/1/Handbook%20of%20the%20Shapley%20Value.pdf>\n",
    "\n",
    "[^6]: Harsanyi, J.C. (1959) A bargaining model for cooperative n-person games. In: Tucker, A.W., Luce, R.D. (eds) Contributions to the theory of games IV. Princenton University Press, Princenton, pp. 325-355\n",
    "\n",
    "[^7]: Grabisch, M. (2016). Set Functions, Games and Capacities in Decision Making. Germany: Springer International Publishing."
   ]
  },
  {
   "cell_type": "code",
   "execution_count": 3,
   "metadata": {},
   "outputs": [],
   "source": [
    "import sys\n",
    "import math\n",
    "import sympy as sy\n",
    "from IPython.display import Math, Latex, Markdown, HTML, display"
   ]
  },
  {
   "cell_type": "code",
   "execution_count": 15,
   "metadata": {},
   "outputs": [],
   "source": [
    "def juego_TU(N,v):\n",
    "\tdisplay(Markdown(\"### Valores Shapley\"))\n",
    "\tdisplay(Markdown(\"#### Jugadores\"))\n",
    "\tfor i in range(len(N)):\n",
    "\t\tdisplay(Markdown(\"Jugador $\"+str(i)+\"$\"))\n",
    "\n",
    "\tdisplay(Markdown(\"#### Funcion caracteristica\"))\n",
    "\tdisplay(sy.PowerSet(N))"
   ]
  },
  {
   "cell_type": "code",
   "execution_count": null,
   "metadata": {},
   "outputs": [],
   "source": []
  },
  {
   "cell_type": "code",
   "execution_count": 101,
   "metadata": {},
   "outputs": [
    {
     "data": {
      "text/markdown": [
       "Tenemos $|N|=n=3$ jugadores: $N=\\left\\{A, B, C\\right\\}$"
      ],
      "text/plain": [
       "<IPython.core.display.Markdown object>"
      ]
     },
     "metadata": {},
     "output_type": "display_data"
    },
    {
     "data": {
      "text/markdown": [
       "Tenemos la funcion caracteristica es: $v=\\left\\{ \\left\\{A, C\\right\\} : 1, \\  \\left\\{B, C\\right\\} : 1, \\  \\left\\{A, B, C\\right\\} : 1\\right\\}$"
      ],
      "text/plain": [
       "<IPython.core.display.Markdown object>"
      ]
     },
     "metadata": {},
     "output_type": "display_data"
    },
    {
     "data": {
      "text/markdown": [
       "Si $i=C$, entonces, $N \\setminus \\{ C \\} = \\left\\{A, B\\right\\}$"
      ],
      "text/plain": [
       "<IPython.core.display.Markdown object>"
      ]
     },
     "metadata": {},
     "output_type": "display_data"
    },
    {
     "data": {
      "text/markdown": [
       "Las coaliciones $S \\subseteq N \\setminus \\{ C \\}$ son:"
      ],
      "text/plain": [
       "<IPython.core.display.Markdown object>"
      ]
     },
     "metadata": {},
     "output_type": "display_data"
    },
    {
     "data": {
      "text/latex": [
       "$\\displaystyle \\emptyset$"
      ],
      "text/plain": [
       "EmptySet"
      ]
     },
     "metadata": {},
     "output_type": "display_data"
    },
    {
     "data": {
      "text/latex": [
       "$\\displaystyle \\left\\{A\\right\\}$"
      ],
      "text/plain": [
       "{A}"
      ]
     },
     "metadata": {},
     "output_type": "display_data"
    },
    {
     "data": {
      "text/latex": [
       "$\\displaystyle \\left\\{B\\right\\}$"
      ],
      "text/plain": [
       "{B}"
      ]
     },
     "metadata": {},
     "output_type": "display_data"
    },
    {
     "data": {
      "text/latex": [
       "$\\displaystyle \\left\\{A, B\\right\\}$"
      ],
      "text/plain": [
       "{A, B}"
      ]
     },
     "metadata": {},
     "output_type": "display_data"
    }
   ],
   "source": [
    "# Ejemlpo del juego de los guantes\n",
    "\"\"\"_summary_\n",
    "El juego de los guantes es un juego cooperativo en el que los jugadores tienen guantes de la \n",
    "mano izquierda y de la mano derecha y el objetivo es formar parejas\n",
    "\"\"\"\n",
    "N_sym = sy.Set('N')\n",
    "S_sym = sy.Set('S')\n",
    "Sp_sym = sy.Set('S')\n",
    "n_sym, s_sym, i_sym = sy.symbols('n s i')\n",
    "v_sym = sy.Function('v')\n",
    "# Crear jugadores del juego\n",
    "n = 3\n",
    "N = sy.FiniteSet('A', 'B', 'C')\n",
    "display(Markdown(f'Tenemos $|N|=n={n}$ jugadores: $N={sy.latex(N)}$'))\n",
    "# Crear funcion caracteristica\n",
    "v = {\n",
    "  sy.FiniteSet('A', 'C'): 1,\n",
    "  sy.FiniteSet('B', 'C'): 1,\n",
    "  sy.FiniteSet('A', 'B', 'C'): 1\n",
    "}\n",
    "i = 'C'\n",
    "N_sin_i = N - sy.FiniteSet(i)\n",
    "\n",
    "R = sy.PowerSet(N_sin_i).rewrite(sy.FiniteSet)\n",
    "\n",
    "display(Markdown(f'Tenemos la funcion caracteristica es: $v={sy.latex(v)}$'))\n",
    "display(Markdown(f'Si $i={i}$, entonces, $N \\\\setminus \\\\{{ {i} \\\\}} = {sy.latex(N_sin_i)}$'))\n",
    "display(Markdown(f'Las coaliciones $S \\\\subseteq N \\\\setminus \\\\{{ {i} \\\\}}$ son:'))\n",
    "for S in R:\n",
    "  display(S)\n",
    "  "
   ]
  },
  {
   "cell_type": "code",
   "execution_count": 98,
   "metadata": {},
   "outputs": [
    {
     "ename": "NotImplementedError",
     "evalue": "\n(Set(S))._contains(i) is not defined. This method, when defined, will\nreceive a sympified object. The method should return True, False, None\nor something that expresses what must be true for the containment of\nthat object in self to be evaluated. If None is returned then a\ngeneric Contains object will be returned by the ``contains`` method.",
     "output_type": "error",
     "traceback": [
      "\u001b[0;31m---------------------------------------------------------------------------\u001b[0m",
      "\u001b[0;31mNotImplementedError\u001b[0m                       Traceback (most recent call last)",
      "\u001b[1;32m/home/fredy/Documents/Unal/IA/proyecto-shap/valores-shapley.ipynb Cell 6\u001b[0m line \u001b[0;36m2\n\u001b[1;32m      <a href='vscode-notebook-cell:/home/fredy/Documents/Unal/IA/proyecto-shap/valores-shapley.ipynb#X13sZmlsZQ%3D%3D?line=0'>1</a>\u001b[0m \u001b[39mfor\u001b[39;00m S \u001b[39min\u001b[39;00m R:\n\u001b[0;32m----> <a href='vscode-notebook-cell:/home/fredy/Documents/Unal/IA/proyecto-shap/valores-shapley.ipynb#X13sZmlsZQ%3D%3D?line=1'>2</a>\u001b[0m   CM \u001b[39m=\u001b[39m (sy\u001b[39m.\u001b[39mfactorial(s_sym) \u001b[39m*\u001b[39m sy\u001b[39m.\u001b[39mfactorial(n_sym\u001b[39m-\u001b[39ms_sym\u001b[39m-\u001b[39m\u001b[39m1\u001b[39m)) \u001b[39m/\u001b[39m sy\u001b[39m.\u001b[39mfactorial(n_sym) \u001b[39m*\u001b[39m (v_sym(sy\u001b[39m.\u001b[39;49mUnion(S_sym, {i_sym})) \u001b[39m-\u001b[39m v_sym(S_sym))\n\u001b[1;32m      <a href='vscode-notebook-cell:/home/fredy/Documents/Unal/IA/proyecto-shap/valores-shapley.ipynb#X13sZmlsZQ%3D%3D?line=2'>3</a>\u001b[0m   display(sy\u001b[39m.\u001b[39mlatex(CM))\n",
      "File \u001b[0;32m/opt/conda/lib/python3.11/site-packages/sympy/sets/sets.py:1310\u001b[0m, in \u001b[0;36mUnion.__new__\u001b[0;34m(cls, *args, **kwargs)\u001b[0m\n\u001b[1;32m   1308\u001b[0m \u001b[39mif\u001b[39;00m evaluate:\n\u001b[1;32m   1309\u001b[0m     args \u001b[39m=\u001b[39m \u001b[39mlist\u001b[39m(\u001b[39mcls\u001b[39m\u001b[39m.\u001b[39m_new_args_filter(args))\n\u001b[0;32m-> 1310\u001b[0m     \u001b[39mreturn\u001b[39;00m simplify_union(args)\n\u001b[1;32m   1312\u001b[0m args \u001b[39m=\u001b[39m \u001b[39mlist\u001b[39m(ordered(args, Set\u001b[39m.\u001b[39m_infimum_key))\n\u001b[1;32m   1314\u001b[0m obj \u001b[39m=\u001b[39m Basic\u001b[39m.\u001b[39m\u001b[39m__new__\u001b[39m(\u001b[39mcls\u001b[39m, \u001b[39m*\u001b[39margs)\n",
      "File \u001b[0;32m/opt/conda/lib/python3.11/site-packages/sympy/sets/sets.py:2545\u001b[0m, in \u001b[0;36msimplify_union\u001b[0;34m(args)\u001b[0m\n\u001b[1;32m   2543\u001b[0m new_args \u001b[39m=\u001b[39m \u001b[39mFalse\u001b[39;00m\n\u001b[1;32m   2544\u001b[0m \u001b[39mfor\u001b[39;00m t \u001b[39min\u001b[39;00m args \u001b[39m-\u001b[39m {s}:\n\u001b[0;32m-> 2545\u001b[0m     new_set \u001b[39m=\u001b[39m union_sets(s, t)\n\u001b[1;32m   2546\u001b[0m     \u001b[39m# This returns None if s does not know how to intersect\u001b[39;00m\n\u001b[1;32m   2547\u001b[0m     \u001b[39m# with t. Returns the newly intersected set otherwise\u001b[39;00m\n\u001b[1;32m   2548\u001b[0m     \u001b[39mif\u001b[39;00m new_set \u001b[39mis\u001b[39;00m \u001b[39mnot\u001b[39;00m \u001b[39mNone\u001b[39;00m:\n",
      "File \u001b[0;32m/opt/conda/lib/python3.11/site-packages/sympy/multipledispatch/dispatcher.py:243\u001b[0m, in \u001b[0;36mDispatcher.__call__\u001b[0;34m(self, *args, **kwargs)\u001b[0m\n\u001b[1;32m    241\u001b[0m     \u001b[39mself\u001b[39m\u001b[39m.\u001b[39m_cache[types] \u001b[39m=\u001b[39m func\n\u001b[1;32m    242\u001b[0m \u001b[39mtry\u001b[39;00m:\n\u001b[0;32m--> 243\u001b[0m     \u001b[39mreturn\u001b[39;00m func(\u001b[39m*\u001b[39;49margs, \u001b[39m*\u001b[39;49m\u001b[39m*\u001b[39;49mkwargs)\n\u001b[1;32m    245\u001b[0m \u001b[39mexcept\u001b[39;00m MDNotImplementedError:\n\u001b[1;32m    246\u001b[0m     funcs \u001b[39m=\u001b[39m \u001b[39mself\u001b[39m\u001b[39m.\u001b[39mdispatch_iter(\u001b[39m*\u001b[39mtypes)\n",
      "File \u001b[0;32m/opt/conda/lib/python3.11/site-packages/sympy/sets/handlers/union.py:140\u001b[0m, in \u001b[0;36m_\u001b[0;34m(a, b)\u001b[0m\n\u001b[1;32m    137\u001b[0m \u001b[39m@union_sets\u001b[39m\u001b[39m.\u001b[39mregister(FiniteSet, Set)\n\u001b[1;32m    138\u001b[0m \u001b[39mdef\u001b[39;00m \u001b[39m_\u001b[39m(a, b):\n\u001b[1;32m    139\u001b[0m     \u001b[39m# If `b` set contains one of my elements, remove it from `a`\u001b[39;00m\n\u001b[0;32m--> 140\u001b[0m     \u001b[39mif\u001b[39;00m \u001b[39many\u001b[39;49m(b\u001b[39m.\u001b[39;49mcontains(x) \u001b[39m==\u001b[39;49m \u001b[39mTrue\u001b[39;49;00m \u001b[39mfor\u001b[39;49;00m x \u001b[39min\u001b[39;49;00m a):\n\u001b[1;32m    141\u001b[0m         \u001b[39mreturn\u001b[39;00m {\n\u001b[1;32m    142\u001b[0m             FiniteSet(\u001b[39m*\u001b[39m[x \u001b[39mfor\u001b[39;00m x \u001b[39min\u001b[39;00m a \u001b[39mif\u001b[39;00m b\u001b[39m.\u001b[39mcontains(x) \u001b[39m!=\u001b[39m \u001b[39mTrue\u001b[39;00m]), b}\n\u001b[1;32m    143\u001b[0m     \u001b[39mreturn\u001b[39;00m \u001b[39mNone\u001b[39;00m\n",
      "File \u001b[0;32m/opt/conda/lib/python3.11/site-packages/sympy/sets/handlers/union.py:140\u001b[0m, in \u001b[0;36m<genexpr>\u001b[0;34m(.0)\u001b[0m\n\u001b[1;32m    137\u001b[0m \u001b[39m@union_sets\u001b[39m\u001b[39m.\u001b[39mregister(FiniteSet, Set)\n\u001b[1;32m    138\u001b[0m \u001b[39mdef\u001b[39;00m \u001b[39m_\u001b[39m(a, b):\n\u001b[1;32m    139\u001b[0m     \u001b[39m# If `b` set contains one of my elements, remove it from `a`\u001b[39;00m\n\u001b[0;32m--> 140\u001b[0m     \u001b[39mif\u001b[39;00m \u001b[39many\u001b[39m(b\u001b[39m.\u001b[39;49mcontains(x) \u001b[39m==\u001b[39m \u001b[39mTrue\u001b[39;00m \u001b[39mfor\u001b[39;00m x \u001b[39min\u001b[39;00m a):\n\u001b[1;32m    141\u001b[0m         \u001b[39mreturn\u001b[39;00m {\n\u001b[1;32m    142\u001b[0m             FiniteSet(\u001b[39m*\u001b[39m[x \u001b[39mfor\u001b[39;00m x \u001b[39min\u001b[39;00m a \u001b[39mif\u001b[39;00m b\u001b[39m.\u001b[39mcontains(x) \u001b[39m!=\u001b[39m \u001b[39mTrue\u001b[39;00m]), b}\n\u001b[1;32m    143\u001b[0m     \u001b[39mreturn\u001b[39;00m \u001b[39mNone\u001b[39;00m\n",
      "File \u001b[0;32m/opt/conda/lib/python3.11/site-packages/sympy/sets/sets.py:344\u001b[0m, in \u001b[0;36mSet.contains\u001b[0;34m(self, other)\u001b[0m\n\u001b[1;32m    341\u001b[0m \u001b[39mfrom\u001b[39;00m \u001b[39m.\u001b[39;00m\u001b[39mcontains\u001b[39;00m \u001b[39mimport\u001b[39;00m Contains\n\u001b[1;32m    342\u001b[0m other \u001b[39m=\u001b[39m sympify(other, strict\u001b[39m=\u001b[39m\u001b[39mTrue\u001b[39;00m)\n\u001b[0;32m--> 344\u001b[0m c \u001b[39m=\u001b[39m \u001b[39mself\u001b[39;49m\u001b[39m.\u001b[39;49m_contains(other)\n\u001b[1;32m    345\u001b[0m \u001b[39mif\u001b[39;00m \u001b[39misinstance\u001b[39m(c, Contains):\n\u001b[1;32m    346\u001b[0m     \u001b[39mreturn\u001b[39;00m c\n",
      "File \u001b[0;32m/opt/conda/lib/python3.11/site-packages/sympy/sets/sets.py:355\u001b[0m, in \u001b[0;36mSet._contains\u001b[0;34m(self, other)\u001b[0m\n\u001b[1;32m    354\u001b[0m \u001b[39mdef\u001b[39;00m \u001b[39m_contains\u001b[39m(\u001b[39mself\u001b[39m, other):\n\u001b[0;32m--> 355\u001b[0m     \u001b[39mraise\u001b[39;00m \u001b[39mNotImplementedError\u001b[39;00m(filldedent(\u001b[39m'''\u001b[39m\n\u001b[1;32m    356\u001b[0m \u001b[39m        (\u001b[39m\u001b[39m%s\u001b[39;00m\u001b[39m)._contains(\u001b[39m\u001b[39m%s\u001b[39;00m\u001b[39m) is not defined. This method, when\u001b[39m\n\u001b[1;32m    357\u001b[0m \u001b[39m        defined, will receive a sympified object. The method\u001b[39m\n\u001b[1;32m    358\u001b[0m \u001b[39m        should return True, False, None or something that\u001b[39m\n\u001b[1;32m    359\u001b[0m \u001b[39m        expresses what must be true for the containment of that\u001b[39m\n\u001b[1;32m    360\u001b[0m \u001b[39m        object in self to be evaluated. If None is returned\u001b[39m\n\u001b[1;32m    361\u001b[0m \u001b[39m        then a generic Contains object will be returned\u001b[39m\n\u001b[1;32m    362\u001b[0m \u001b[39m        by the ``contains`` method.\u001b[39m\u001b[39m'''\u001b[39m \u001b[39m%\u001b[39m (\u001b[39mself\u001b[39m, other)))\n",
      "\u001b[0;31mNotImplementedError\u001b[0m: \n(Set(S))._contains(i) is not defined. This method, when defined, will\nreceive a sympified object. The method should return True, False, None\nor something that expresses what must be true for the containment of\nthat object in self to be evaluated. If None is returned then a\ngeneric Contains object will be returned by the ``contains`` method."
     ]
    }
   ],
   "source": [
    "for S in R:\n",
    "  CM = (sy.factorial(s_sym) * sy.factorial(n_sym-s_sym-1)) / sy.factorial(n_sym) * (v_sym(sy.Union(S_sym, {i_sym})) - v_sym(S_sym))\n",
    "  display(sy.latex(CM))\n"
   ]
  },
  {
   "cell_type": "code",
   "execution_count": 138,
   "metadata": {},
   "outputs": [
    {
     "data": {
      "image/png": "[encoded data removed]",
      "text/latex": [
       "$\\displaystyle \\nu'$"
      ],
      "text/plain": [
       "\\nu'"
      ]
     },
     "metadata": {},
     "output_type": "display_data"
    },
    {
     "data": {
      "image/png": "[encoded data removed]",
      "text/latex": [
       "$\\displaystyle S$"
      ],
      "text/plain": [
       "S"
      ]
     },
     "metadata": {},
     "output_type": "display_data"
    },
    {
     "data": {
      "image/png": "[encoded data removed]",
      "text/latex": [
       "$\\displaystyle S$"
      ],
      "text/plain": [
       "S"
      ]
     },
     "metadata": {},
     "output_type": "display_data"
    },
    {
     "data": {
      "image/png": "[encoded data removed]",
      "text/latex": [
       "$\\displaystyle S + S$"
      ],
      "text/plain": [
       "S + S"
      ]
     },
     "metadata": {},
     "output_type": "display_data"
    }
   ],
   "source": [
    "sy.init_printing(use_latex=True)\n",
    "S = sy.Symbol('S')\n",
    "S_prima = sy.Symbol(\"S^\\prime\")\n",
    "nuprime = sy.symbols(\"\\\\nu'\")\n",
    "display(nuprime)\n",
    "display(S)\n",
    "display(S_prime)\n",
    "display(S+S_prime)"
   ]
  },
  {
   "cell_type": "code",
   "execution_count": 27,
   "metadata": {},
   "outputs": [
    {
     "data": {
      "text/latex": [
       "$\\displaystyle \\left\\{\\emptyset, \\left\\{A\\right\\}, \\left\\{B\\right\\}, \\left\\{A, B\\right\\}\\right\\}$"
      ],
      "text/plain": [
       "FiniteSet(EmptySet, {A}, {B}, {A, B})"
      ]
     },
     "execution_count": 27,
     "metadata": {},
     "output_type": "execute_result"
    }
   ],
   "source": [
    "N_sin_i = N - sy.FiniteSet(i)\n",
    "sy.PowerSet(N_sin_i).rewrite(sy.FiniteSet)\n"
   ]
  },
  {
   "cell_type": "code",
   "execution_count": 25,
   "metadata": {},
   "outputs": [
    {
     "name": "stdout",
     "output_type": "stream",
     "text": [
      "('BC', 'AB')\n",
      "('BC', 'B')\n",
      "('BC', 'C')\n",
      "('BC', 'AC')\n",
      "('BC', 'ABC')\n",
      "('AB', 'B')\n",
      "('AB', 'C')\n",
      "('AB', 'AC')\n",
      "('AB', 'ABC')\n",
      "('B', 'C')\n",
      "('B', 'AC')\n",
      "('B', 'ABC')\n",
      "('C', 'AC')\n",
      "('C', 'ABC')\n",
      "('AC', 'ABC')\n",
      "0\n"
     ]
    }
   ],
   "source": [
    "import itertools\n",
    "shapley_value = 0\n",
    "game = {\n",
    "  \"A\": 10,\n",
    "  \"B\": 10,\n",
    "  \"C\": 10,\n",
    "  \"AB\": 20,\n",
    "  \"AC\": 20,\n",
    "  \"BC\": 20,\n",
    "  \"ABC\": 30\n",
    "}\n",
    "player = \"A\"\n",
    "for coalition in itertools.combinations(game.keys() - {player}, n - 1):\n",
    "\tprint(coalition)\n",
    "print(shapley_value)\n"
   ]
  },
  {
   "cell_type": "code",
   "execution_count": 26,
   "metadata": {},
   "outputs": [
    {
     "name": "stdout",
     "output_type": "stream",
     "text": [
      "{'BC', 'AB', 'B', 'C', 'AC', 'ABC'}\n"
     ]
    }
   ],
   "source": [
    "print(game.keys() - {player})"
   ]
  },
  {
   "cell_type": "markdown",
   "metadata": {},
   "source": []
  },
  {
   "cell_type": "markdown",
   "metadata": {},
   "source": []
  }
 ],
 "metadata": {
  "kernelspec": {
   "display_name": "Python 3 (ipykernel)",
   "language": "python",
   "name": "python3"
  },
  "language_info": {
   "codemirror_mode": {
    "name": "ipython",
    "version": 3
   },
   "file_extension": ".py",
   "mimetype": "text/x-python",
   "name": "python",
   "nbconvert_exporter": "python",
   "pygments_lexer": "ipython3",
   "version": "3.11.6"
  }
 },
 "nbformat": 4,
 "nbformat_minor": 4
}
